{
 "cells": [
  {
   "cell_type": "markdown",
   "id": "ec5d5401-c315-413c-b809-e76e9ff911e4",
   "metadata": {},
   "source": [
    "# Import needed packages"
   ]
  },
  {
   "cell_type": "code",
   "execution_count": 6,
   "id": "3cac055e-ca5e-41d8-ade4-7c2734c28868",
   "metadata": {},
   "outputs": [],
   "source": [
    "import geopandas as gpd\n",
    "import matplotlib.patches as mpatches\n",
    "import contextily as ctx\n",
    "import matplotlib.pyplot as plt\n",
    "import pandas as pd\n",
    "import os\n",
    "#import functions as fn\n",
    "import rasterio\n",
    "from rasterio.plot import show\n",
    "from shapely.ops import unary_union\n",
    "from shapely.validation import make_valid\n",
    "from shapely.ops import nearest_points\n",
    "import numpy as np"
   ]
  },
  {
   "cell_type": "code",
   "execution_count": 7,
   "id": "c5ffc7ef-016f-4cca-b058-67c61628c7ae",
   "metadata": {},
   "outputs": [],
   "source": [
    "year = 2005 #2005 is the base year for the matching process "
   ]
  },
  {
   "cell_type": "code",
   "execution_count": 8,
   "id": "fe9d58f2-49ea-4a4b-a354-4dbba8e79360",
   "metadata": {},
   "outputs": [],
   "source": [
    "#tcc_path = os.path.join(data_folder, f'TCC_Adjusted_Images/TCC_PlantAdjusted_30m_{year}.tif')"
   ]
  },
  {
   "cell_type": "code",
   "execution_count": 9,
   "id": "cf22f2e4-53b2-4ec1-b36d-2c2e12839436",
   "metadata": {},
   "outputs": [],
   "source": [
    "%load_ext autoreload\n",
    "%autoreload 2"
   ]
  },
  {
   "cell_type": "code",
   "execution_count": null,
   "id": "c49e945d-88fe-4a93-9cfc-eb2d37fbec0a",
   "metadata": {},
   "outputs": [],
   "source": [
    "#Clip the tcc raster to exclude areas already designated as CF\n",
    "clipped_raster_path = 'clipped_tcc.tif'\n",
    "root_path ='DISES/Proximity/' #https://drive.google.com/open?id=1x8AejXYD7obyORUxwCOMbnfWt_0D-2fx&usp=drive_fs\n",
    "bpb_path = 'DISES/batched-predictions-branch/' #https://drive.google.com/open?id=1LPejWJ2_0OSd_lDuPcsioi8Vq5d1WQPX&usp=drive_fs\n",
    "\n"
   ]
  },
  {
   "cell_type": "code",
   "execution_count": 5,
   "id": "e7085a07-9c15-4a07-aac8-938954f34575",
   "metadata": {},
   "outputs": [],
   "source": [
    "import rasterio\n",
    "import numpy as np\n",
    "from scipy.ndimage import label, measurements\n",
    "import geopandas as gpd\n",
    "from shapely.geometry import Polygon\n",
    "\n",
    "def filter_raster_by_percentage_and_area(raster_path, percentage, min_area_hectares, return_shapefile=False, output_shapefile_path=None):\n",
    "    \"\"\"\n",
    "    Identifies zones in a raster where pixels exceed a percentage threshold and\n",
    "    have a minimum contiguous area in hectares. Optionally returns a shapefile of the zones.\n",
    "\n",
    "    Parameters:\n",
    "        raster_path (str): Path to the input raster file.\n",
    "        percentage (float): Percentage threshold for pixel values.\n",
    "        min_area_hectares (float): Minimum area of zones to identify, in hectares.\n",
    "        return_shapefile (bool): If True, returns a shapefile of the zones.\n",
    "        output_shapefile_path (str): Path to save the output shapefile (required if return_shapefile is True).\n",
    "\n",
    "    Returns:\n",
    "        numpy.ndarray or None: Binary array with 1 indicating valid zones and 0 otherwise (if return_shapefile is False).\n",
    "    \"\"\"\n",
    "    with rasterio.open(raster_path) as src:\n",
    "        raster_data = src.read(1)  # Read the first band\n",
    "        transform = src.transform\n",
    "\n",
    "        # Calculate pixel area in square meters from raster resolution\n",
    "        pixel_width = src.res[0]  # Width of a pixel in meters\n",
    "        pixel_height = src.res[1]  # Height of a pixel in meters\n",
    "        pixel_area_m2 = pixel_width * pixel_height\n",
    "\n",
    "        # Create a binary mask of pixels exceeding the percentage threshold\n",
    "        binary_mask = raster_data > percentage\n",
    "\n",
    "        structure_4 = np.array([[0, 1, 0], \n",
    "                        [1, 1, 1], \n",
    "                        [0, 1, 0]])\n",
    "        labeled_array, num_features = label(binary_mask, structure=structure_4)  # Use 4-connectivity\n",
    "\n",
    "\n",
    "        # Calculate pixel areas in hectares\n",
    "        min_area_pixels = (min_area_hectares * 10_000) / pixel_area_m2\n",
    "\n",
    "        # Initialize an output mask for valid zones\n",
    "        valid_zones = np.zeros_like(raster_data, dtype=np.uint8)\n",
    "\n",
    "        geometries = []\n",
    "\n",
    "        # Vectorized region processing\n",
    "        region_areas = measurements.sum(binary_mask, labeled_array, index=np.arange(1, num_features + 1))\n",
    "        large_regions = np.where(region_areas >= min_area_pixels)[0] + 1\n",
    "\n",
    "        for region_label in large_regions:\n",
    "            region = labeled_array == region_label\n",
    "            valid_zones[region] = 1\n",
    "\n",
    "            if return_shapefile:\n",
    "                # Create a polygon for the region\n",
    "                mask = (labeled_array == region_label).astype(np.uint8)\n",
    "                shapes = rasterio.features.shapes(mask, transform=transform)\n",
    "                for shape, value in shapes:\n",
    "                    if value == 1:\n",
    "                        geometries.append(Polygon(shape['coordinates'][0]))\n",
    "\n",
    "        if return_shapefile:\n",
    "            if not output_shapefile_path:\n",
    "                raise ValueError(\"Output shapefile path must be provided if return_shapefile is True.\")\n",
    "\n",
    "            # Create a GeoDataFrame from the geometries\n",
    "            gdf = gpd.GeoDataFrame({\"geometry\": geometries}, crs=src.crs)\n",
    "            gdf.to_file(output_shapefile_path, driver=\"ESRI Shapefile\")\n",
    "\n",
    "            return None\n",
    "\n",
    "    return valid_zones"
   ]
  },
  {
   "cell_type": "code",
   "execution_count": null,
   "id": "33441c80-8470-46d7-b9f9-519323ac5107",
   "metadata": {},
   "outputs": [],
   "source": [
    "# Identify forested areas\n",
    "fa_shape_path = os.path.join(bpb_path,'data/KHM/forested_areas', 'fa_70pc_129has_4conn.shp')\n",
    "filter_raster_by_percentage_and_area(clipped_raster_path, percentage=70, min_area_hectares=129, return_shapefile=True, output_shapefile_path=fa_shape_path)"
   ]
  },
  {
   "cell_type": "code",
   "execution_count": null,
   "id": "640bf889-3929-40b9-b0c0-dc09d0e4ab32",
   "metadata": {},
   "outputs": [],
   "source": [
    "#Calculate avergae average level of TC in CFs:\n",
    "avg_value = fn.calculate_average_raster_value(tcc_path, cfs_path)\n",
    "print(f\"Average Value: {avg_value}\")"
   ]
  },
  {
   "cell_type": "markdown",
   "id": "813403ca-62ff-41bd-b05a-9df857e064e2",
   "metadata": {},
   "source": [
    "# Find treatment and control villages\n",
    "\n",
    "- First we find the villages closest to each community forest and we consider those as treatment.\n",
    "- Then we take the treatment villages out and apply different approaches to find the control villages."
   ]
  },
  {
   "cell_type": "code",
   "execution_count": null,
   "id": "2397a828-88b4-44cb-a6d9-fdf2f42e1424",
   "metadata": {},
   "outputs": [],
   "source": [
    "#cfs_path = '/Users/Daniel/Library/CloudStorage/GoogleDrive-dwiesner@sig-gis.com/.shortcut-targets-by-id/1Y83sGckPnURtqsg-y0FRgK1eOjNe7TSz/DISES shared/Boundary and forest cover change sub-groups folder/Boundary Data/Cambodia/CF Boundary Cambodia/Cambodia Shapefile 5-2-2023/All Cambodia 599 CF 5-2-2023/All Cambodia 599 CF 5-2-2023.shp'\n",
    "\n",
    "cfs_path = 'data/All Cambodia 599 CF 5-2-2023/All Cambodia 599 CF 5-2-2023.shp'\n",
    "cfs = gpd.read_file(cfs_path)"
   ]
  },
  {
   "cell_type": "code",
   "execution_count": 4,
   "id": "02969f15-91d9-459c-bf5b-8952b3514b68",
   "metadata": {},
   "outputs": [],
   "source": [
    "crs = cfs.crs"
   ]
  },
  {
   "cell_type": "code",
   "execution_count": null,
   "id": "36566ff5-241a-43ed-9b85-805a6db19b35",
   "metadata": {},
   "outputs": [],
   "source": [
    "#fa_shape_path = os.path.join('/Users/Daniel/Library/CloudStorage/GoogleDrive-dwiesner@sig-gis.com/My Drive/DISES/batched-predictions-branch/data/KHM/forested_areas', 'fa_70pc_129has_4conn.shp')\n",
    "fa_shape_path = os.join.path(root_path, 'data/fa_70pc_129has_4conn.shp')\n",
    "fas = gpd.read_file(fa_shape_path)\n",
    "fas = fas.to_crs(crs)"
   ]
  },
  {
   "cell_type": "code",
   "execution_count": null,
   "id": "654b9056-dbc2-45b0-a716-55f8a89c612a",
   "metadata": {
    "tags": []
   },
   "outputs": [],
   "source": [
    "#Import villages shapefile \n",
    "#vlgs_path = os.path.join('/Users/Daniel/Library/CloudStorage/GoogleDrive-dwiesner@sig-gis.com/.shortcut-targets-by-id/1UFnD8ofHi_4YXqnGCH4FLW8bapLdp4qX/DISES SIG/Dataset Information/Shapefiles/Cambodia_Admin-2015/Villages.shp')\n",
    "vlgs_path = os.join.path(root_path, 'data/KHM-Villages/Villages.shp')\n",
    "vlgs = gpd.read_file(vlgs_path)\n",
    "vlgs['PHUMCODE'] = vlgs['PHUMCODE'].astype(str)\n",
    "#vlgs = fn.exclude_zero_coordinates(vlgs)\n",
    "vlgs = vlgs.to_crs(crs) #Check crs to make sure they are the same"
   ]
  },
  {
   "cell_type": "code",
   "execution_count": null,
   "id": "d6b745f3-84ee-428f-9770-2d3be00cc33c",
   "metadata": {},
   "outputs": [],
   "source": [
    "# Import CPA shapefile\n",
    "\n",
    "cpa = gpd.read_file(os.join.path(root_path, 'data/Community_Protected_Areas_Cambodia/CPA_Shape_31_Aug_2022.shp'))\n",
    "\n",
    "# Add an ID column to the CPA starting from 1 to the total number of rows\n",
    "\n",
    "cpa['CPA_id'] = range(1, len(cpa) + 1)\n",
    "\n",
    "cpa = cpa.to_crs('EPSG:3148')"
   ]
  },
  {
   "cell_type": "code",
   "execution_count": null,
   "id": "0f14c8cc-2583-4887-8f2f-b3b0974b1746",
   "metadata": {},
   "outputs": [],
   "source": [
    "# outputs path\n",
    "\n",
    "outputs_path = os.join.path(root_path, 'data/outputs')"
   ]
  },
  {
   "cell_type": "markdown",
   "id": "a0ba8846-9a3a-47f4-b37d-ba0c3fd32d99",
   "metadata": {},
   "source": [
    "## 1. Find the nearest villages (Daniel's version)"
   ]
  },
  {
   "cell_type": "code",
   "execution_count": null,
   "id": "71c7b086-a1b6-4afc-8be0-439e32b05604",
   "metadata": {},
   "outputs": [],
   "source": [
    "# Helper function to find the nearest village to a geometry\n",
    "def find_nearest(village_gdf, target_geom):\n",
    "    # Find the nearest point in the village dataset to the target geometry\n",
    "    nearest = village_gdf.iloc[village_gdf.distance(target_geom).idxmin()]\n",
    "    return nearest\n",
    "\n",
    "# 1. Find treatment villages (nearest to each CF)\n",
    "treatment_villages = []\n",
    "for _, cf_geom in cfs.iterrows():\n",
    "    nearest_village = find_nearest(vlgs, cf_geom.geometry)\n",
    "    treatment_villages.append(nearest_village)\n",
    "\n",
    "treatment_villages_gdf = gpd.GeoDataFrame(treatment_villages, crs=crs)\n",
    "\n",
    "treatment_path = os.path.join(bpb_path, 'data/KHM/treatment_contor_proximity/treatment_vlgs.shp')\n",
    "\n",
    "treatment_villages_gdf.to_file(treatment_path)"
   ]
  },
  {
   "cell_type": "code",
   "execution_count": 23,
   "id": "ac2dbc3f-848d-456a-be39-eee2ee6c2c4b",
   "metadata": {},
   "outputs": [],
   "source": [
    "#Exclude treatment villages from the dataset\n",
    "vlgs2 = vlgs[~vlgs['PHUMCODE'].isin(treatment_villages_gdf['PHUMCODE'])]"
   ]
  },
  {
   "cell_type": "code",
   "execution_count": 40,
   "id": "4947006e-0fea-4173-9cac-dc698047c771",
   "metadata": {},
   "outputs": [],
   "source": [
    "vlgs2 = vlgs2.reset_index(drop=True)"
   ]
  },
  {
   "cell_type": "markdown",
   "id": "31f2d6c1-4260-4cb8-98cf-fc7d00f5904a",
   "metadata": {},
   "source": [
    "## 1. Find the nearest villages version 2.0\n",
    "\n",
    "This version adds information of the CFs to the treatment villages"
   ]
  },
  {
   "cell_type": "code",
   "execution_count": 9,
   "id": "52fb40e7-f2f7-432d-9a67-f39bf9d3cc39",
   "metadata": {},
   "outputs": [],
   "source": [
    "# Helper function to find the nearest village to a geometry\n",
    "def find_nearest(village_gdf, target_geom):\n",
    "    # Find the nearest point in the village dataset to the target geometry\n",
    "    nearest = village_gdf.iloc[village_gdf.distance(target_geom).idxmin()]\n",
    "    return nearest"
   ]
  },
  {
   "cell_type": "code",
   "execution_count": 10,
   "id": "a5cf8c7c-6829-46c9-b3b3-65250959adc2",
   "metadata": {},
   "outputs": [],
   "source": [
    "# Add an ID column to the CFs starting from 1 to the total number of rows\n",
    "\n",
    "cfs['cf_id'] = range(1, len(cfs) + 1)\n"
   ]
  },
  {
   "cell_type": "code",
   "execution_count": null,
   "id": "e07e60fa-9d9a-4de4-9c9b-897c62dc77a6",
   "metadata": {},
   "outputs": [],
   "source": [
    "#cfs.to_file(os.join.path(root_path, data/All Cambodia 599 CF 5-2-2023/All Cambodia 599 CF 5-2-2023_v2.shp')"
   ]
  },
  {
   "cell_type": "code",
   "execution_count": 11,
   "id": "21a7db95-ef3d-4700-b7e4-9f065eee6ec6",
   "metadata": {},
   "outputs": [
    {
     "name": "stdout",
     "output_type": "stream",
     "text": [
      "CPU times: user 9.54 s, sys: 48.7 ms, total: 9.58 s\n",
      "Wall time: 9.59 s\n"
     ]
    }
   ],
   "source": [
    "%%time\n",
    "treatment_villages = []\n",
    "for _, cf in cfs.iterrows():\n",
    "    nearest_village = find_nearest(vlgs, cf.geometry)\n",
    "    \n",
    "    # Keep all nearest village info and also cf's attributes (excluding its geometry)\n",
    "    merged_info = nearest_village.to_dict()  # Convert village info to dictionary\n",
    "    cf_info = cf.drop(\"geometry\").to_dict()  # Convert CF info, excluding geometry\n",
    "    \n",
    "    # Add CF info to village info\n",
    "    merged_info.update(cf_info)\n",
    "    \n",
    "    treatment_villages.append(merged_info)"
   ]
  },
  {
   "cell_type": "code",
   "execution_count": 12,
   "id": "a01950f9-fbea-4ce9-815b-0ff2a9efe066",
   "metadata": {},
   "outputs": [],
   "source": [
    "# Create GeoDataFrame with the combined data\n",
    "treatment_villages_gdf = gpd.GeoDataFrame(treatment_villages, crs=crs)\n",
    "treatment_villages_gdf = treatment_villages_gdf[['NUMBER', 'PHUMCODE', 'VILLAGE', 'UniqueID', 'CF_Name_En','cf_id', 'geometry']].copy()\n",
    "# Create a new column to identify the treatment villages in further merge processes \n",
    "treatment_villages_gdf['Treatment'] = 1"
   ]
  },
  {
   "cell_type": "code",
   "execution_count": 13,
   "id": "78b0a5f7-2ac2-4a0e-af5e-71ad29a02b28",
   "metadata": {},
   "outputs": [],
   "source": [
    "# Exclude treatment villages from the full village dataset\n",
    "vlgs2 = vlgs[~vlgs['PHUMCODE'].isin(treatment_villages_gdf['PHUMCODE'])].reset_index(drop=True)"
   ]
  },
  {
   "cell_type": "code",
   "execution_count": 14,
   "id": "b8adb3b5-6dbc-4b19-8cd1-8a6d6bba15fc",
   "metadata": {},
   "outputs": [],
   "source": [
    "# Create a df with the equivalences of the CF codes and the village codes\n",
    "\n",
    "cf_id_dict = treatment_villages_gdf[['PHUMCODE', 'cf_id']].copy()\n",
    "cf_id_dict.rename({'PHUMCODE':'treatm_id'}, axis=1, inplace=True)"
   ]
  },
  {
   "cell_type": "code",
   "execution_count": null,
   "id": "f866c9e5-3efe-4185-87bc-ada300e885e6",
   "metadata": {},
   "outputs": [],
   "source": [
    "#treatment_villages_gdf.to_file(os.join.path(root_path, data/treatment_contor_proximity/treatment_vlgs_v2.shp')"
   ]
  },
  {
   "cell_type": "code",
   "execution_count": null,
   "id": "30d17c4b-cca1-438e-95ce-b1872ad82843",
   "metadata": {},
   "outputs": [],
   "source": [
    "#treatment_villages_gdf_v2.to_excel(os.join.path(root_path, data/outputs/treatment_villages/treatment_villages_v2.xlsx', index=False)"
   ]
  },
  {
   "cell_type": "markdown",
   "id": "387daa19-f1c9-40aa-80ca-acb3b50cfa1c",
   "metadata": {},
   "source": [
    "### Check if the closest village to each CF is the one named in the db of CFs-Villages"
   ]
  },
  {
   "cell_type": "code",
   "execution_count": null,
   "id": "0566a15d-8f9c-495c-9482-109db837273f",
   "metadata": {},
   "outputs": [],
   "source": [
    "# import db of CFs-Villages\n",
    "cfs_villages = pd.read_excel(os.join.path(root_path, data/CF and CPA database v2.xlsx', sheet_name='CF data')\n",
    "\n",
    "# Filter only needed variables\n",
    "cfs_villages = cfs_villages[['CF/CPA name ','Village name']].copy()\n"
   ]
  },
  {
   "cell_type": "code",
   "execution_count": 19,
   "id": "dd7e19a8-0ec7-4839-aa70-5036814104ac",
   "metadata": {},
   "outputs": [],
   "source": [
    "# Split the column into multiple columns\n",
    "df_split = cfs_villages['Village name'].str.split(',', expand=True) \n",
    "\n",
    "df_split.columns = [f'Village_{i+1}' for i in range(df_split.shape[1])]\n",
    "\n",
    "# Concatenate with original DataFrame, dropping the old 'Values' column\n",
    "df_final = pd.concat([cfs_villages.drop(columns=['Village name']), df_split], axis=1)"
   ]
  },
  {
   "cell_type": "code",
   "execution_count": 20,
   "id": "e08d9ed2-45dc-427e-abbe-a50f59e49036",
   "metadata": {},
   "outputs": [
    {
     "data": {
      "text/plain": [
       "CF/CPA name     688\n",
       "Village_1       423\n",
       "Village_2        24\n",
       "Village_3        15\n",
       "Village_4         8\n",
       "Village_5         3\n",
       "Village_6         1\n",
       "Village_7         1\n",
       "dtype: int64"
      ]
     },
     "execution_count": 20,
     "metadata": {},
     "output_type": "execute_result"
    }
   ],
   "source": [
    "df_final.nunique()"
   ]
  },
  {
   "cell_type": "code",
   "execution_count": 21,
   "id": "345b313a-edf2-42fc-a3e7-f30b7cd01a30",
   "metadata": {},
   "outputs": [
    {
     "name": "stdout",
     "output_type": "stream",
     "text": [
      "There are 688 community forests and 475 villages\n"
     ]
    }
   ],
   "source": [
    "print('There are 688 community forests and 475 villages')"
   ]
  },
  {
   "cell_type": "code",
   "execution_count": 22,
   "id": "e6e37367-62f5-4340-aa5f-ff9ccb979023",
   "metadata": {},
   "outputs": [],
   "source": [
    "# Merge both treatment villages and the db of CFs-Villages\n",
    "\n",
    "villages_merge = treatment_villages_gdf.merge(df_final, left_on='CF_Name_En', right_on='CF/CPA name ', how='left', indicator=True)"
   ]
  },
  {
   "cell_type": "code",
   "execution_count": 23,
   "id": "16b19088-1f5d-46f7-a1ca-1d26ba02cb77",
   "metadata": {},
   "outputs": [
    {
     "data": {
      "text/plain": [
       "same\n",
       "False    534\n",
       "True      76\n",
       "Name: count, dtype: int64"
      ]
     },
     "execution_count": 23,
     "metadata": {},
     "output_type": "execute_result"
    }
   ],
   "source": [
    "# Add a new column that checks if values in 'column1' are the same as 'column2'\n",
    "villages_merge['same'] = villages_merge['VILLAGE'] == villages_merge['Village_1']\n",
    "villages_merge['same'].value_counts()"
   ]
  },
  {
   "cell_type": "code",
   "execution_count": 24,
   "id": "602ccf12-90a5-4883-af45-3729af6a4639",
   "metadata": {},
   "outputs": [
    {
     "data": {
      "text/plain": [
       "352"
      ]
     },
     "execution_count": 24,
     "metadata": {},
     "output_type": "execute_result"
    }
   ],
   "source": [
    "# See only the villages contained in both datasets\n",
    "villages_merge[villages_merge['_merge']=='both']['PHUMCODE'].nunique()"
   ]
  },
  {
   "cell_type": "code",
   "execution_count": 25,
   "id": "5032fcbd-a218-43e5-a6ad-e391cb9586f1",
   "metadata": {},
   "outputs": [
    {
     "name": "stdout",
     "output_type": "stream",
     "text": [
      "Only 352 treatment villages are also in the db of villages\n"
     ]
    }
   ],
   "source": [
    "print('Only 352 treatment villages are also in the db of villages')"
   ]
  },
  {
   "cell_type": "code",
   "execution_count": 26,
   "id": "bc3c9575-2515-4b4d-90a8-399f08d0baf5",
   "metadata": {},
   "outputs": [
    {
     "name": "stdout",
     "output_type": "stream",
     "text": [
      "Only 76 villages are the same in both datasets\n"
     ]
    }
   ],
   "source": [
    "print('Only 76 villages are the same in both datasets')"
   ]
  },
  {
   "cell_type": "code",
   "execution_count": 27,
   "id": "b7a0a0ce-c95b-407d-8f39-19bae295177f",
   "metadata": {},
   "outputs": [],
   "source": [
    "cols_to_nan = ['Village_1', 'Village_2', 'Village_3','Village_4', 'Village_5', 'Village_6', 'Village_7']"
   ]
  },
  {
   "cell_type": "code",
   "execution_count": 28,
   "id": "ea17e0a2-e3e3-4fee-aba9-5b7b4899383e",
   "metadata": {},
   "outputs": [
    {
     "name": "stderr",
     "output_type": "stream",
     "text": [
      "/var/folders/rg/s4kgtnsx69j8kmy5pyg5ngrm0000gn/T/ipykernel_34540/2348779144.py:1: FutureWarning: Downcasting object dtype arrays on .fillna, .ffill, .bfill is deprecated and will change in a future version. Call result.infer_objects(copy=False) instead. To opt-in to the future behavior, set `pd.set_option('future.no_silent_downcasting', True)`\n",
      "  villages_merge[cols_to_nan] = (villages_merge[cols_to_nan].fillna(np.nan))\n"
     ]
    }
   ],
   "source": [
    "villages_merge[cols_to_nan] = (villages_merge[cols_to_nan].fillna(np.nan))"
   ]
  },
  {
   "cell_type": "code",
   "execution_count": 29,
   "id": "2d4e02c6-1572-4c6f-bfcd-31158f93f98d",
   "metadata": {},
   "outputs": [],
   "source": [
    "villages_merge['_merge'] = villages_merge['_merge'].astype(str)"
   ]
  },
  {
   "cell_type": "code",
   "execution_count": 219,
   "id": "e7852d76-52ad-43dc-a4ae-a3dd53c3121c",
   "metadata": {},
   "outputs": [],
   "source": [
    "#villages_merge.to_excel(outputs_path + '/villages_comparison/villages_comparison.xlsx', index=False)"
   ]
  },
  {
   "cell_type": "markdown",
   "id": "49c33ff0-95f8-4acb-9745-b1b9d7bd91d1",
   "metadata": {},
   "source": [
    "## 2. Find control villages (nearest to each CF)"
   ]
  },
  {
   "cell_type": "markdown",
   "id": "61ff2f3b-7cbe-44c9-b62c-6282d7640ebd",
   "metadata": {},
   "source": [
    "### Relevant functions"
   ]
  },
  {
   "cell_type": "code",
   "execution_count": 15,
   "id": "be21a06c-7fff-453b-a8c1-d3427b0e9cf8",
   "metadata": {},
   "outputs": [],
   "source": [
    "# Function to calculate distance to nearest geometry and add it as a column\n",
    "def calculate_distances(gdf1, gdf2, name):\n",
    "    \"\"\"\n",
    "    Calculates the distance from each geometry in gdf1 to the closest geometry in gdf2.\n",
    "\n",
    "    Parameters:\n",
    "        gdf1 (GeoDataFrame): GeoDataFrame containing geometries to calculate distances for.\n",
    "        gdf2 (GeoDataFrame): GeoDataFrame containing target geometries to calculate distances to.\n",
    "\n",
    "    Returns:\n",
    "        GeoDataFrame: Updated gdf1 with a new column 'nearest_distance' containing distances in meters.\n",
    "    \"\"\"\n",
    "    # Ensure both GeoDataFrames have the same CRS\n",
    "    if gdf1.crs != gdf2.crs:\n",
    "        gdf2 = gdf2.to_crs(gdf1.crs)\n",
    "\n",
    "    # Calculate distances to the nearest geometry in gdf2 for each geometry in gdf1\n",
    "    distances = gdf1.geometry.apply(lambda geom: gdf2.geometry.distance(geom).min())\n",
    "\n",
    "    # Add distances as a new column in gdf1\n",
    "    gdf1[name] = distances\n",
    "\n",
    "    return gdf1"
   ]
  },
  {
   "cell_type": "markdown",
   "id": "ba74ba0a-a404-473f-8dde-77403a9ee61f",
   "metadata": {},
   "source": [
    "### Define forests"
   ]
  },
  {
   "cell_type": "code",
   "execution_count": 16,
   "id": "8cf0b145-3777-4381-984a-86ca5a5c04bf",
   "metadata": {},
   "outputs": [],
   "source": [
    "from shapely.validation import make_valid\n",
    "# Validate geometries to avoid topology errors\n",
    "cfs['geometry'] = cfs['geometry'].apply(make_valid)\n",
    "fas['geometry'] = fas['geometry'].apply(make_valid)"
   ]
  },
  {
   "cell_type": "code",
   "execution_count": 17,
   "id": "5269abe4-2753-436f-8b07-ca3cff9d99da",
   "metadata": {},
   "outputs": [],
   "source": [
    "gdf1 = cfs[['CF_Code', 'geometry']]\n",
    "gdf1.columns = ['FID', 'geometry']"
   ]
  },
  {
   "cell_type": "code",
   "execution_count": 18,
   "id": "4c7bdcc2-e0d7-4e7f-9ad1-cf6751fa84a7",
   "metadata": {},
   "outputs": [],
   "source": [
    "gdf2 = fas.copy(deep=True)"
   ]
  },
  {
   "cell_type": "code",
   "execution_count": 19,
   "id": "f8fc1460-2993-4486-85a0-963dc1fe3e22",
   "metadata": {},
   "outputs": [],
   "source": [
    "forests = pd.concat([gdf1, gdf2])\n",
    "forests = forests.reset_index(drop=True)"
   ]
  },
  {
   "cell_type": "markdown",
   "id": "33ec8287-8e01-4622-bdcc-f1e54dde13a4",
   "metadata": {},
   "source": [
    "### Import Treatment villages\n",
    "\n",
    "(This corresponds to treatmente villages already created with 1. Find the nearest villages)"
   ]
  },
  {
   "cell_type": "code",
   "execution_count": null,
   "id": "591da10c-0ad0-43ca-a320-04f858e98b65",
   "metadata": {},
   "outputs": [],
   "source": [
    "# Load data\n",
    "treatment_path = os.join.path(root_path, 'data/treatment_contor_proximity/treatment_vlgs.shp')  # Treatment villag\n",
    "treatment_villages_gdf = gpd.read_file(treatment_path)\n",
    "\n",
    "# Create a new column to identify the treatment villages in further merge processes \n",
    "treatment_villages_gdf['Treatment'] = 1"
   ]
  },
  {
   "cell_type": "markdown",
   "id": "32f82e87-29f5-4379-abc5-2ce10adf796f",
   "metadata": {},
   "source": [
    "### Original Approach\n",
    "Find the villages closest to either a CF or an FA, and consider them control. "
   ]
  },
  {
   "cell_type": "code",
   "execution_count": 46,
   "id": "9b263832-0c81-41d8-affe-1f95fd8a72a7",
   "metadata": {},
   "outputs": [],
   "source": [
    "# 1. Find treatment villages (nearest to each CF)\n",
    "control_villages = []\n",
    "\n",
    "for _, f_geom in forests.iterrows():\n",
    "    nearest_village = find_nearest(vlgs2, f_geom.geometry)\n",
    "    control_villages.append(nearest_village)"
   ]
  },
  {
   "cell_type": "code",
   "execution_count": 49,
   "id": "995d903e-269d-4556-a030-768754f40419",
   "metadata": {},
   "outputs": [],
   "source": [
    "control_villages_gdf = gpd.GeoDataFrame(control_villages, crs=crs)"
   ]
  },
  {
   "cell_type": "code",
   "execution_count": null,
   "id": "9217523a-82a6-403b-bdd7-1fc2e04f4882",
   "metadata": {
    "tags": []
   },
   "outputs": [],
   "source": [
    "control_path = os.path.join(bpb_path, 'data/KHM/treatment_contor_proximity/control_vlgs.shp')\n",
    "control_villages_gdf.to_file(control_path)"
   ]
  },
  {
   "cell_type": "code",
   "execution_count": 75,
   "id": "35efb353-215c-401e-a286-1db7f634fe01",
   "metadata": {},
   "outputs": [],
   "source": [
    "#Create a gdf with treatment and control villages only\n",
    "#treatment_villages_gdf['Treatment'] = 1\n",
    "control_villages_gdf['Treatment'] = 0\n",
    "\n",
    "vlgs3 = pd.concat([treatment_villages_gdf, control_villages_gdf])\n",
    "\n",
    "vlgs3 = vlgs3.reset_index(drop=True)\n",
    "\n",
    "vlgs3 = vlgs3[['NUMBER', 'PHUMCODE', 'VILLAGE', 'geometry',\n",
    "       'Treatment']]"
   ]
  },
  {
   "cell_type": "markdown",
   "id": "9029229d-8e1f-47a2-893b-a1820f41e9b6",
   "metadata": {},
   "source": [
    "#### Calculate distances from treatment and control villages"
   ]
  },
  {
   "cell_type": "code",
   "execution_count": 77,
   "id": "8a222047-74ca-4565-b49c-e962f7910b6d",
   "metadata": {},
   "outputs": [],
   "source": [
    "vlgs3 = calculate_distances(vlgs3, cfs, 'dist_cf_m')"
   ]
  },
  {
   "cell_type": "code",
   "execution_count": 79,
   "id": "7bc9510b-19d5-49ba-8fe3-ea6512469e7c",
   "metadata": {},
   "outputs": [],
   "source": [
    "vlgs3 = calculate_distances(vlgs3, fas, 'dist_fa_m')"
   ]
  },
  {
   "cell_type": "code",
   "execution_count": 80,
   "id": "d6cd48f4-2759-44a4-8941-b93701eee0ed",
   "metadata": {},
   "outputs": [],
   "source": [
    "vlgs3 = calculate_distances(vlgs3, forests, 'dist_forest_m')"
   ]
  },
  {
   "cell_type": "code",
   "execution_count": 89,
   "id": "dda7346b-a7c8-4c77-bc57-93a08dadede2",
   "metadata": {},
   "outputs": [
    {
     "data": {
      "text/html": [
       "<div>\n",
       "<style scoped>\n",
       "    .dataframe tbody tr th:only-of-type {\n",
       "        vertical-align: middle;\n",
       "    }\n",
       "\n",
       "    .dataframe tbody tr th {\n",
       "        vertical-align: top;\n",
       "    }\n",
       "\n",
       "    .dataframe thead th {\n",
       "        text-align: right;\n",
       "    }\n",
       "</style>\n",
       "<table border=\"1\" class=\"dataframe\">\n",
       "  <thead>\n",
       "    <tr style=\"text-align: right;\">\n",
       "      <th></th>\n",
       "      <th>Treatment</th>\n",
       "      <th>0</th>\n",
       "      <th>1</th>\n",
       "    </tr>\n",
       "  </thead>\n",
       "  <tbody>\n",
       "    <tr>\n",
       "      <th rowspan=\"8\" valign=\"top\">dist_cf_m</th>\n",
       "      <th>count</th>\n",
       "      <td>982.00</td>\n",
       "      <td>598.00</td>\n",
       "    </tr>\n",
       "    <tr>\n",
       "      <th>mean</th>\n",
       "      <td>9852.79</td>\n",
       "      <td>1601.89</td>\n",
       "    </tr>\n",
       "    <tr>\n",
       "      <th>std</th>\n",
       "      <td>17790.72</td>\n",
       "      <td>1364.02</td>\n",
       "    </tr>\n",
       "    <tr>\n",
       "      <th>min</th>\n",
       "      <td>0.00</td>\n",
       "      <td>0.00</td>\n",
       "    </tr>\n",
       "    <tr>\n",
       "      <th>25%</th>\n",
       "      <td>1838.67</td>\n",
       "      <td>667.67</td>\n",
       "    </tr>\n",
       "    <tr>\n",
       "      <th>50%</th>\n",
       "      <td>3015.86</td>\n",
       "      <td>1268.91</td>\n",
       "    </tr>\n",
       "    <tr>\n",
       "      <th>75%</th>\n",
       "      <td>9182.92</td>\n",
       "      <td>2169.25</td>\n",
       "    </tr>\n",
       "    <tr>\n",
       "      <th>max</th>\n",
       "      <td>102656.87</td>\n",
       "      <td>9613.98</td>\n",
       "    </tr>\n",
       "    <tr>\n",
       "      <th rowspan=\"8\" valign=\"top\">dist_fa_m</th>\n",
       "      <th>count</th>\n",
       "      <td>982.00</td>\n",
       "      <td>598.00</td>\n",
       "    </tr>\n",
       "    <tr>\n",
       "      <th>mean</th>\n",
       "      <td>16360.28</td>\n",
       "      <td>23963.89</td>\n",
       "    </tr>\n",
       "    <tr>\n",
       "      <th>std</th>\n",
       "      <td>18446.15</td>\n",
       "      <td>20139.60</td>\n",
       "    </tr>\n",
       "    <tr>\n",
       "      <th>min</th>\n",
       "      <td>0.00</td>\n",
       "      <td>231.33</td>\n",
       "    </tr>\n",
       "    <tr>\n",
       "      <th>25%</th>\n",
       "      <td>4181.37</td>\n",
       "      <td>10051.96</td>\n",
       "    </tr>\n",
       "    <tr>\n",
       "      <th>50%</th>\n",
       "      <td>9899.75</td>\n",
       "      <td>18191.17</td>\n",
       "    </tr>\n",
       "    <tr>\n",
       "      <th>75%</th>\n",
       "      <td>21988.08</td>\n",
       "      <td>32477.26</td>\n",
       "    </tr>\n",
       "    <tr>\n",
       "      <th>max</th>\n",
       "      <td>164809.80</td>\n",
       "      <td>165894.83</td>\n",
       "    </tr>\n",
       "    <tr>\n",
       "      <th rowspan=\"8\" valign=\"top\">dist_forest_m</th>\n",
       "      <th>count</th>\n",
       "      <td>982.00</td>\n",
       "      <td>598.00</td>\n",
       "    </tr>\n",
       "    <tr>\n",
       "      <th>mean</th>\n",
       "      <td>2980.22</td>\n",
       "      <td>1565.88</td>\n",
       "    </tr>\n",
       "    <tr>\n",
       "      <th>std</th>\n",
       "      <td>2303.01</td>\n",
       "      <td>1312.31</td>\n",
       "    </tr>\n",
       "    <tr>\n",
       "      <th>min</th>\n",
       "      <td>0.00</td>\n",
       "      <td>0.00</td>\n",
       "    </tr>\n",
       "    <tr>\n",
       "      <th>25%</th>\n",
       "      <td>1458.46</td>\n",
       "      <td>667.01</td>\n",
       "    </tr>\n",
       "    <tr>\n",
       "      <th>50%</th>\n",
       "      <td>2443.00</td>\n",
       "      <td>1256.55</td>\n",
       "    </tr>\n",
       "    <tr>\n",
       "      <th>75%</th>\n",
       "      <td>3747.90</td>\n",
       "      <td>2146.96</td>\n",
       "    </tr>\n",
       "    <tr>\n",
       "      <th>max</th>\n",
       "      <td>15514.30</td>\n",
       "      <td>9613.98</td>\n",
       "    </tr>\n",
       "  </tbody>\n",
       "</table>\n",
       "</div>"
      ],
      "text/plain": [
       "Treatment                    0          1\n",
       "dist_cf_m     count     982.00     598.00\n",
       "              mean     9852.79    1601.89\n",
       "              std     17790.72    1364.02\n",
       "              min         0.00       0.00\n",
       "              25%      1838.67     667.67\n",
       "              50%      3015.86    1268.91\n",
       "              75%      9182.92    2169.25\n",
       "              max    102656.87    9613.98\n",
       "dist_fa_m     count     982.00     598.00\n",
       "              mean    16360.28   23963.89\n",
       "              std     18446.15   20139.60\n",
       "              min         0.00     231.33\n",
       "              25%      4181.37   10051.96\n",
       "              50%      9899.75   18191.17\n",
       "              75%     21988.08   32477.26\n",
       "              max    164809.80  165894.83\n",
       "dist_forest_m count     982.00     598.00\n",
       "              mean     2980.22    1565.88\n",
       "              std      2303.01    1312.31\n",
       "              min         0.00       0.00\n",
       "              25%      1458.46     667.01\n",
       "              50%      2443.00    1256.55\n",
       "              75%      3747.90    2146.96\n",
       "              max     15514.30    9613.98"
      ]
     },
     "execution_count": 89,
     "metadata": {},
     "output_type": "execute_result"
    }
   ],
   "source": [
    "vlgs3.drop(['NUMBER', 'PHUMCODE'], axis=1).groupby('Treatment').describe().round(2).transpose()"
   ]
  },
  {
   "cell_type": "markdown",
   "id": "c85531b4-887f-45c1-8325-06b4bdc16c9c",
   "metadata": {},
   "source": [
    "### New Approaches"
   ]
  },
  {
   "attachments": {},
   "cell_type": "markdown",
   "id": "3d4194ed-c143-48a8-9383-95c02bf8f22c",
   "metadata": {},
   "source": [
    "### Approach 2\n",
    "\n",
    "From the CFs, pick villages that are at least 5km away but less than 10kms away as control"
   ]
  },
  {
   "cell_type": "code",
   "execution_count": 40,
   "id": "c64db530-820f-484b-b86c-f5868993b840",
   "metadata": {},
   "outputs": [
    {
     "name": "stdout",
     "output_type": "stream",
     "text": [
      "CPU times: user 382 ms, sys: 33 ms, total: 415 ms\n",
      "Wall time: 439 ms\n"
     ]
    }
   ],
   "source": [
    "%%time\n",
    "# Step 1: Create buffers for 5 km and 10 km\n",
    "cfs_buffer_5km = cfs.copy()\n",
    "cfs_buffer_5km['geometry'] = cfs_buffer_5km.geometry.buffer(5000)\n",
    "\n",
    "cfs_buffer_10km = cfs.copy()\n",
    "cfs_buffer_10km['geometry'] = cfs_buffer_10km.geometry.buffer(10000)"
   ]
  },
  {
   "cell_type": "code",
   "execution_count": 41,
   "id": "54ee14f9-25c6-4d1f-bf76-c7f259c41152",
   "metadata": {},
   "outputs": [],
   "source": [
    "# Step 2: Find villages within the 10 km buffer\n",
    "villages_within_10km = gpd.sjoin(vlgs2, cfs_buffer_10km, predicate='within')"
   ]
  },
  {
   "cell_type": "code",
   "execution_count": 42,
   "id": "46108f32-33de-49e5-bcda-b4e645965c6c",
   "metadata": {},
   "outputs": [],
   "source": [
    "# Step 3: Find villages within the 5 km buffer\n",
    "villages_within_5km = gpd.sjoin(vlgs2, cfs_buffer_5km, predicate='within')"
   ]
  },
  {
   "cell_type": "code",
   "execution_count": 43,
   "id": "454dfb57-8344-4507-a536-bd81ebf55ca7",
   "metadata": {},
   "outputs": [],
   "source": [
    "# Step 4: Exclude villages within the 5 km buffer from those within 10 km\n",
    "control_villages_appch2 = villages_within_10km[~villages_within_10km['PHUMCODE'].isin(villages_within_5km['PHUMCODE'])].reset_index(drop=True)"
   ]
  },
  {
   "cell_type": "code",
   "execution_count": 44,
   "id": "54375025-137e-474f-86b7-8af25feb5861",
   "metadata": {},
   "outputs": [],
   "source": [
    "# Step 5: Calculate distance from the village to the each community forest whose buffer contains the village\n",
    "    # This seeks to select the CFs that is closest to each village \n",
    "\n",
    "    # Merge the two geometries (villages and community forests)\n",
    "control_villages_appch2 = control_villages_appch2.merge(cfs[['cf_id','geometry']], on=\"cf_id\", suffixes=(\"_village\", \"_forest\"))\n",
    "\n",
    "    # Convert to GeoDataFrame \n",
    "control_villages_appch2 = gpd.GeoDataFrame(control_villages_appch2, geometry=\"geometry_village\")\n",
    "\n",
    "    # Calculate distance between both geometries \n",
    "control_villages_appch2[\"distance_to_forest\"] = control_villages_appch2[\"geometry_village\"].distance(gpd.GeoSeries(control_villages_appch2[\"geometry_forest\"], crs=control_villages_appch2.crs))"
   ]
  },
  {
   "cell_type": "code",
   "execution_count": 45,
   "id": "26f538b1-3ba3-4426-aaa5-3adda6a53723",
   "metadata": {},
   "outputs": [],
   "source": [
    "# Step 6: Keep the village with the shortest distance to a CF\n",
    "\n",
    "control_villages_appch2 = control_villages_appch2.sort_values(by=[\"cf_id\", \"distance_to_forest\"]).drop_duplicates(subset='PHUMCODE', keep='first').reset_index(drop=True)"
   ]
  },
  {
   "cell_type": "code",
   "execution_count": 46,
   "id": "7caf8a7e-bb37-4cc7-a992-e9122acc4f76",
   "metadata": {},
   "outputs": [],
   "source": [
    "# Step 7: Arrange dataset\n",
    "\n",
    "    # Add treatment village id\n",
    "control_villages_appch2 = control_villages_appch2.merge(cf_id_dict, on='cf_id', how='left')\n",
    "\n",
    "    # Select only necessary variables \n",
    "\n",
    "control_villages_appch2 = control_villages_appch2[['PHUMCODE', 'VILLAGE', 'cf_id', 'distance_to_forest', 'treatm_id', 'geometry_village']].copy()\n",
    "\n",
    "    # Rename column to standardize\n",
    "control_villages_appch2.rename({'geometry_village':'geometry', 'distance_to_forest':'dist_forst'}, axis=1, inplace=True)\n",
    "\n",
    "    # Convert to GeoDataFrame \n",
    "control_villages_appch2 = gpd.GeoDataFrame(control_villages_appch2, geometry=\"geometry\", crs=vlgs.crs)"
   ]
  },
  {
   "cell_type": "markdown",
   "id": "78fea9ea-b62d-4825-99e5-d5288fa84971",
   "metadata": {},
   "source": [
    "#### Calculate distances from treatment and control villages"
   ]
  },
  {
   "cell_type": "code",
   "execution_count": 47,
   "id": "7dff6165-b757-4a7b-a5b7-9d4c8b08cc0d",
   "metadata": {},
   "outputs": [],
   "source": [
    "#Create a gdf with treatment and control villages only\n",
    "control_villages_appch2['Treatment'] = 0\n",
    "\n",
    "vlgs_appch2 = pd.concat([treatment_villages_gdf, control_villages_appch2])\n",
    "\n",
    "vlgs_appch2 = vlgs_appch2.reset_index(drop=True)\n",
    "\n",
    "vlgs_appch2 = vlgs_appch2[['PHUMCODE', 'VILLAGE','Treatment','treatm_id', 'cf_id','geometry']]"
   ]
  },
  {
   "cell_type": "code",
   "execution_count": 48,
   "id": "2a353ff5-f473-4196-94d8-df730ce814a3",
   "metadata": {},
   "outputs": [
    {
     "name": "stdout",
     "output_type": "stream",
     "text": [
      "CPU times: user 1min 13s, sys: 429 ms, total: 1min 14s\n",
      "Wall time: 1min 15s\n"
     ]
    }
   ],
   "source": [
    "%%time\n",
    "# Calculate the distance between the village and the community forest\n",
    "vlgs_appch2 = calculate_distances(vlgs_appch2, cfs, 'dist_cf_m')\n",
    "\n",
    "# Calculate the distance between the village and the FAS\n",
    "vlgs_appch2 = calculate_distances(vlgs_appch2, fas, 'dist_fa_m')\n",
    "\n",
    "# Calculate the distance between the village and any type of forest\n",
    "vlgs_appch2 = calculate_distances(vlgs_appch2, forests, 'dist_forest_m')"
   ]
  },
  {
   "cell_type": "code",
   "execution_count": 49,
   "id": "cb647252-1237-4758-823d-a2f8674c10c9",
   "metadata": {},
   "outputs": [
    {
     "data": {
      "text/html": [
       "<div>\n",
       "<style scoped>\n",
       "    .dataframe tbody tr th:only-of-type {\n",
       "        vertical-align: middle;\n",
       "    }\n",
       "\n",
       "    .dataframe tbody tr th {\n",
       "        vertical-align: top;\n",
       "    }\n",
       "\n",
       "    .dataframe thead th {\n",
       "        text-align: right;\n",
       "    }\n",
       "</style>\n",
       "<table border=\"1\" class=\"dataframe\">\n",
       "  <thead>\n",
       "    <tr style=\"text-align: right;\">\n",
       "      <th></th>\n",
       "      <th>Treatment</th>\n",
       "      <th>0</th>\n",
       "      <th>1</th>\n",
       "    </tr>\n",
       "  </thead>\n",
       "  <tbody>\n",
       "    <tr>\n",
       "      <th rowspan=\"8\" valign=\"top\">dist_cf_m</th>\n",
       "      <th>count</th>\n",
       "      <td>2486.00</td>\n",
       "      <td>598.00</td>\n",
       "    </tr>\n",
       "    <tr>\n",
       "      <th>mean</th>\n",
       "      <td>7288.56</td>\n",
       "      <td>1601.89</td>\n",
       "    </tr>\n",
       "    <tr>\n",
       "      <th>std</th>\n",
       "      <td>1429.25</td>\n",
       "      <td>1364.02</td>\n",
       "    </tr>\n",
       "    <tr>\n",
       "      <th>min</th>\n",
       "      <td>4995.66</td>\n",
       "      <td>0.00</td>\n",
       "    </tr>\n",
       "    <tr>\n",
       "      <th>25%</th>\n",
       "      <td>6039.79</td>\n",
       "      <td>667.67</td>\n",
       "    </tr>\n",
       "    <tr>\n",
       "      <th>50%</th>\n",
       "      <td>7158.69</td>\n",
       "      <td>1268.91</td>\n",
       "    </tr>\n",
       "    <tr>\n",
       "      <th>75%</th>\n",
       "      <td>8488.22</td>\n",
       "      <td>2169.25</td>\n",
       "    </tr>\n",
       "    <tr>\n",
       "      <th>max</th>\n",
       "      <td>9992.29</td>\n",
       "      <td>9613.98</td>\n",
       "    </tr>\n",
       "    <tr>\n",
       "      <th rowspan=\"8\" valign=\"top\">dist_fa_m</th>\n",
       "      <th>count</th>\n",
       "      <td>2486.00</td>\n",
       "      <td>598.00</td>\n",
       "    </tr>\n",
       "    <tr>\n",
       "      <th>mean</th>\n",
       "      <td>41097.08</td>\n",
       "      <td>23963.89</td>\n",
       "    </tr>\n",
       "    <tr>\n",
       "      <th>std</th>\n",
       "      <td>28463.81</td>\n",
       "      <td>20139.60</td>\n",
       "    </tr>\n",
       "    <tr>\n",
       "      <th>min</th>\n",
       "      <td>0.00</td>\n",
       "      <td>231.33</td>\n",
       "    </tr>\n",
       "    <tr>\n",
       "      <th>25%</th>\n",
       "      <td>23006.50</td>\n",
       "      <td>10051.96</td>\n",
       "    </tr>\n",
       "    <tr>\n",
       "      <th>50%</th>\n",
       "      <td>38602.40</td>\n",
       "      <td>18191.17</td>\n",
       "    </tr>\n",
       "    <tr>\n",
       "      <th>75%</th>\n",
       "      <td>52297.43</td>\n",
       "      <td>32477.26</td>\n",
       "    </tr>\n",
       "    <tr>\n",
       "      <th>max</th>\n",
       "      <td>173696.29</td>\n",
       "      <td>165894.83</td>\n",
       "    </tr>\n",
       "    <tr>\n",
       "      <th rowspan=\"8\" valign=\"top\">dist_forest_m</th>\n",
       "      <th>count</th>\n",
       "      <td>2486.00</td>\n",
       "      <td>598.00</td>\n",
       "    </tr>\n",
       "    <tr>\n",
       "      <th>mean</th>\n",
       "      <td>7123.59</td>\n",
       "      <td>1565.88</td>\n",
       "    </tr>\n",
       "    <tr>\n",
       "      <th>std</th>\n",
       "      <td>1589.73</td>\n",
       "      <td>1312.31</td>\n",
       "    </tr>\n",
       "    <tr>\n",
       "      <th>min</th>\n",
       "      <td>0.00</td>\n",
       "      <td>0.00</td>\n",
       "    </tr>\n",
       "    <tr>\n",
       "      <th>25%</th>\n",
       "      <td>5923.86</td>\n",
       "      <td>667.01</td>\n",
       "    </tr>\n",
       "    <tr>\n",
       "      <th>50%</th>\n",
       "      <td>7022.66</td>\n",
       "      <td>1256.55</td>\n",
       "    </tr>\n",
       "    <tr>\n",
       "      <th>75%</th>\n",
       "      <td>8378.98</td>\n",
       "      <td>2146.96</td>\n",
       "    </tr>\n",
       "    <tr>\n",
       "      <th>max</th>\n",
       "      <td>9992.29</td>\n",
       "      <td>9613.98</td>\n",
       "    </tr>\n",
       "  </tbody>\n",
       "</table>\n",
       "</div>"
      ],
      "text/plain": [
       "Treatment                    0          1\n",
       "dist_cf_m     count    2486.00     598.00\n",
       "              mean     7288.56    1601.89\n",
       "              std      1429.25    1364.02\n",
       "              min      4995.66       0.00\n",
       "              25%      6039.79     667.67\n",
       "              50%      7158.69    1268.91\n",
       "              75%      8488.22    2169.25\n",
       "              max      9992.29    9613.98\n",
       "dist_fa_m     count    2486.00     598.00\n",
       "              mean    41097.08   23963.89\n",
       "              std     28463.81   20139.60\n",
       "              min         0.00     231.33\n",
       "              25%     23006.50   10051.96\n",
       "              50%     38602.40   18191.17\n",
       "              75%     52297.43   32477.26\n",
       "              max    173696.29  165894.83\n",
       "dist_forest_m count    2486.00     598.00\n",
       "              mean     7123.59    1565.88\n",
       "              std      1589.73    1312.31\n",
       "              min         0.00       0.00\n",
       "              25%      5923.86     667.01\n",
       "              50%      7022.66    1256.55\n",
       "              75%      8378.98    2146.96\n",
       "              max      9992.29    9613.98"
      ]
     },
     "execution_count": 49,
     "metadata": {},
     "output_type": "execute_result"
    }
   ],
   "source": [
    "vlgs_appch2.drop(['PHUMCODE', 'cf_id', 'treatm_id'], axis=1).groupby('Treatment').describe().round(2).transpose()"
   ]
  },
  {
   "attachments": {},
   "cell_type": "markdown",
   "id": "11b204f5-0829-40aa-8a91-8bfcc6ed0b7f",
   "metadata": {},
   "source": [
    "#### CPA\n",
    "CPA tag (dummy) and have distances of treatment and control villages to CPAs"
   ]
  },
  {
   "cell_type": "code",
   "execution_count": 45,
   "id": "2dc7f2f6-be23-4075-9087-726bb8ea3047",
   "metadata": {},
   "outputs": [],
   "source": [
    "# Step 1: Sjoin of villages and CPAs\n",
    "cpa_apprch2 = gpd.sjoin(vlgs_appch2, cpa[['CPA_id', 'CPAName_Eg', 'geometry']], predicate='within')"
   ]
  },
  {
   "cell_type": "code",
   "execution_count": 46,
   "id": "2f368b00-0dba-4691-9d1c-db99059b9c60",
   "metadata": {},
   "outputs": [],
   "source": [
    "# Step 2: Create a dummy to villages that are within CPAs\n",
    "\n",
    "vlgs_appch2['CPA_dummy'] = np.where(vlgs_appch2['PHUMCODE'].isin(cpa_apprch2['PHUMCODE']), 1, 0)"
   ]
  },
  {
   "cell_type": "code",
   "execution_count": 47,
   "id": "b27b19ca-a1f5-4f89-a0d6-c8a55012732c",
   "metadata": {},
   "outputs": [],
   "source": [
    "# Step 3: Calculate distances\n",
    "\n",
    "vlgs_appch2 = calculate_distances(vlgs_appch2, cpa, 'dist_cpa_m')"
   ]
  },
  {
   "cell_type": "code",
   "execution_count": 48,
   "id": "b23a295e-c0c3-4245-bd72-c77834a9e5c3",
   "metadata": {},
   "outputs": [],
   "source": [
    "vlgs_appch2['treatm_id'] = vlgs_appch2['treatm_id'].fillna(vlgs_appch2['PHUMCODE'])"
   ]
  },
  {
   "cell_type": "markdown",
   "id": "aace4c8d-090f-4992-84a2-4fda36a83924",
   "metadata": {},
   "source": [
    "#### Export files apprch 2"
   ]
  },
  {
   "cell_type": "code",
   "execution_count": 247,
   "id": "80051cf6-748e-4589-954f-f4d63b4e5bba",
   "metadata": {},
   "outputs": [
    {
     "name": "stderr",
     "output_type": "stream",
     "text": [
      "/var/folders/rg/s4kgtnsx69j8kmy5pyg5ngrm0000gn/T/ipykernel_99535/3777793634.py:7: UserWarning: Column names longer than 10 characters will be truncated when saved to ESRI Shapefile.\n",
      "  vlgs_appch2.to_file(outputs_path + '/control_villages_appchA/vlgs_appchA.shp')\n"
     ]
    }
   ],
   "source": [
    "#cfs_buffer_10km.to_file(outputs_path + '/cfs_buffer_10km/cfs_buffer_10km.shp')\n",
    "\n",
    "#cfs_buffer_5km.to_file(outputs_path + '/cfs_buffer_5km/cfs_buffer_5km.shp')\n",
    "\n",
    "#control_villages_appch2.to_file(outputs_path + '/control_villages_appch2/control_villages_appch2.shp')\n",
    "\n",
    "vlgs_appch2.to_file(outputs_path + '/control_villages_appchA/vlgs_appchA.shp')\n"
   ]
  },
  {
   "attachments": {},
   "cell_type": "markdown",
   "id": "9b7b86c9-ffa7-4414-a2d5-bae537aea67d",
   "metadata": {},
   "source": [
    "### Approach 3\n",
    "\n",
    "Pool all villages within 5km of CFs as control (CFs)"
   ]
  },
  {
   "cell_type": "code",
   "execution_count": 49,
   "id": "9ed74f8c-cc37-4b59-a499-d1cbe26f8c38",
   "metadata": {},
   "outputs": [],
   "source": [
    "# Step 1: Perform a spatial join to find villages within the buffer\n",
    "control_villages_appch3 = gpd.sjoin(vlgs2, cfs_buffer_5km, predicate='within')"
   ]
  },
  {
   "cell_type": "code",
   "execution_count": 50,
   "id": "ee9caa9f-8e49-4506-bdc5-e818e758d2aa",
   "metadata": {},
   "outputs": [],
   "source": [
    "# Step 2: Calculate distance from the village to the each community forest whose buffer contains the village\n",
    "\n",
    "    # Merge the two geometries (villages and community forests)\n",
    "control_villages_appch3 = control_villages_appch3.merge(cfs[['cf_id','geometry']], on=\"cf_id\", suffixes=(\"_village\", \"_forest\"))\n",
    "\n",
    "    # Convert to GeoDataFrame \n",
    "control_villages_appch3 = gpd.GeoDataFrame(control_villages_appch3, geometry=\"geometry_village\")\n",
    "\n",
    "    # Calculate distance between both geometries \n",
    "control_villages_appch3[\"distance_to_forest\"] = control_villages_appch3[\"geometry_village\"].distance(gpd.GeoSeries(control_villages_appch3[\"geometry_forest\"], crs=control_villages_appch3.crs))"
   ]
  },
  {
   "cell_type": "code",
   "execution_count": 51,
   "id": "2e075fdc-a2ac-44f8-93f6-7d98d14b4a6f",
   "metadata": {},
   "outputs": [],
   "source": [
    "# Step 6: Drop duplicated villages with the shortest distance to a CF\n",
    "\n",
    "control_villages_appch3 = control_villages_appch3.sort_values(by=[\"cf_id\", \"distance_to_forest\"]).drop_duplicates(subset='PHUMCODE', keep='first').reset_index(drop=True)"
   ]
  },
  {
   "cell_type": "code",
   "execution_count": 52,
   "id": "dee2258a-fbe2-46ad-9636-30c88e47a156",
   "metadata": {},
   "outputs": [],
   "source": [
    "# Add treatment village id\n",
    "control_villages_appch3 = control_villages_appch3.merge(cf_id_dict, on='cf_id', how='left')\n",
    "\n",
    "# Select only necessary variables \n",
    "\n",
    "control_villages_appch3 = control_villages_appch3[['PHUMCODE', 'VILLAGE', 'cf_id', 'distance_to_forest', 'treatm_id', 'geometry_village']].copy()\n",
    "\n",
    "# Rename column to standardize\n",
    "control_villages_appch3.rename({'geometry_village':'geometry', 'distance_to_forest':'dist_forst'}, axis=1, inplace=True)"
   ]
  },
  {
   "cell_type": "code",
   "execution_count": 53,
   "id": "cc57c974-43ee-48f1-8f67-ec078c407172",
   "metadata": {},
   "outputs": [],
   "source": [
    "    # Convert to GeoDataFrame \n",
    "control_villages_appch3 = gpd.GeoDataFrame(control_villages_appch3, geometry=\"geometry\", crs=vlgs.crs)"
   ]
  },
  {
   "cell_type": "markdown",
   "id": "eafe9bbe-d47e-4299-a84b-a10f6e5998d3",
   "metadata": {},
   "source": [
    "#### Calculate distances from treatment and control villages"
   ]
  },
  {
   "cell_type": "code",
   "execution_count": 54,
   "id": "2130c87f-258a-4a23-b78d-d84596b9ea32",
   "metadata": {},
   "outputs": [],
   "source": [
    "#Create a gdf with treatment and control villages only\n",
    "control_villages_appch3['Treatment'] = 0\n",
    "\n",
    "vlgs_appch3 = pd.concat([treatment_villages_gdf, control_villages_appch3])\n",
    "\n",
    "vlgs_appch3 = vlgs_appch3.reset_index(drop=True)\n",
    "\n",
    "vlgs_appch3 = vlgs_appch3[['PHUMCODE', 'VILLAGE','Treatment','treatm_id', 'cf_id','geometry']]"
   ]
  },
  {
   "cell_type": "code",
   "execution_count": 55,
   "id": "7306230f-1be1-44ce-9bd4-d3f672e17d0b",
   "metadata": {
    "scrolled": true
   },
   "outputs": [
    {
     "name": "stdout",
     "output_type": "stream",
     "text": [
      "CPU times: user 1min 4s, sys: 497 ms, total: 1min 4s\n",
      "Wall time: 1min 6s\n"
     ]
    }
   ],
   "source": [
    "%%time\n",
    "# Calculate the distance between the village and the community forest\n",
    "vlgs_appch3 = calculate_distances(vlgs_appch3, cfs, 'dist_cf_m')\n",
    "\n",
    "# Calculate the distance between the village and the FAS\n",
    "vlgs_appch3 = calculate_distances(vlgs_appch3, fas, 'dist_fa_m')\n",
    "\n",
    "# Calculate the distance between the village and any type of forest\n",
    "vlgs_appch3 = calculate_distances(vlgs_appch3, forests, 'dist_forest_m')"
   ]
  },
  {
   "cell_type": "code",
   "execution_count": 57,
   "id": "55c86824-8663-4833-b4cb-3518854bdf2a",
   "metadata": {},
   "outputs": [
    {
     "data": {
      "text/html": [
       "<div>\n",
       "<style scoped>\n",
       "    .dataframe tbody tr th:only-of-type {\n",
       "        vertical-align: middle;\n",
       "    }\n",
       "\n",
       "    .dataframe tbody tr th {\n",
       "        vertical-align: top;\n",
       "    }\n",
       "\n",
       "    .dataframe thead th {\n",
       "        text-align: right;\n",
       "    }\n",
       "</style>\n",
       "<table border=\"1\" class=\"dataframe\">\n",
       "  <thead>\n",
       "    <tr style=\"text-align: right;\">\n",
       "      <th></th>\n",
       "      <th>Treatment</th>\n",
       "      <th>0</th>\n",
       "      <th>1</th>\n",
       "    </tr>\n",
       "  </thead>\n",
       "  <tbody>\n",
       "    <tr>\n",
       "      <th rowspan=\"8\" valign=\"top\">dist_cf_m</th>\n",
       "      <th>count</th>\n",
       "      <td>2045.00</td>\n",
       "      <td>598.00</td>\n",
       "    </tr>\n",
       "    <tr>\n",
       "      <th>mean</th>\n",
       "      <td>3080.04</td>\n",
       "      <td>1601.89</td>\n",
       "    </tr>\n",
       "    <tr>\n",
       "      <th>std</th>\n",
       "      <td>1224.48</td>\n",
       "      <td>1364.02</td>\n",
       "    </tr>\n",
       "    <tr>\n",
       "      <th>min</th>\n",
       "      <td>0.00</td>\n",
       "      <td>0.00</td>\n",
       "    </tr>\n",
       "    <tr>\n",
       "      <th>25%</th>\n",
       "      <td>2191.48</td>\n",
       "      <td>667.67</td>\n",
       "    </tr>\n",
       "    <tr>\n",
       "      <th>50%</th>\n",
       "      <td>3157.62</td>\n",
       "      <td>1268.91</td>\n",
       "    </tr>\n",
       "    <tr>\n",
       "      <th>75%</th>\n",
       "      <td>4133.99</td>\n",
       "      <td>2169.25</td>\n",
       "    </tr>\n",
       "    <tr>\n",
       "      <th>max</th>\n",
       "      <td>4998.12</td>\n",
       "      <td>9613.98</td>\n",
       "    </tr>\n",
       "    <tr>\n",
       "      <th rowspan=\"8\" valign=\"top\">dist_fa_m</th>\n",
       "      <th>count</th>\n",
       "      <td>2045.00</td>\n",
       "      <td>598.00</td>\n",
       "    </tr>\n",
       "    <tr>\n",
       "      <th>mean</th>\n",
       "      <td>35880.99</td>\n",
       "      <td>23963.89</td>\n",
       "    </tr>\n",
       "    <tr>\n",
       "      <th>std</th>\n",
       "      <td>28546.22</td>\n",
       "      <td>20139.60</td>\n",
       "    </tr>\n",
       "    <tr>\n",
       "      <th>min</th>\n",
       "      <td>0.00</td>\n",
       "      <td>231.33</td>\n",
       "    </tr>\n",
       "    <tr>\n",
       "      <th>25%</th>\n",
       "      <td>16613.85</td>\n",
       "      <td>10051.96</td>\n",
       "    </tr>\n",
       "    <tr>\n",
       "      <th>50%</th>\n",
       "      <td>30946.80</td>\n",
       "      <td>18191.17</td>\n",
       "    </tr>\n",
       "    <tr>\n",
       "      <th>75%</th>\n",
       "      <td>48373.67</td>\n",
       "      <td>32477.26</td>\n",
       "    </tr>\n",
       "    <tr>\n",
       "      <th>max</th>\n",
       "      <td>171048.62</td>\n",
       "      <td>165894.83</td>\n",
       "    </tr>\n",
       "    <tr>\n",
       "      <th rowspan=\"8\" valign=\"top\">dist_forest_m</th>\n",
       "      <th>count</th>\n",
       "      <td>2045.00</td>\n",
       "      <td>598.00</td>\n",
       "    </tr>\n",
       "    <tr>\n",
       "      <th>mean</th>\n",
       "      <td>3068.65</td>\n",
       "      <td>1565.88</td>\n",
       "    </tr>\n",
       "    <tr>\n",
       "      <th>std</th>\n",
       "      <td>1226.33</td>\n",
       "      <td>1312.31</td>\n",
       "    </tr>\n",
       "    <tr>\n",
       "      <th>min</th>\n",
       "      <td>0.00</td>\n",
       "      <td>0.00</td>\n",
       "    </tr>\n",
       "    <tr>\n",
       "      <th>25%</th>\n",
       "      <td>2184.17</td>\n",
       "      <td>667.01</td>\n",
       "    </tr>\n",
       "    <tr>\n",
       "      <th>50%</th>\n",
       "      <td>3132.70</td>\n",
       "      <td>1256.55</td>\n",
       "    </tr>\n",
       "    <tr>\n",
       "      <th>75%</th>\n",
       "      <td>4119.75</td>\n",
       "      <td>2146.96</td>\n",
       "    </tr>\n",
       "    <tr>\n",
       "      <th>max</th>\n",
       "      <td>4998.12</td>\n",
       "      <td>9613.98</td>\n",
       "    </tr>\n",
       "  </tbody>\n",
       "</table>\n",
       "</div>"
      ],
      "text/plain": [
       "Treatment                    0          1\n",
       "dist_cf_m     count    2045.00     598.00\n",
       "              mean     3080.04    1601.89\n",
       "              std      1224.48    1364.02\n",
       "              min         0.00       0.00\n",
       "              25%      2191.48     667.67\n",
       "              50%      3157.62    1268.91\n",
       "              75%      4133.99    2169.25\n",
       "              max      4998.12    9613.98\n",
       "dist_fa_m     count    2045.00     598.00\n",
       "              mean    35880.99   23963.89\n",
       "              std     28546.22   20139.60\n",
       "              min         0.00     231.33\n",
       "              25%     16613.85   10051.96\n",
       "              50%     30946.80   18191.17\n",
       "              75%     48373.67   32477.26\n",
       "              max    171048.62  165894.83\n",
       "dist_forest_m count    2045.00     598.00\n",
       "              mean     3068.65    1565.88\n",
       "              std      1226.33    1312.31\n",
       "              min         0.00       0.00\n",
       "              25%      2184.17     667.01\n",
       "              50%      3132.70    1256.55\n",
       "              75%      4119.75    2146.96\n",
       "              max      4998.12    9613.98"
      ]
     },
     "execution_count": 57,
     "metadata": {},
     "output_type": "execute_result"
    }
   ],
   "source": [
    "vlgs_appch3.drop(['PHUMCODE', 'cf_id', 'treatm_id'], axis=1).groupby('Treatment').describe().round(2).transpose()"
   ]
  },
  {
   "cell_type": "markdown",
   "id": "2fe51cc2-a9b7-4b9e-ae0a-1f32e2a632dd",
   "metadata": {},
   "source": [
    "#### CPA"
   ]
  },
  {
   "cell_type": "code",
   "execution_count": 58,
   "id": "41117a85-2be8-4d70-8dd1-d1ac6e3b024d",
   "metadata": {},
   "outputs": [],
   "source": [
    "# Step 1: Sjoin of villages and CPAs\n",
    "\n",
    "cpa_apprch3 = gpd.sjoin(vlgs_appch3, cpa[['CPA_id', 'CPAName_Eg', 'geometry']], predicate='within')"
   ]
  },
  {
   "cell_type": "code",
   "execution_count": 59,
   "id": "50500662-c46d-4f01-bbab-2b973646f656",
   "metadata": {},
   "outputs": [],
   "source": [
    "# Step 2: Create a dummy to villages that are within CPAs\n",
    " \n",
    "vlgs_appch3['CPA_dummy'] = np.where(vlgs_appch3['PHUMCODE'].isin(cpa_apprch3['PHUMCODE']), 1, 0)"
   ]
  },
  {
   "cell_type": "code",
   "execution_count": 60,
   "id": "f4abfd00-5416-4291-a50a-cbdc21d854c4",
   "metadata": {},
   "outputs": [],
   "source": [
    "# Step 3: Calculate distances\n",
    "\n",
    "vlgs_appch3 = calculate_distances(vlgs_appch3, cpa, 'dist_cpa_m')"
   ]
  },
  {
   "cell_type": "code",
   "execution_count": 61,
   "id": "987d2e5b-b870-4a1f-a1c9-19cc1570cb81",
   "metadata": {},
   "outputs": [],
   "source": [
    "vlgs_appch3['treatm_id'] = vlgs_appch3['treatm_id'].fillna(vlgs_appch3['PHUMCODE'])"
   ]
  },
  {
   "cell_type": "markdown",
   "id": "de8701ab-5568-448d-9bbf-359c2f4e4a93",
   "metadata": {},
   "source": [
    "#### Export files apprch 3"
   ]
  },
  {
   "cell_type": "code",
   "execution_count": null,
   "id": "234e5ef1-d66d-4845-b678-f4a40eb0bf81",
   "metadata": {},
   "outputs": [
    {
     "name": "stderr",
     "output_type": "stream",
     "text": [
      "/var/folders/rg/s4kgtnsx69j8kmy5pyg5ngrm0000gn/T/ipykernel_99535/29986906.py:3: UserWarning: Column names longer than 10 characters will be truncated when saved to ESRI Shapefile.\n",
      "  vlgs_appch3.to_file(outputs_path + '/control_villages_appchB/vlgs_appchB.shp')\n"
     ]
    }
   ],
   "source": [
    "#control_villages_appch3.to_file(outputs_path + '/control_villages_appch3/control_villages_appch3.shp')\n",
    "\n",
    "vlgs_appch3.to_file(os.path.join(outputs_path, '/control_villages_appchB/vlgs_appchB.shp'))"
   ]
  },
  {
   "attachments": {},
   "cell_type": "markdown",
   "id": "fc936dd9-f437-4417-8e69-3d815df65b80",
   "metadata": {},
   "source": [
    "### Approach 4\n",
    "\n",
    "All villages that are within 5km of FA but not close to CFs (<10 km)"
   ]
  },
  {
   "cell_type": "code",
   "execution_count": 62,
   "id": "062fe739-7fca-47dd-a68b-eba1082e36f1",
   "metadata": {},
   "outputs": [
    {
     "name": "stdout",
     "output_type": "stream",
     "text": [
      "CPU times: user 1min 17s, sys: 50.3 s, total: 2min 7s\n",
      "Wall time: 4min 28s\n"
     ]
    }
   ],
   "source": [
    "%%time\n",
    "# Step 1: Simplify the geometries and create a 5km buffer around the forests \n",
    "fas_buffer_5km = fas.copy()\n",
    "# 1.1 Simplify geometry to reduce the calculations\n",
    "fas_buffer_5km['geometry'] = fas_buffer_5km['geometry'].simplify(tolerance=50, preserve_topology=True)\n",
    "# 1.2 Create buffer for the FAS\n",
    "fas_buffer_5km['geometry'] = fas_buffer_5km.geometry.buffer(5000)"
   ]
  },
  {
   "cell_type": "code",
   "execution_count": 63,
   "id": "f86f2279-b71a-4ac7-995f-2927a9c111be",
   "metadata": {},
   "outputs": [],
   "source": [
    "fas_buffer_5km['FID'] = fas_buffer_5km['FID'].astype(str)\n",
    "fas['FID'] = fas['FID'].astype(str)"
   ]
  },
  {
   "cell_type": "code",
   "execution_count": 64,
   "id": "e0ef676a-641e-4c99-bc30-d6bc623e16f6",
   "metadata": {},
   "outputs": [],
   "source": [
    "# Step 2: Select villages within 5 km of forest areas\n",
    "villages_within_fas = gpd.sjoin(vlgs2, fas_buffer_5km, predicate='within')"
   ]
  },
  {
   "cell_type": "code",
   "execution_count": 65,
   "id": "696ad7e7-eac5-43a2-b07e-d5cbe411f8ad",
   "metadata": {},
   "outputs": [],
   "source": [
    "# Step 3: Select villages outside the 10 km buffer of community forests\n",
    "villages_near_community = gpd.sjoin(vlgs2, cfs_buffer_10km, predicate='within', how='right')\n",
    "villages_outside_community_buffer = vlgs2[~vlgs2['PHUMCODE'].isin(list(villages_near_community['PHUMCODE']))]"
   ]
  },
  {
   "cell_type": "code",
   "execution_count": 66,
   "id": "25f41610-03b6-405a-bd01-da44838e1533",
   "metadata": {},
   "outputs": [],
   "source": [
    "# Step 4: Combine the conditions\n",
    "control_villages_appch4 = villages_within_fas[villages_within_fas['PHUMCODE'].isin(villages_outside_community_buffer['PHUMCODE'])].reset_index(drop=True)"
   ]
  },
  {
   "cell_type": "code",
   "execution_count": 67,
   "id": "56022a05-afa7-4195-acbc-e7b3ca7b014a",
   "metadata": {},
   "outputs": [],
   "source": [
    "# Step 5: Calculate distance from the village to the each Fas whose buffer contains the village\n",
    "\n",
    "    # Merge the two geometries (villages and community forests)\n",
    "control_villages_appch4 = control_villages_appch4.merge(fas, on=\"FID\", suffixes=(\"_village\", \"_fas\"))\n",
    "\n",
    "    # Convert to GeoDataFrame \n",
    "control_villages_appch4 = gpd.GeoDataFrame(control_villages_appch4, geometry=\"geometry_village\")\n",
    "\n",
    "    # Calculate distance between both geometries \n",
    "control_villages_appch4[\"distance_to_forest\"] = control_villages_appch4[\"geometry_village\"].distance(gpd.GeoSeries(control_villages_appch4[\"geometry_fas\"], crs=control_villages_appch4.crs))"
   ]
  },
  {
   "cell_type": "code",
   "execution_count": 68,
   "id": "29d6ed6e-2702-46fa-9407-0380c758f7f1",
   "metadata": {},
   "outputs": [],
   "source": [
    "# Step 6: Drop duplicated villages with the shortest distance to a CF\n",
    "\n",
    "control_villages_appch4 = control_villages_appch4.sort_values(by=[\"FID\", \"distance_to_forest\"]).drop_duplicates(subset='PHUMCODE', keep='first').reset_index(drop=True)"
   ]
  },
  {
   "cell_type": "code",
   "execution_count": 69,
   "id": "d1d55c2a-2efa-41f5-9737-90bdedfb2e52",
   "metadata": {},
   "outputs": [],
   "source": [
    "# Select only necessary variables \n",
    "\n",
    "control_villages_appch4 = control_villages_appch4[['PHUMCODE', 'VILLAGE', 'FID', 'distance_to_forest', 'geometry_village']].copy()\n",
    "\n",
    "# Rename column to standardize\n",
    "control_villages_appch4.rename({'geometry_village':'geometry', 'distance_to_forest':'dist_fas'}, axis=1, inplace=True)"
   ]
  },
  {
   "cell_type": "code",
   "execution_count": 70,
   "id": "7e3665a1-79f6-4ec6-bccd-f2ffc50dba8c",
   "metadata": {},
   "outputs": [],
   "source": [
    "    # Convert to GeoDataFrame \n",
    "control_villages_appch4 = gpd.GeoDataFrame(control_villages_appch4, geometry=\"geometry\", crs=vlgs.crs)"
   ]
  },
  {
   "cell_type": "markdown",
   "id": "6a1a5a9d-a9c6-4a0f-a194-a4b544110a6d",
   "metadata": {},
   "source": [
    "#### Calculate distances from treatment and control villages"
   ]
  },
  {
   "cell_type": "code",
   "execution_count": 71,
   "id": "6e384c03-24f0-4b23-ab25-38e5f3e663c3",
   "metadata": {},
   "outputs": [],
   "source": [
    "#Create a gdf with treatment and control villages only\n",
    "control_villages_appch4['Treatment'] = 0\n",
    "\n",
    "vlgs_appch4 = pd.concat([treatment_villages_gdf, control_villages_appch4])\n",
    "\n",
    "vlgs_appch4 = vlgs_appch4.reset_index(drop=True)\n",
    "\n",
    "vlgs_appch4 = vlgs_appch4[['PHUMCODE', 'VILLAGE','Treatment', 'FID', 'dist_fas', 'geometry']]"
   ]
  },
  {
   "cell_type": "code",
   "execution_count": 72,
   "id": "02e54005-b049-479e-9d7f-908e094267bb",
   "metadata": {},
   "outputs": [
    {
     "name": "stdout",
     "output_type": "stream",
     "text": [
      "CPU times: user 19.2 s, sys: 184 ms, total: 19.4 s\n",
      "Wall time: 19.8 s\n"
     ]
    }
   ],
   "source": [
    "%%time\n",
    "# Calculate the distance between the village and the community forest\n",
    "vlgs_appch4 = calculate_distances(vlgs_appch4, cfs, 'dist_cf_m')\n",
    "\n",
    "# Calculate the distance between the village and the FAS\n",
    "vlgs_appch4 = calculate_distances(vlgs_appch4, fas, 'dist_fa_m')\n",
    "\n",
    "# Calculate the distance between the village and any type of forest\n",
    "vlgs_appch4 = calculate_distances(vlgs_appch4, forests, 'dist_forest_m')"
   ]
  },
  {
   "cell_type": "code",
   "execution_count": 73,
   "id": "fce0b194-83bf-4656-b9c0-702464201bfb",
   "metadata": {},
   "outputs": [
    {
     "data": {
      "text/html": [
       "<div>\n",
       "<style scoped>\n",
       "    .dataframe tbody tr th:only-of-type {\n",
       "        vertical-align: middle;\n",
       "    }\n",
       "\n",
       "    .dataframe tbody tr th {\n",
       "        vertical-align: top;\n",
       "    }\n",
       "\n",
       "    .dataframe thead th {\n",
       "        text-align: right;\n",
       "    }\n",
       "</style>\n",
       "<table border=\"1\" class=\"dataframe\">\n",
       "  <thead>\n",
       "    <tr style=\"text-align: right;\">\n",
       "      <th></th>\n",
       "      <th>Treatment</th>\n",
       "      <th>0</th>\n",
       "      <th>1</th>\n",
       "    </tr>\n",
       "  </thead>\n",
       "  <tbody>\n",
       "    <tr>\n",
       "      <th rowspan=\"8\" valign=\"top\">dist_cf_m</th>\n",
       "      <th>count</th>\n",
       "      <td>185.00</td>\n",
       "      <td>598.00</td>\n",
       "    </tr>\n",
       "    <tr>\n",
       "      <th>mean</th>\n",
       "      <td>41093.71</td>\n",
       "      <td>1601.89</td>\n",
       "    </tr>\n",
       "    <tr>\n",
       "      <th>std</th>\n",
       "      <td>26257.70</td>\n",
       "      <td>1364.02</td>\n",
       "    </tr>\n",
       "    <tr>\n",
       "      <th>min</th>\n",
       "      <td>10154.26</td>\n",
       "      <td>0.00</td>\n",
       "    </tr>\n",
       "    <tr>\n",
       "      <th>25%</th>\n",
       "      <td>18376.33</td>\n",
       "      <td>667.67</td>\n",
       "    </tr>\n",
       "    <tr>\n",
       "      <th>50%</th>\n",
       "      <td>34486.94</td>\n",
       "      <td>1268.91</td>\n",
       "    </tr>\n",
       "    <tr>\n",
       "      <th>75%</th>\n",
       "      <td>54050.30</td>\n",
       "      <td>2169.25</td>\n",
       "    </tr>\n",
       "    <tr>\n",
       "      <th>max</th>\n",
       "      <td>102656.87</td>\n",
       "      <td>9613.98</td>\n",
       "    </tr>\n",
       "    <tr>\n",
       "      <th rowspan=\"8\" valign=\"top\">dist_fa_m</th>\n",
       "      <th>count</th>\n",
       "      <td>185.00</td>\n",
       "      <td>598.00</td>\n",
       "    </tr>\n",
       "    <tr>\n",
       "      <th>mean</th>\n",
       "      <td>2903.38</td>\n",
       "      <td>23963.89</td>\n",
       "    </tr>\n",
       "    <tr>\n",
       "      <th>std</th>\n",
       "      <td>1359.92</td>\n",
       "      <td>20139.60</td>\n",
       "    </tr>\n",
       "    <tr>\n",
       "      <th>min</th>\n",
       "      <td>0.00</td>\n",
       "      <td>231.33</td>\n",
       "    </tr>\n",
       "    <tr>\n",
       "      <th>25%</th>\n",
       "      <td>2065.55</td>\n",
       "      <td>10051.96</td>\n",
       "    </tr>\n",
       "    <tr>\n",
       "      <th>50%</th>\n",
       "      <td>3046.42</td>\n",
       "      <td>18191.17</td>\n",
       "    </tr>\n",
       "    <tr>\n",
       "      <th>75%</th>\n",
       "      <td>4103.70</td>\n",
       "      <td>32477.26</td>\n",
       "    </tr>\n",
       "    <tr>\n",
       "      <th>max</th>\n",
       "      <td>4970.76</td>\n",
       "      <td>165894.83</td>\n",
       "    </tr>\n",
       "    <tr>\n",
       "      <th rowspan=\"8\" valign=\"top\">dist_forest_m</th>\n",
       "      <th>count</th>\n",
       "      <td>185.00</td>\n",
       "      <td>598.00</td>\n",
       "    </tr>\n",
       "    <tr>\n",
       "      <th>mean</th>\n",
       "      <td>2903.38</td>\n",
       "      <td>1565.88</td>\n",
       "    </tr>\n",
       "    <tr>\n",
       "      <th>std</th>\n",
       "      <td>1359.92</td>\n",
       "      <td>1312.31</td>\n",
       "    </tr>\n",
       "    <tr>\n",
       "      <th>min</th>\n",
       "      <td>0.00</td>\n",
       "      <td>0.00</td>\n",
       "    </tr>\n",
       "    <tr>\n",
       "      <th>25%</th>\n",
       "      <td>2065.55</td>\n",
       "      <td>667.01</td>\n",
       "    </tr>\n",
       "    <tr>\n",
       "      <th>50%</th>\n",
       "      <td>3046.42</td>\n",
       "      <td>1256.55</td>\n",
       "    </tr>\n",
       "    <tr>\n",
       "      <th>75%</th>\n",
       "      <td>4103.70</td>\n",
       "      <td>2146.96</td>\n",
       "    </tr>\n",
       "    <tr>\n",
       "      <th>max</th>\n",
       "      <td>4970.76</td>\n",
       "      <td>9613.98</td>\n",
       "    </tr>\n",
       "  </tbody>\n",
       "</table>\n",
       "</div>"
      ],
      "text/plain": [
       "Treatment                    0          1\n",
       "dist_cf_m     count     185.00     598.00\n",
       "              mean    41093.71    1601.89\n",
       "              std     26257.70    1364.02\n",
       "              min     10154.26       0.00\n",
       "              25%     18376.33     667.67\n",
       "              50%     34486.94    1268.91\n",
       "              75%     54050.30    2169.25\n",
       "              max    102656.87    9613.98\n",
       "dist_fa_m     count     185.00     598.00\n",
       "              mean     2903.38   23963.89\n",
       "              std      1359.92   20139.60\n",
       "              min         0.00     231.33\n",
       "              25%      2065.55   10051.96\n",
       "              50%      3046.42   18191.17\n",
       "              75%      4103.70   32477.26\n",
       "              max      4970.76  165894.83\n",
       "dist_forest_m count     185.00     598.00\n",
       "              mean     2903.38    1565.88\n",
       "              std      1359.92    1312.31\n",
       "              min         0.00       0.00\n",
       "              25%      2065.55     667.01\n",
       "              50%      3046.42    1256.55\n",
       "              75%      4103.70    2146.96\n",
       "              max      4970.76    9613.98"
      ]
     },
     "execution_count": 73,
     "metadata": {},
     "output_type": "execute_result"
    }
   ],
   "source": [
    "vlgs_appch4.drop(['PHUMCODE', 'FID','dist_fas'], axis=1).groupby('Treatment').describe().round(2).transpose()"
   ]
  },
  {
   "cell_type": "markdown",
   "id": "5143ef02-d8fa-492f-905f-859608adcdc8",
   "metadata": {},
   "source": [
    "#### CPA"
   ]
  },
  {
   "cell_type": "code",
   "execution_count": 74,
   "id": "d07e7a63-29d9-4d3e-b40e-02c14ca2e0d3",
   "metadata": {},
   "outputs": [],
   "source": [
    "# Step 1: Sjoin of villages and CPAs\n",
    "\n",
    "cpa_apprch4 = gpd.sjoin(vlgs_appch4, cpa[['CPA_id', 'CPAName_Eg', 'geometry']], predicate='within')"
   ]
  },
  {
   "cell_type": "code",
   "execution_count": 75,
   "id": "ea3c0475-ed93-4915-92fd-a5fea17ff828",
   "metadata": {},
   "outputs": [],
   "source": [
    "# Step 2: Create a dummy to villages that are within CPAs\n",
    "\n",
    "vlgs_appch4['CPA_dummy'] = np.where(vlgs_appch4['PHUMCODE'].isin(cpa_apprch4['PHUMCODE']), 1, 0)"
   ]
  },
  {
   "cell_type": "code",
   "execution_count": 76,
   "id": "4caf3586-7f1a-445e-a413-89c5912e0c6e",
   "metadata": {},
   "outputs": [],
   "source": [
    "# Step 3: Calculate distances\n",
    "\n",
    "vlgs_appch4 = calculate_distances(vlgs_appch4, cpa, 'dist_cpa_m')"
   ]
  },
  {
   "cell_type": "code",
   "execution_count": 77,
   "id": "2455c986-764e-41cf-981c-3453ffff68f1",
   "metadata": {},
   "outputs": [],
   "source": [
    "vlgs_appch4.rename({'FID':'FID_fas'}, axis=1, inplace=True)"
   ]
  },
  {
   "cell_type": "markdown",
   "id": "9bd45db5-440d-4fd9-abaf-3c2f8295fa11",
   "metadata": {},
   "source": [
    "#### Export files apprch 4"
   ]
  },
  {
   "cell_type": "code",
   "execution_count": 350,
   "id": "fc31c419-bb6f-47b7-803a-401965720dd5",
   "metadata": {},
   "outputs": [
    {
     "name": "stderr",
     "output_type": "stream",
     "text": [
      "/var/folders/rg/s4kgtnsx69j8kmy5pyg5ngrm0000gn/T/ipykernel_99535/958793083.py:3: UserWarning: Column names longer than 10 characters will be truncated when saved to ESRI Shapefile.\n",
      "  vlgs_appch4.to_file(outputs_path + '/control_villages_appchC/vlgs_appchC.shp')\n"
     ]
    }
   ],
   "source": [
    "#control_villages_appch4.to_file(outputs_path + '/control_villages_appch4/control_villages_appch4.shp')\n",
    "\n",
    "vlgs_appch4.to_file(outputs_path + '/control_villages_appchC/vlgs_appchC.shp')\n",
    "\n",
    "#fas_buffer_5km.to_file(outputs_path + '/fas_buffer_5km/fas_buffer_5km.shp')\n"
   ]
  },
  {
   "cell_type": "code",
   "execution_count": null,
   "id": "abf8a310-2bad-443b-96ea-fe2426eb535e",
   "metadata": {},
   "outputs": [],
   "source": []
  },
  {
   "cell_type": "code",
   "execution_count": null,
   "id": "03c34ea0-515d-4bea-95e8-feddd14563b7",
   "metadata": {},
   "outputs": [],
   "source": []
  },
  {
   "cell_type": "markdown",
   "id": "9a7ea008-eac4-4317-9966-62b784100028",
   "metadata": {},
   "source": [
    "# Fuzzy Matching"
   ]
  },
  {
   "cell_type": "code",
   "execution_count": 2,
   "id": "5d68194b-1f8b-4f71-b071-c003c53747e0",
   "metadata": {},
   "outputs": [],
   "source": [
    "# import needed packages\n",
    "from rapidfuzz.process import extractOne\n",
    "from thefuzz import fuzz, process"
   ]
  },
  {
   "cell_type": "code",
   "execution_count": null,
   "id": "d4840700-dc39-420c-9557-fea63b95e2d0",
   "metadata": {},
   "outputs": [],
   "source": [
    "root_path = os.path.join(root_path, 'data')"
   ]
  },
  {
   "cell_type": "code",
   "execution_count": 12,
   "id": "c0f2c07a-430f-4e4d-bcbc-a83ddd3c05dc",
   "metadata": {},
   "outputs": [],
   "source": [
    "# define path\n",
    "os.chdir(root_path)"
   ]
  },
  {
   "cell_type": "markdown",
   "id": "97173542-a8cc-4ba3-a08b-185a9ea23ac1",
   "metadata": {},
   "source": [
    "## Import required datasets"
   ]
  },
  {
   "cell_type": "code",
   "execution_count": 4,
   "id": "8d8f4761-9e4b-413f-9693-1343ec7412a9",
   "metadata": {},
   "outputs": [],
   "source": [
    "#Updated community forests\n",
    "cfs_upd = gpd.read_file('Camboda CF updated data - Feb 5, 2025/CF_KH_Updated_2.5.2025_EPSG32648.shp')\n",
    "\n",
    "#Villages\n",
    "vlgs = gpd.read_file('KHM-Villages/Villages.shp').to_crs(cfs_upd.crs)\n",
    "\n",
    "#Adm3\n",
    "khm_adm3 = gpd.read_file('adm_borders/khm-adm3.shp').to_crs(cfs_upd.crs)\n",
    "\n",
    "#Treatment villages under the nearest method\n",
    "nearest_vlgs = gpd.read_file('treatment_contor_proximity/treatment_vlgs_v2.shp').to_crs(cfs_upd.crs)"
   ]
  },
  {
   "cell_type": "code",
   "execution_count": 5,
   "id": "ae505973-06e6-4954-9779-dbb298da8eb2",
   "metadata": {},
   "outputs": [],
   "source": [
    "# Keep relevant columns\n",
    "cfs_upd = cfs_upd[['ObjectID','CF_Name_En', '#Villages','Village', 'Commune', 'geometry']].copy()\n",
    "cfs_upd['Commune'] = cfs_upd['Commune'].str.lower()\n",
    "\n",
    "# Sort values by ObjectID\n",
    "cfs_upd.sort_values('ObjectID', inplace=True)"
   ]
  },
  {
   "cell_type": "code",
   "execution_count": 6,
   "id": "98f44360-da80-4e79-85c5-d48fbdce99ec",
   "metadata": {},
   "outputs": [
    {
     "name": "stdout",
     "output_type": "stream",
     "text": [
      "There are 598 community forests in the updated dataset.\n"
     ]
    }
   ],
   "source": [
    "cfs_upd_original = cfs_upd.copy()\n",
    "print(f'There are {str(cfs_upd_original.nunique()['ObjectID'])} community forests in the updated dataset.' )"
   ]
  },
  {
   "cell_type": "code",
   "execution_count": 7,
   "id": "aac5cba3-2e90-46d9-93fd-a6663aba0b2a",
   "metadata": {},
   "outputs": [],
   "source": [
    "# Keep only those with a village\n",
    "cfs_upd = cfs_upd[cfs_upd['Village']!='N/A']"
   ]
  },
  {
   "cell_type": "code",
   "execution_count": 8,
   "id": "7742f04c-96af-4df4-98b5-b11de4d80213",
   "metadata": {},
   "outputs": [
    {
     "name": "stdout",
     "output_type": "stream",
     "text": [
      "However, only 376 had a village assigned.\n"
     ]
    }
   ],
   "source": [
    "print(f'However, only {str(cfs_upd.nunique()['ObjectID'])} had a village assigned.' )"
   ]
  },
  {
   "cell_type": "markdown",
   "id": "9f06dc54-fa37-4d03-b744-6dc755e2c66a",
   "metadata": {},
   "source": [
    "## Split columns with multiple villages"
   ]
  },
  {
   "cell_type": "code",
   "execution_count": 9,
   "id": "436daf50-33c0-4921-bfd6-44a4f839d8e1",
   "metadata": {},
   "outputs": [],
   "source": [
    "vlg_split = cfs_upd['Village'].str.split(',', expand=True) \n",
    "vlg_split.columns = [f'Village{i+1}' for i in range(vlg_split.shape[1])]"
   ]
  },
  {
   "cell_type": "code",
   "execution_count": 10,
   "id": "e081995e-543b-47b1-a6ad-69887953f34e",
   "metadata": {},
   "outputs": [],
   "source": [
    "# Concatenate with original DataFrame, dropping the old 'Values' column\n",
    "df_melted = pd.concat([cfs_upd.drop(columns=['Village']), vlg_split], axis=1)"
   ]
  },
  {
   "cell_type": "code",
   "execution_count": 11,
   "id": "a969d85b-5e08-421f-8da6-0ac8e3df25b4",
   "metadata": {},
   "outputs": [],
   "source": [
    "# Melt the DataFrame\n",
    "df_melted = df_melted.melt(id_vars=['ObjectID'], value_vars=['Village1', 'Village2', 'Village3', 'Village4', 'Village5', 'Village6',\n",
    "       'Village7'], var_name='vil_type', value_name='vil_melt')\n",
    "\n",
    "# Drop null values\n",
    "df_melted = df_melted[df_melted['vil_melt'].notnull()].reset_index(drop=True).copy()\n",
    "\n",
    "# lowercase village names\n",
    "df_melted['vil_melt'] = df_melted['vil_melt'].str.lower()"
   ]
  },
  {
   "cell_type": "code",
   "execution_count": 12,
   "id": "70b8edf6-6c17-448e-95fb-96a3208f6f11",
   "metadata": {},
   "outputs": [],
   "source": [
    "cfs_upd = cfs_upd.merge(df_melted, on='ObjectID', how='left')"
   ]
  },
  {
   "cell_type": "code",
   "execution_count": 13,
   "id": "63ee0989-469b-4a56-a64e-5043a134c6a4",
   "metadata": {},
   "outputs": [
    {
     "name": "stdout",
     "output_type": "stream",
     "text": [
      "Since a single CF can have more than one village assigned, there were 428 villages within the CFs area\n"
     ]
    }
   ],
   "source": [
    "print(f'Since a single CF can have more than one village assigned, there were {cfs_upd.shape[0]} villages within the CFs area')"
   ]
  },
  {
   "cell_type": "markdown",
   "id": "a1336ac8-1542-4232-936a-407078b4f16b",
   "metadata": {},
   "source": [
    "## Sjoin between villages and Admin3"
   ]
  },
  {
   "cell_type": "markdown",
   "id": "7ce42d79-8038-49ec-93bd-a426ee3b6624",
   "metadata": {},
   "source": [
    "The georreferenced village dataset did not have a column containing the Commune. For that reason, a sjoin with a dataset of communes downloaded from https://data.humdata.org was performed. "
   ]
  },
  {
   "cell_type": "code",
   "execution_count": 14,
   "id": "a38878c3-9092-4264-9b4b-3465589347c2",
   "metadata": {},
   "outputs": [],
   "source": [
    "# Merge villages dataset with the adm3 (communes) to obtain a commune name \n",
    "\n",
    "vlgs = gpd.sjoin(vlgs, khm_adm3[['admin3Name', 'admin3Pcod', 'geometry']], how='left', predicate='within')\n",
    "vlgs['admin3Name'] = vlgs['admin3Name'].str.lower()\n",
    "vlgs['VILLAGE'] = vlgs['VILLAGE'].str.lower()\n",
    "vlgs = vlgs[vlgs['admin3Name'].notnull()]\n",
    "vlgs.reset_index(drop=True, inplace=True)"
   ]
  },
  {
   "cell_type": "code",
   "execution_count": 15,
   "id": "31c5ea82-e9d3-4115-9978-2569c1538b55",
   "metadata": {},
   "outputs": [],
   "source": [
    "# Create a new column with wich the fuzzy match will be performed later on\n",
    "\n",
    "vlgs['vilcom_vlg'] = vlgs['VILLAGE'] + '-' + vlgs['admin3Name']"
   ]
  },
  {
   "cell_type": "markdown",
   "id": "49fcf56b-26e4-4ab1-b229-e8ee46ea80f3",
   "metadata": {},
   "source": [
    "## Applying fuzzy matching to village + commune name between the Villages dataset and the CFs dataset"
   ]
  },
  {
   "cell_type": "code",
   "execution_count": 16,
   "id": "7c88d702-265e-417f-bff1-f56e0303ffee",
   "metadata": {},
   "outputs": [],
   "source": [
    "# Create a new column in the CFs dataset with which the fuzzy match will be performed\n",
    "\n",
    "cfs_upd['Commune'] = cfs_upd['Commune'].str.lower()\n",
    "cfs_upd['vilcom_cfs'] = cfs_upd['vil_melt'] + '-' + cfs_upd['Commune']"
   ]
  },
  {
   "cell_type": "code",
   "execution_count": 17,
   "id": "7d0cd420-fa38-4886-b4fb-057819aef26a",
   "metadata": {},
   "outputs": [],
   "source": [
    "# Apply fuzzy matching between the CFs and the villages datasets, using the variables created before (vill+comm)\n",
    "results_vlgs_cfs = cfs_upd['vilcom_cfs'].apply(lambda x: extractOne(query = x, choices =vlgs['vilcom_vlg'], score_cutoff=90))\n",
    "\n",
    "# Create a new column to the CFs table with the result\n",
    "cfs_upd['match_vlgs_cfs'] = results_vlgs_cfs\n",
    "\n",
    "# Since there are multiple villages that dont match to any contained in the CFs table, drop the ones that don't match\n",
    "cfs_upd = cfs_upd[cfs_upd['match_vlgs_cfs'].notna()].copy().reset_index(drop=True)\n",
    "\n",
    "# Splitting the resulting tuple into three separate columns\n",
    "cfs_upd[['vilcom_vlg', 'score', 'idx_vlg']] = cfs_upd['match_vlgs_cfs'].apply(pd.Series)\n",
    "\n",
    "# Drop not relevant variables\n",
    "cfs_upd.drop('match_vlgs_cfs', axis=1, inplace=True)\n",
    "\n",
    "# Bring village code from the vlgs dataset, using the index resulting from the fuzzy matching \n",
    "cfs_upd = cfs_upd.merge(vlgs[['PHUMCODE']], left_on=\"idx_vlg\", right_index=True, how=\"left\")"
   ]
  },
  {
   "cell_type": "code",
   "execution_count": 18,
   "id": "e7039c5e-b57a-4fa1-b6dd-bc84c2ae568c",
   "metadata": {},
   "outputs": [
    {
     "data": {
      "text/plain": [
       "ObjectID      268\n",
       "CF_Name_En    268\n",
       "#Villages       7\n",
       "Village       254\n",
       "Commune       140\n",
       "geometry      268\n",
       "vil_type        7\n",
       "vil_melt      282\n",
       "vilcom_cfs    295\n",
       "vilcom_vlg    293\n",
       "score          45\n",
       "idx_vlg       293\n",
       "PHUMCODE      293\n",
       "dtype: int64"
      ]
     },
     "execution_count": 18,
     "metadata": {},
     "output_type": "execute_result"
    }
   ],
   "source": [
    "cfs_upd.nunique()"
   ]
  },
  {
   "cell_type": "code",
   "execution_count": 17,
   "id": "8b805e90-57db-479e-ac76-e5b6e1e8cb83",
   "metadata": {},
   "outputs": [
    {
     "data": {
      "text/plain": [
       "ObjectID      268\n",
       "CF_Name_En    268\n",
       "#Villages       7\n",
       "Village       254\n",
       "Commune       140\n",
       "geometry      268\n",
       "vil_type        7\n",
       "vil_melt      282\n",
       "vilcom_cfs    295\n",
       "vilcom_vlg    293\n",
       "score          45\n",
       "idx_vlg       293\n",
       "PHUMCODE      293\n",
       "dtype: int64"
      ]
     },
     "execution_count": 17,
     "metadata": {},
     "output_type": "execute_result"
    }
   ],
   "source": [
    "cfs_upd.nunique()"
   ]
  },
  {
   "cell_type": "code",
   "execution_count": 19,
   "id": "19fbb1fe-5f70-48f8-96ac-b83c88abb0ad",
   "metadata": {},
   "outputs": [
    {
     "name": "stdout",
     "output_type": "stream",
     "text": [
      "There are 293 villages that matched in both the village dataset and the CFs updated dataset.\n"
     ]
    }
   ],
   "source": [
    "print(f'There are {cfs_upd.nunique()['PHUMCODE']} villages that matched in both the village dataset and the CFs updated dataset.')"
   ]
  },
  {
   "cell_type": "code",
   "execution_count": 20,
   "id": "a8d1a7e4-9fb4-4316-bb7e-ca6f780644ab",
   "metadata": {},
   "outputs": [
    {
     "name": "stdout",
     "output_type": "stream",
     "text": [
      "268 Community Forests had a village that matched with the georreferenced village dataset (a CF can have more than 1 village assigned\n"
     ]
    }
   ],
   "source": [
    "print(f'{cfs_upd.nunique()['ObjectID']} Community Forests had a village that matched with the georreferenced village dataset (a CF can have more than 1 village assigned')\n"
   ]
  },
  {
   "cell_type": "code",
   "execution_count": 24,
   "id": "c5f92673-f0f5-4a99-a05e-fe6b7b58923a",
   "metadata": {},
   "outputs": [],
   "source": [
    "#cfs_upd.to_file('Camboda CF updated data - Feb 5, 2025/cfs_upd_matched.shp')"
   ]
  },
  {
   "cell_type": "markdown",
   "id": "dec04591-b3e7-4a6b-8ade-90572d1c4b7b",
   "metadata": {},
   "source": [
    "## Comparing with the \"nearest\" villages"
   ]
  },
  {
   "cell_type": "code",
   "execution_count": 21,
   "id": "ebfcbed5-8b15-40d6-8a33-3627f716ca7e",
   "metadata": {},
   "outputs": [],
   "source": [
    "# Convert data type\n",
    "cfs_upd['PHUMCODE'] = cfs_upd['PHUMCODE'].astype(str)"
   ]
  },
  {
   "cell_type": "code",
   "execution_count": 22,
   "id": "9d3d29af-737a-4c9d-9605-eb55555d8fa9",
   "metadata": {},
   "outputs": [
    {
     "data": {
      "text/plain": [
       "ObjectID      127\n",
       "CF_Name_En    127\n",
       "#Villages       6\n",
       "Village       123\n",
       "Commune        88\n",
       "geometry      127\n",
       "vil_type        6\n",
       "vil_melt      126\n",
       "vilcom_cfs    129\n",
       "vilcom_vlg    127\n",
       "score          34\n",
       "idx_vlg       127\n",
       "PHUMCODE      127\n",
       "dtype: int64"
      ]
     },
     "execution_count": 22,
     "metadata": {},
     "output_type": "execute_result"
    }
   ],
   "source": [
    "# Perform filter based on the village code \n",
    "cfs_upd[cfs_upd['PHUMCODE'].isin(nearest_vlgs['PHUMCODE'])].nunique()"
   ]
  },
  {
   "cell_type": "code",
   "execution_count": 23,
   "id": "45cb39ac-b8b4-4bec-b85d-150025a885dd",
   "metadata": {},
   "outputs": [
    {
     "name": "stdout",
     "output_type": "stream",
     "text": [
      "There are 127 villages coinciding in both methods\n"
     ]
    }
   ],
   "source": [
    "print('There are 127 villages coinciding in both methods')"
   ]
  },
  {
   "cell_type": "code",
   "execution_count": 36,
   "id": "227c673f-aca6-405c-867c-0330ed1450ed",
   "metadata": {},
   "outputs": [],
   "source": [
    "# Convert data type\n",
    "vlgs['PHUMCODE'] = vlgs['PHUMCODE'].astype(str)"
   ]
  },
  {
   "cell_type": "code",
   "execution_count": 48,
   "id": "b2bc3878-6405-48fa-87ad-50b067908226",
   "metadata": {},
   "outputs": [],
   "source": [
    "# Export matching villages\n",
    "nearest_vlgs[nearest_vlgs['PHUMCODE'].isin(cfs_upd['PHUMCODE'])].to_file('Camboda CF updated data - Feb 5, 2025/matching_villages.shp')"
   ]
  },
  {
   "cell_type": "code",
   "execution_count": 50,
   "id": "72e3b2b0-2f26-44db-9e64-75035ac3e751",
   "metadata": {},
   "outputs": [
    {
     "name": "stderr",
     "output_type": "stream",
     "text": [
      "/var/folders/rg/s4kgtnsx69j8kmy5pyg5ngrm0000gn/T/ipykernel_57782/2593421237.py:2: UserWarning: Column names longer than 10 characters will be truncated when saved to ESRI Shapefile.\n",
      "  vlgs[vlgs['PHUMCODE'].isin(cfs_upd['PHUMCODE'])].to_file('Camboda CF updated data - Feb 5, 2025/updated_villages.shp')\n"
     ]
    }
   ],
   "source": [
    "# Export updated vill ages\n",
    "vlgs[vlgs['PHUMCODE'].isin(cfs_upd['PHUMCODE'])].to_file('Camboda CF updated data - Feb 5, 2025/updated_villages.shp')"
   ]
  }
 ],
 "metadata": {
  "kernelspec": {
   "display_name": "Python 3 (ipykernel)",
   "language": "python",
   "name": "python3"
  },
  "language_info": {
   "codemirror_mode": {
    "name": "ipython",
    "version": 3
   },
   "file_extension": ".py",
   "mimetype": "text/x-python",
   "name": "python",
   "nbconvert_exporter": "python",
   "pygments_lexer": "ipython3",
   "version": "3.12.4"
  }
 },
 "nbformat": 4,
 "nbformat_minor": 5
}
