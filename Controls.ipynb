{
 "cells": [
  {
   "cell_type": "markdown",
   "id": "665209bd-6a89-43ff-a4d3-e59487847115",
   "metadata": {},
   "source": [
    "# Find control villages "
   ]
  },
  {
   "cell_type": "code",
   "execution_count": 4,
   "id": "e44e61b1-5531-4fd4-a663-089d9c77ac3e",
   "metadata": {},
   "outputs": [],
   "source": [
    "import os \n",
    "import geopandas as gpd\n",
    "import pandas as pd"
   ]
  },
  {
   "cell_type": "code",
   "execution_count": 6,
   "id": "2f4296d2-4da4-46c0-b34f-14d331c38a3f",
   "metadata": {},
   "outputs": [],
   "source": [
    "year = 2005 #2005 is the base year for the matching process \n",
    "crs =  'EPSG:3148'"
   ]
  },
  {
   "cell_type": "code",
   "execution_count": null,
   "id": "792456b1-40f7-4d99-ba62-bbcd2b7e7112",
   "metadata": {},
   "outputs": [],
   "source": [
    "#Set root path\n",
    "root_path = os.path.join('DISES\\Proximity\\data') #https://drive.google.com/open?id=1QHF6wbAcBsGpZYumx63Ub7m48eO3Ue4k&usp=drive_fs"
   ]
  },
  {
   "cell_type": "code",
   "execution_count": 16,
   "id": "0f14c8cc-2583-4887-8f2f-b3b0974b1746",
   "metadata": {},
   "outputs": [],
   "source": [
    "# outputs path\n",
    "outputs_path = os.path.join(r'\\outputs')"
   ]
  },
  {
   "cell_type": "code",
   "execution_count": 18,
   "id": "36566ff5-241a-43ed-9b85-805a6db19b35",
   "metadata": {},
   "outputs": [],
   "source": [
    "#fa_shape_path = os.path.join('/Users/Daniel/Library/CloudStorage/GoogleDrive-dwiesner@sig-gis.com/My Drive/DISES/batched-predictions-branch/data/KHM/forested_areas', 'fa_70pc_129has_4conn.shp')\n",
    "fa_shape_path = os.path.join(root_path, 'fa_70pc_129has_4conn.shp')\n",
    "fas = gpd.read_file(fa_shape_path)\n",
    "fas = fas.to_crs(crs)"
   ]
  },
  {
   "cell_type": "code",
   "execution_count": 20,
   "id": "d6b745f3-84ee-428f-9770-2d3be00cc33c",
   "metadata": {},
   "outputs": [],
   "source": [
    "# Import CPA shapefile\n",
    "cpa_path = os.path.join(root_path, 'Community_Protected_Areas_Cambodia/CPA_Shape_31_Aug_2022.shp')\n",
    "cpa = gpd.read_file(cpa_path)\n",
    "\n",
    "# Add an ID column to the CPA starting from 1 to the total number of rows\n",
    "cpa['CPA_id'] = range(1, len(cpa) + 1)\n",
    "cpa = cpa.to_crs(crs)"
   ]
  },
  {
   "cell_type": "code",
   "execution_count": 22,
   "id": "5be89145-d29e-49ad-8b81-103fd07543b5",
   "metadata": {},
   "outputs": [],
   "source": [
    "cfs_path = os.path.join(root_path, 'Camboda CF updated data - Feb-2025/CF_KH_Updated_2.5.2025_EPSG32648.shp')\n",
    "cfs = gpd.read_file(cfs_path)\n",
    "cfs = cfs.to_crs(crs)\n",
    "\n",
    "#Create the CF code for further identification\n",
    "cfs.rename({'ObjectID':'CF_CODE'}, axis=1, inplace=True)\n",
    "cfs.sort_values('CF_CODE', inplace=True)\n",
    "#Drop the previous index\n",
    "cfs = cfs.reset_index(drop=True)\n",
    "#Create a string 3 digit code to uniquely identify the CFs\n",
    "cfs['CF_CODE'] = cfs['CF_CODE'].astype(str).str.zfill(3)"
   ]
  },
  {
   "cell_type": "markdown",
   "id": "3fd9fd37-ae99-4a9f-ac12-4fa89c7a12e3",
   "metadata": {},
   "source": [
    "### Define forests"
   ]
  },
  {
   "cell_type": "code",
   "execution_count": 25,
   "id": "eba2eba0-9d92-4de9-91a7-b2e761e86ae3",
   "metadata": {},
   "outputs": [],
   "source": [
    "from shapely.validation import make_valid\n",
    "# Validate geometries to avoid topology errors\n",
    "cfs['geometry'] = cfs['geometry'].apply(make_valid)\n",
    "fas['geometry'] = fas['geometry'].apply(make_valid)"
   ]
  },
  {
   "cell_type": "code",
   "execution_count": 26,
   "id": "3d0b6fa8-e694-4d10-ad40-dd5c92daf335",
   "metadata": {},
   "outputs": [],
   "source": [
    "gdf1 = cfs[['CF_CODE', 'geometry']]\n",
    "gdf1.columns = ['FID', 'geometry']"
   ]
  },
  {
   "cell_type": "code",
   "execution_count": 27,
   "id": "0f1ed2e5-a65b-407c-9eab-e8d555883c9c",
   "metadata": {},
   "outputs": [],
   "source": [
    "gdf2 = fas.copy(deep=True)"
   ]
  },
  {
   "cell_type": "code",
   "execution_count": 28,
   "id": "3e567226-a1cb-4169-ac25-fc8e3fe32e9a",
   "metadata": {},
   "outputs": [],
   "source": [
    "forests = pd.concat([gdf1, gdf2])\n",
    "forests = forests.reset_index(drop=True)"
   ]
  },
  {
   "cell_type": "markdown",
   "id": "a14a9d38-6ffa-43ee-8e61-1d84149d0e0f",
   "metadata": {},
   "source": [
    "# Find control Villages"
   ]
  },
  {
   "cell_type": "markdown",
   "id": "db9e04e6-f49c-4432-91ec-d139da2884e6",
   "metadata": {},
   "source": [
    "### Import Treatment villages\n",
    "\n",
    "(This corresponds to treatmente villages already created with 1. Find the nearest villages)"
   ]
  },
  {
   "cell_type": "code",
   "execution_count": 35,
   "id": "b5e5f04a-a452-425a-8740-36df202b89e2",
   "metadata": {},
   "outputs": [],
   "source": [
    "# Load data\n",
    "treatment_path = os.path.join(root_path, 'treatment_villages.shp')  # Treatment villag\n",
    "treatment_villages_gdf = gpd.read_file(treatment_path)\n",
    "\n",
    "# Create a new column to identify the treatment villages in further merge processes \n",
    "treatment_villages_gdf['Treatment'] = 1"
   ]
  },
  {
   "cell_type": "code",
   "execution_count": 38,
   "id": "000ada8c-9b52-4442-9ce7-ddae15aca196",
   "metadata": {},
   "outputs": [
    {
     "data": {
      "text/html": [
       "<div>\n",
       "<style scoped>\n",
       "    .dataframe tbody tr th:only-of-type {\n",
       "        vertical-align: middle;\n",
       "    }\n",
       "\n",
       "    .dataframe tbody tr th {\n",
       "        vertical-align: top;\n",
       "    }\n",
       "\n",
       "    .dataframe thead th {\n",
       "        text-align: right;\n",
       "    }\n",
       "</style>\n",
       "<table border=\"1\" class=\"dataframe\">\n",
       "  <thead>\n",
       "    <tr style=\"text-align: right;\">\n",
       "      <th></th>\n",
       "      <th>CF_CODE</th>\n",
       "      <th>PHUMCODE</th>\n",
       "      <th>VILLAGE</th>\n",
       "      <th>Criterion</th>\n",
       "      <th>geometry</th>\n",
       "      <th>Treatment</th>\n",
       "    </tr>\n",
       "  </thead>\n",
       "  <tbody>\n",
       "    <tr>\n",
       "      <th>0</th>\n",
       "      <td>001</td>\n",
       "      <td>1040507.0</td>\n",
       "      <td>paoy ta paen</td>\n",
       "      <td>Matching</td>\n",
       "      <td>POINT (300892.976 1504313.876)</td>\n",
       "      <td>1</td>\n",
       "    </tr>\n",
       "    <tr>\n",
       "      <th>1</th>\n",
       "      <td>002</td>\n",
       "      <td>1040210.0</td>\n",
       "      <td>phnum chonhcheang</td>\n",
       "      <td>Matching</td>\n",
       "      <td>POINT (301955.968 1507006.854)</td>\n",
       "      <td>1</td>\n",
       "    </tr>\n",
       "    <tr>\n",
       "      <th>2</th>\n",
       "      <td>005</td>\n",
       "      <td>1080106.0</td>\n",
       "      <td>prasat vien</td>\n",
       "      <td>Matching</td>\n",
       "      <td>POINT (307392.925 1533013.65)</td>\n",
       "      <td>1</td>\n",
       "    </tr>\n",
       "    <tr>\n",
       "      <th>3</th>\n",
       "      <td>006</td>\n",
       "      <td>1030209.0</td>\n",
       "      <td>koun klaeng</td>\n",
       "      <td>Matching</td>\n",
       "      <td>POINT (316052.857 1538343.608)</td>\n",
       "      <td>1</td>\n",
       "    </tr>\n",
       "    <tr>\n",
       "      <th>4</th>\n",
       "      <td>011</td>\n",
       "      <td>1040206.0</td>\n",
       "      <td>chroab thmei</td>\n",
       "      <td>Matching</td>\n",
       "      <td>POINT (304592.948 1512313.813)</td>\n",
       "      <td>1</td>\n",
       "    </tr>\n",
       "  </tbody>\n",
       "</table>\n",
       "</div>"
      ],
      "text/plain": [
       "  CF_CODE   PHUMCODE            VILLAGE Criterion  \\\n",
       "0     001  1040507.0       paoy ta paen  Matching   \n",
       "1     002  1040210.0  phnum chonhcheang  Matching   \n",
       "2     005  1080106.0        prasat vien  Matching   \n",
       "3     006  1030209.0        koun klaeng  Matching   \n",
       "4     011  1040206.0       chroab thmei  Matching   \n",
       "\n",
       "                         geometry  Treatment  \n",
       "0  POINT (300892.976 1504313.876)          1  \n",
       "1  POINT (301955.968 1507006.854)          1  \n",
       "2   POINT (307392.925 1533013.65)          1  \n",
       "3  POINT (316052.857 1538343.608)          1  \n",
       "4  POINT (304592.948 1512313.813)          1  "
      ]
     },
     "execution_count": 38,
     "metadata": {},
     "output_type": "execute_result"
    }
   ],
   "source": [
    "treatment_villages_gdf.head()"
   ]
  },
  {
   "cell_type": "code",
   "execution_count": 40,
   "id": "e01bbbaf-dbfd-41df-bb9a-1fdc3b60df90",
   "metadata": {},
   "outputs": [
    {
     "data": {
      "text/html": [
       "<div>\n",
       "<style scoped>\n",
       "    .dataframe tbody tr th:only-of-type {\n",
       "        vertical-align: middle;\n",
       "    }\n",
       "\n",
       "    .dataframe tbody tr th {\n",
       "        vertical-align: top;\n",
       "    }\n",
       "\n",
       "    .dataframe thead th {\n",
       "        text-align: right;\n",
       "    }\n",
       "</style>\n",
       "<table border=\"1\" class=\"dataframe\">\n",
       "  <thead>\n",
       "    <tr style=\"text-align: right;\">\n",
       "      <th></th>\n",
       "      <th>CF_CODE</th>\n",
       "      <th>PHUMCODE</th>\n",
       "      <th>VILLAGE</th>\n",
       "      <th>Criterion</th>\n",
       "      <th>geometry</th>\n",
       "      <th>Treatment</th>\n",
       "      <th>cf_id</th>\n",
       "    </tr>\n",
       "  </thead>\n",
       "  <tbody>\n",
       "    <tr>\n",
       "      <th>0</th>\n",
       "      <td>001</td>\n",
       "      <td>1040507.0</td>\n",
       "      <td>paoy ta paen</td>\n",
       "      <td>Matching</td>\n",
       "      <td>POINT (300892.976 1504313.876)</td>\n",
       "      <td>1</td>\n",
       "      <td>1</td>\n",
       "    </tr>\n",
       "    <tr>\n",
       "      <th>1</th>\n",
       "      <td>002</td>\n",
       "      <td>1040210.0</td>\n",
       "      <td>phnum chonhcheang</td>\n",
       "      <td>Matching</td>\n",
       "      <td>POINT (301955.968 1507006.854)</td>\n",
       "      <td>1</td>\n",
       "      <td>2</td>\n",
       "    </tr>\n",
       "    <tr>\n",
       "      <th>2</th>\n",
       "      <td>005</td>\n",
       "      <td>1080106.0</td>\n",
       "      <td>prasat vien</td>\n",
       "      <td>Matching</td>\n",
       "      <td>POINT (307392.925 1533013.65)</td>\n",
       "      <td>1</td>\n",
       "      <td>5</td>\n",
       "    </tr>\n",
       "    <tr>\n",
       "      <th>3</th>\n",
       "      <td>006</td>\n",
       "      <td>1030209.0</td>\n",
       "      <td>koun klaeng</td>\n",
       "      <td>Matching</td>\n",
       "      <td>POINT (316052.857 1538343.608)</td>\n",
       "      <td>1</td>\n",
       "      <td>6</td>\n",
       "    </tr>\n",
       "    <tr>\n",
       "      <th>4</th>\n",
       "      <td>011</td>\n",
       "      <td>1040206.0</td>\n",
       "      <td>chroab thmei</td>\n",
       "      <td>Matching</td>\n",
       "      <td>POINT (304592.948 1512313.813)</td>\n",
       "      <td>1</td>\n",
       "      <td>11</td>\n",
       "    </tr>\n",
       "  </tbody>\n",
       "</table>\n",
       "</div>"
      ],
      "text/plain": [
       "  CF_CODE   PHUMCODE            VILLAGE Criterion  \\\n",
       "0     001  1040507.0       paoy ta paen  Matching   \n",
       "1     002  1040210.0  phnum chonhcheang  Matching   \n",
       "2     005  1080106.0        prasat vien  Matching   \n",
       "3     006  1030209.0        koun klaeng  Matching   \n",
       "4     011  1040206.0       chroab thmei  Matching   \n",
       "\n",
       "                         geometry  Treatment cf_id  \n",
       "0  POINT (300892.976 1504313.876)          1     1  \n",
       "1  POINT (301955.968 1507006.854)          1     2  \n",
       "2   POINT (307392.925 1533013.65)          1     5  \n",
       "3  POINT (316052.857 1538343.608)          1     6  \n",
       "4  POINT (304592.948 1512313.813)          1    11  "
      ]
     },
     "execution_count": 40,
     "metadata": {},
     "output_type": "execute_result"
    }
   ],
   "source": [
    "treatment_villages_gdf[\"cf_id\"] = treatment_villages_gdf[\"CF_CODE\"].astype(str).str.lstrip(\"0\")\n",
    "treatment_villages_gdf.head()"
   ]
  },
  {
   "cell_type": "markdown",
   "id": "d07f8d32-bf08-4ba0-8b26-6baac9e1dbe7",
   "metadata": {},
   "source": [
    "### Original Approach\n",
    "Find the villages closest to either a CF or an FA, and consider them control. "
   ]
  },
  {
   "cell_type": "code",
   "execution_count": 46,
   "id": "b05334fe-f099-41f6-9c75-1dad21054f8a",
   "metadata": {},
   "outputs": [],
   "source": [
    "# 1. Find treatment villages (nearest to each CF)\n",
    "control_villages = []\n",
    "\n",
    "for _, f_geom in forests.iterrows():\n",
    "    nearest_village = find_nearest(vlgs2, f_geom.geometry)\n",
    "    control_villages.append(nearest_village)"
   ]
  },
  {
   "cell_type": "code",
   "execution_count": 49,
   "id": "0bb464eb-804f-4f5e-b6f0-5b1e882621d1",
   "metadata": {},
   "outputs": [],
   "source": [
    "control_villages_gdf = gpd.GeoDataFrame(control_villages, crs=crs)"
   ]
  },
  {
   "cell_type": "code",
   "execution_count": null,
   "id": "d49de2ac-ff85-42eb-a54e-29c7eb919ba9",
   "metadata": {
    "tags": []
   },
   "outputs": [],
   "source": [
    "dises_folder_path = '/Users/Daniel/Library/CloudStorage/GoogleDrive-dwiesner@sig-gis.com/My Drive/DISES/' #https://drive.google.com/open?id=1-FgWgnPlmFZhazQBmGNSZxt3Iz948OUr&usp=drive_fs\n",
    "control_path = os.path.join(dises_folde_path, 'batched-predictions-branch/data/KHM/treatment_contor_proximity/control_vlgs.shp') #https://drive.google.com/open?id=1zPglJZi1yu5N3HsYTpTptz9-U0nnUqlE&usp=drive_fs\n",
    "control_villages_gdf.to_file(control_path)"
   ]
  },
  {
   "cell_type": "code",
   "execution_count": 75,
   "id": "e2eead85-bddb-46cb-9751-35348ede280f",
   "metadata": {},
   "outputs": [],
   "source": [
    "#Create a gdf with treatment and control villages only\n",
    "#treatment_villages_gdf['Treatment'] = 1\n",
    "control_villages_gdf['Treatment'] = 0\n",
    "\n",
    "vlgs3 = pd.concat([treatment_villages_gdf, control_villages_gdf])\n",
    "\n",
    "vlgs3 = vlgs3.reset_index(drop=True)\n",
    "\n",
    "vlgs3 = vlgs3[['NUMBER', 'PHUMCODE', 'VILLAGE', 'geometry',\n",
    "       'Treatment']]"
   ]
  },
  {
   "cell_type": "markdown",
   "id": "b456b9d7-e949-495f-be7c-a775fcd366f3",
   "metadata": {},
   "source": [
    "#### Calculate distances from treatment and control villages"
   ]
  },
  {
   "cell_type": "code",
   "execution_count": 77,
   "id": "8add67c3-30c3-4583-965f-455a6ab1d974",
   "metadata": {},
   "outputs": [],
   "source": [
    "vlgs3 = calculate_distances(vlgs3, cfs, 'dist_cf_m')"
   ]
  },
  {
   "cell_type": "code",
   "execution_count": 79,
   "id": "41837cf8-9bb2-4db0-bf70-027ffcf8d4a4",
   "metadata": {},
   "outputs": [],
   "source": [
    "vlgs3 = calculate_distances(vlgs3, fas, 'dist_fa_m')"
   ]
  },
  {
   "cell_type": "code",
   "execution_count": 80,
   "id": "9f0f6c39-2a65-48d7-ab11-e966cf1a4789",
   "metadata": {},
   "outputs": [],
   "source": [
    "vlgs3 = calculate_distances(vlgs3, forests, 'dist_forest_m')"
   ]
  },
  {
   "cell_type": "code",
   "execution_count": 89,
   "id": "a9b643fd-bcea-4d8c-874b-6f7b32933fd1",
   "metadata": {},
   "outputs": [
    {
     "data": {
      "text/html": [
       "<div>\n",
       "<style scoped>\n",
       "    .dataframe tbody tr th:only-of-type {\n",
       "        vertical-align: middle;\n",
       "    }\n",
       "\n",
       "    .dataframe tbody tr th {\n",
       "        vertical-align: top;\n",
       "    }\n",
       "\n",
       "    .dataframe thead th {\n",
       "        text-align: right;\n",
       "    }\n",
       "</style>\n",
       "<table border=\"1\" class=\"dataframe\">\n",
       "  <thead>\n",
       "    <tr style=\"text-align: right;\">\n",
       "      <th></th>\n",
       "      <th>Treatment</th>\n",
       "      <th>0</th>\n",
       "      <th>1</th>\n",
       "    </tr>\n",
       "  </thead>\n",
       "  <tbody>\n",
       "    <tr>\n",
       "      <th rowspan=\"8\" valign=\"top\">dist_cf_m</th>\n",
       "      <th>count</th>\n",
       "      <td>982.00</td>\n",
       "      <td>598.00</td>\n",
       "    </tr>\n",
       "    <tr>\n",
       "      <th>mean</th>\n",
       "      <td>9852.79</td>\n",
       "      <td>1601.89</td>\n",
       "    </tr>\n",
       "    <tr>\n",
       "      <th>std</th>\n",
       "      <td>17790.72</td>\n",
       "      <td>1364.02</td>\n",
       "    </tr>\n",
       "    <tr>\n",
       "      <th>min</th>\n",
       "      <td>0.00</td>\n",
       "      <td>0.00</td>\n",
       "    </tr>\n",
       "    <tr>\n",
       "      <th>25%</th>\n",
       "      <td>1838.67</td>\n",
       "      <td>667.67</td>\n",
       "    </tr>\n",
       "    <tr>\n",
       "      <th>50%</th>\n",
       "      <td>3015.86</td>\n",
       "      <td>1268.91</td>\n",
       "    </tr>\n",
       "    <tr>\n",
       "      <th>75%</th>\n",
       "      <td>9182.92</td>\n",
       "      <td>2169.25</td>\n",
       "    </tr>\n",
       "    <tr>\n",
       "      <th>max</th>\n",
       "      <td>102656.87</td>\n",
       "      <td>9613.98</td>\n",
       "    </tr>\n",
       "    <tr>\n",
       "      <th rowspan=\"8\" valign=\"top\">dist_fa_m</th>\n",
       "      <th>count</th>\n",
       "      <td>982.00</td>\n",
       "      <td>598.00</td>\n",
       "    </tr>\n",
       "    <tr>\n",
       "      <th>mean</th>\n",
       "      <td>16360.28</td>\n",
       "      <td>23963.89</td>\n",
       "    </tr>\n",
       "    <tr>\n",
       "      <th>std</th>\n",
       "      <td>18446.15</td>\n",
       "      <td>20139.60</td>\n",
       "    </tr>\n",
       "    <tr>\n",
       "      <th>min</th>\n",
       "      <td>0.00</td>\n",
       "      <td>231.33</td>\n",
       "    </tr>\n",
       "    <tr>\n",
       "      <th>25%</th>\n",
       "      <td>4181.37</td>\n",
       "      <td>10051.96</td>\n",
       "    </tr>\n",
       "    <tr>\n",
       "      <th>50%</th>\n",
       "      <td>9899.75</td>\n",
       "      <td>18191.17</td>\n",
       "    </tr>\n",
       "    <tr>\n",
       "      <th>75%</th>\n",
       "      <td>21988.08</td>\n",
       "      <td>32477.26</td>\n",
       "    </tr>\n",
       "    <tr>\n",
       "      <th>max</th>\n",
       "      <td>164809.80</td>\n",
       "      <td>165894.83</td>\n",
       "    </tr>\n",
       "    <tr>\n",
       "      <th rowspan=\"8\" valign=\"top\">dist_forest_m</th>\n",
       "      <th>count</th>\n",
       "      <td>982.00</td>\n",
       "      <td>598.00</td>\n",
       "    </tr>\n",
       "    <tr>\n",
       "      <th>mean</th>\n",
       "      <td>2980.22</td>\n",
       "      <td>1565.88</td>\n",
       "    </tr>\n",
       "    <tr>\n",
       "      <th>std</th>\n",
       "      <td>2303.01</td>\n",
       "      <td>1312.31</td>\n",
       "    </tr>\n",
       "    <tr>\n",
       "      <th>min</th>\n",
       "      <td>0.00</td>\n",
       "      <td>0.00</td>\n",
       "    </tr>\n",
       "    <tr>\n",
       "      <th>25%</th>\n",
       "      <td>1458.46</td>\n",
       "      <td>667.01</td>\n",
       "    </tr>\n",
       "    <tr>\n",
       "      <th>50%</th>\n",
       "      <td>2443.00</td>\n",
       "      <td>1256.55</td>\n",
       "    </tr>\n",
       "    <tr>\n",
       "      <th>75%</th>\n",
       "      <td>3747.90</td>\n",
       "      <td>2146.96</td>\n",
       "    </tr>\n",
       "    <tr>\n",
       "      <th>max</th>\n",
       "      <td>15514.30</td>\n",
       "      <td>9613.98</td>\n",
       "    </tr>\n",
       "  </tbody>\n",
       "</table>\n",
       "</div>"
      ],
      "text/plain": [
       "Treatment                    0          1\n",
       "dist_cf_m     count     982.00     598.00\n",
       "              mean     9852.79    1601.89\n",
       "              std     17790.72    1364.02\n",
       "              min         0.00       0.00\n",
       "              25%      1838.67     667.67\n",
       "              50%      3015.86    1268.91\n",
       "              75%      9182.92    2169.25\n",
       "              max    102656.87    9613.98\n",
       "dist_fa_m     count     982.00     598.00\n",
       "              mean    16360.28   23963.89\n",
       "              std     18446.15   20139.60\n",
       "              min         0.00     231.33\n",
       "              25%      4181.37   10051.96\n",
       "              50%      9899.75   18191.17\n",
       "              75%     21988.08   32477.26\n",
       "              max    164809.80  165894.83\n",
       "dist_forest_m count     982.00     598.00\n",
       "              mean     2980.22    1565.88\n",
       "              std      2303.01    1312.31\n",
       "              min         0.00       0.00\n",
       "              25%      1458.46     667.01\n",
       "              50%      2443.00    1256.55\n",
       "              75%      3747.90    2146.96\n",
       "              max     15514.30    9613.98"
      ]
     },
     "execution_count": 89,
     "metadata": {},
     "output_type": "execute_result"
    }
   ],
   "source": [
    "vlgs3.drop(['NUMBER', 'PHUMCODE'], axis=1).groupby('Treatment').describe().round(2).transpose()"
   ]
  },
  {
   "cell_type": "markdown",
   "id": "538e5289-492d-4570-9c15-18a5f480278b",
   "metadata": {},
   "source": [
    "## New Approaches"
   ]
  },
  {
   "attachments": {},
   "cell_type": "markdown",
   "id": "6f76a2fd-e996-4b88-96aa-bc71bed67afa",
   "metadata": {},
   "source": [
    "### Approach A\n",
    "\n",
    "From the CFs, pick villages that are at least 5km away but less than 10kms away as control"
   ]
  },
  {
   "cell_type": "code",
   "execution_count": 40,
   "id": "62ffb028-4a43-49eb-b33a-b3cd804ddfc4",
   "metadata": {},
   "outputs": [
    {
     "name": "stdout",
     "output_type": "stream",
     "text": [
      "CPU times: user 382 ms, sys: 33 ms, total: 415 ms\n",
      "Wall time: 439 ms\n"
     ]
    }
   ],
   "source": [
    "%%time\n",
    "# Step 1: Create buffers for 5 km and 10 km\n",
    "cfs_buffer_5km = cfs.copy()\n",
    "cfs_buffer_5km['geometry'] = cfs_buffer_5km.geometry.buffer(5000)\n",
    "\n",
    "cfs_buffer_10km = cfs.copy()\n",
    "cfs_buffer_10km['geometry'] = cfs_buffer_10km.geometry.buffer(10000)"
   ]
  },
  {
   "cell_type": "code",
   "execution_count": 41,
   "id": "e9dd0e35-746c-4bbc-b2f6-1fc616e400f4",
   "metadata": {},
   "outputs": [],
   "source": [
    "# Step 2: Find villages within the 10 km buffer\n",
    "villages_within_10km = gpd.sjoin(vlgs2, cfs_buffer_10km, predicate='within')"
   ]
  },
  {
   "cell_type": "code",
   "execution_count": 42,
   "id": "3a0654ed-c854-4108-a0d2-f5c1ee479df5",
   "metadata": {},
   "outputs": [],
   "source": [
    "# Step 3: Find villages within the 5 km buffer\n",
    "villages_within_5km = gpd.sjoin(vlgs2, cfs_buffer_5km, predicate='within')"
   ]
  },
  {
   "cell_type": "code",
   "execution_count": 43,
   "id": "9ee00fb1-abfe-454e-9fbf-08d521680dfc",
   "metadata": {},
   "outputs": [],
   "source": [
    "# Step 4: Exclude villages within the 5 km buffer from those within 10 km\n",
    "control_villages_appch2 = villages_within_10km[~villages_within_10km['PHUMCODE'].isin(villages_within_5km['PHUMCODE'])].reset_index(drop=True)"
   ]
  },
  {
   "cell_type": "code",
   "execution_count": 44,
   "id": "3034d2fe-b852-4d63-8cd6-b7037cf75a34",
   "metadata": {},
   "outputs": [],
   "source": [
    "# Step 5: Calculate distance from the village to the each community forest whose buffer contains the village\n",
    "    # This seeks to select the CFs that is closest to each village \n",
    "\n",
    "    # Merge the two geometries (villages and community forests)\n",
    "control_villages_appch2 = control_villages_appch2.merge(cfs[['cf_id','geometry']], on=\"cf_id\", suffixes=(\"_village\", \"_forest\"))\n",
    "\n",
    "    # Convert to GeoDataFrame \n",
    "control_villages_appch2 = gpd.GeoDataFrame(control_villages_appch2, geometry=\"geometry_village\")\n",
    "\n",
    "    # Calculate distance between both geometries \n",
    "control_villages_appch2[\"distance_to_forest\"] = control_villages_appch2[\"geometry_village\"].distance(gpd.GeoSeries(control_villages_appch2[\"geometry_forest\"], crs=control_villages_appch2.crs))"
   ]
  },
  {
   "cell_type": "code",
   "execution_count": 45,
   "id": "feb3ca32-78ea-4980-aae6-f07a88e9ce60",
   "metadata": {},
   "outputs": [],
   "source": [
    "# Step 6: Keep the village with the shortest distance to a CF\n",
    "\n",
    "control_villages_appch2 = control_villages_appch2.sort_values(by=[\"cf_id\", \"distance_to_forest\"]).drop_duplicates(subset='PHUMCODE', keep='first').reset_index(drop=True)"
   ]
  },
  {
   "cell_type": "code",
   "execution_count": 46,
   "id": "4d754f5b-071b-4e96-9ee9-48e5b892b4da",
   "metadata": {},
   "outputs": [],
   "source": [
    "# Step 7: Arrange dataset\n",
    "\n",
    "    # Add treatment village id\n",
    "control_villages_appch2 = control_villages_appch2.merge(cf_id_dict, on='cf_id', how='left')\n",
    "\n",
    "    # Select only necessary variables \n",
    "\n",
    "control_villages_appch2 = control_villages_appch2[['PHUMCODE', 'VILLAGE', 'cf_id', 'distance_to_forest', 'treatm_id', 'geometry_village']].copy()\n",
    "\n",
    "    # Rename column to standardize\n",
    "control_villages_appch2.rename({'geometry_village':'geometry', 'distance_to_forest':'dist_forst'}, axis=1, inplace=True)\n",
    "\n",
    "    # Convert to GeoDataFrame \n",
    "control_villages_appch2 = gpd.GeoDataFrame(control_villages_appch2, geometry=\"geometry\", crs=vlgs.crs)"
   ]
  },
  {
   "cell_type": "markdown",
   "id": "7c70047e-3ad6-4245-afc3-66836ba35699",
   "metadata": {},
   "source": [
    "#### Calculate distances from treatment and control villages"
   ]
  },
  {
   "cell_type": "code",
   "execution_count": 47,
   "id": "bc8e0cc0-ec30-4c72-b6e7-d0210d4ed47a",
   "metadata": {},
   "outputs": [],
   "source": [
    "#Create a gdf with treatment and control villages only\n",
    "control_villages_appch2['Treatment'] = 0\n",
    "\n",
    "vlgs_appch2 = pd.concat([treatment_villages_gdf, control_villages_appch2])\n",
    "\n",
    "vlgs_appch2 = vlgs_appch2.reset_index(drop=True)\n",
    "\n",
    "vlgs_appch2 = vlgs_appch2[['PHUMCODE', 'VILLAGE','Treatment','treatm_id', 'cf_id','geometry']]"
   ]
  },
  {
   "cell_type": "code",
   "execution_count": 48,
   "id": "b3295dde-dbfb-4b65-8cbd-881bd2ba70d2",
   "metadata": {},
   "outputs": [
    {
     "name": "stdout",
     "output_type": "stream",
     "text": [
      "CPU times: user 1min 13s, sys: 429 ms, total: 1min 14s\n",
      "Wall time: 1min 15s\n"
     ]
    }
   ],
   "source": [
    "%%time\n",
    "# Calculate the distance between the village and the community forest\n",
    "vlgs_appch2 = calculate_distances(vlgs_appch2, cfs, 'dist_cf_m')\n",
    "\n",
    "# Calculate the distance between the village and the FAS\n",
    "vlgs_appch2 = calculate_distances(vlgs_appch2, fas, 'dist_fa_m')\n",
    "\n",
    "# Calculate the distance between the village and any type of forest\n",
    "vlgs_appch2 = calculate_distances(vlgs_appch2, forests, 'dist_forest_m')"
   ]
  },
  {
   "cell_type": "code",
   "execution_count": 49,
   "id": "d93ebf9a-af16-4a37-b090-fe081e793fbe",
   "metadata": {},
   "outputs": [
    {
     "data": {
      "text/html": [
       "<div>\n",
       "<style scoped>\n",
       "    .dataframe tbody tr th:only-of-type {\n",
       "        vertical-align: middle;\n",
       "    }\n",
       "\n",
       "    .dataframe tbody tr th {\n",
       "        vertical-align: top;\n",
       "    }\n",
       "\n",
       "    .dataframe thead th {\n",
       "        text-align: right;\n",
       "    }\n",
       "</style>\n",
       "<table border=\"1\" class=\"dataframe\">\n",
       "  <thead>\n",
       "    <tr style=\"text-align: right;\">\n",
       "      <th></th>\n",
       "      <th>Treatment</th>\n",
       "      <th>0</th>\n",
       "      <th>1</th>\n",
       "    </tr>\n",
       "  </thead>\n",
       "  <tbody>\n",
       "    <tr>\n",
       "      <th rowspan=\"8\" valign=\"top\">dist_cf_m</th>\n",
       "      <th>count</th>\n",
       "      <td>2486.00</td>\n",
       "      <td>598.00</td>\n",
       "    </tr>\n",
       "    <tr>\n",
       "      <th>mean</th>\n",
       "      <td>7288.56</td>\n",
       "      <td>1601.89</td>\n",
       "    </tr>\n",
       "    <tr>\n",
       "      <th>std</th>\n",
       "      <td>1429.25</td>\n",
       "      <td>1364.02</td>\n",
       "    </tr>\n",
       "    <tr>\n",
       "      <th>min</th>\n",
       "      <td>4995.66</td>\n",
       "      <td>0.00</td>\n",
       "    </tr>\n",
       "    <tr>\n",
       "      <th>25%</th>\n",
       "      <td>6039.79</td>\n",
       "      <td>667.67</td>\n",
       "    </tr>\n",
       "    <tr>\n",
       "      <th>50%</th>\n",
       "      <td>7158.69</td>\n",
       "      <td>1268.91</td>\n",
       "    </tr>\n",
       "    <tr>\n",
       "      <th>75%</th>\n",
       "      <td>8488.22</td>\n",
       "      <td>2169.25</td>\n",
       "    </tr>\n",
       "    <tr>\n",
       "      <th>max</th>\n",
       "      <td>9992.29</td>\n",
       "      <td>9613.98</td>\n",
       "    </tr>\n",
       "    <tr>\n",
       "      <th rowspan=\"8\" valign=\"top\">dist_fa_m</th>\n",
       "      <th>count</th>\n",
       "      <td>2486.00</td>\n",
       "      <td>598.00</td>\n",
       "    </tr>\n",
       "    <tr>\n",
       "      <th>mean</th>\n",
       "      <td>41097.08</td>\n",
       "      <td>23963.89</td>\n",
       "    </tr>\n",
       "    <tr>\n",
       "      <th>std</th>\n",
       "      <td>28463.81</td>\n",
       "      <td>20139.60</td>\n",
       "    </tr>\n",
       "    <tr>\n",
       "      <th>min</th>\n",
       "      <td>0.00</td>\n",
       "      <td>231.33</td>\n",
       "    </tr>\n",
       "    <tr>\n",
       "      <th>25%</th>\n",
       "      <td>23006.50</td>\n",
       "      <td>10051.96</td>\n",
       "    </tr>\n",
       "    <tr>\n",
       "      <th>50%</th>\n",
       "      <td>38602.40</td>\n",
       "      <td>18191.17</td>\n",
       "    </tr>\n",
       "    <tr>\n",
       "      <th>75%</th>\n",
       "      <td>52297.43</td>\n",
       "      <td>32477.26</td>\n",
       "    </tr>\n",
       "    <tr>\n",
       "      <th>max</th>\n",
       "      <td>173696.29</td>\n",
       "      <td>165894.83</td>\n",
       "    </tr>\n",
       "    <tr>\n",
       "      <th rowspan=\"8\" valign=\"top\">dist_forest_m</th>\n",
       "      <th>count</th>\n",
       "      <td>2486.00</td>\n",
       "      <td>598.00</td>\n",
       "    </tr>\n",
       "    <tr>\n",
       "      <th>mean</th>\n",
       "      <td>7123.59</td>\n",
       "      <td>1565.88</td>\n",
       "    </tr>\n",
       "    <tr>\n",
       "      <th>std</th>\n",
       "      <td>1589.73</td>\n",
       "      <td>1312.31</td>\n",
       "    </tr>\n",
       "    <tr>\n",
       "      <th>min</th>\n",
       "      <td>0.00</td>\n",
       "      <td>0.00</td>\n",
       "    </tr>\n",
       "    <tr>\n",
       "      <th>25%</th>\n",
       "      <td>5923.86</td>\n",
       "      <td>667.01</td>\n",
       "    </tr>\n",
       "    <tr>\n",
       "      <th>50%</th>\n",
       "      <td>7022.66</td>\n",
       "      <td>1256.55</td>\n",
       "    </tr>\n",
       "    <tr>\n",
       "      <th>75%</th>\n",
       "      <td>8378.98</td>\n",
       "      <td>2146.96</td>\n",
       "    </tr>\n",
       "    <tr>\n",
       "      <th>max</th>\n",
       "      <td>9992.29</td>\n",
       "      <td>9613.98</td>\n",
       "    </tr>\n",
       "  </tbody>\n",
       "</table>\n",
       "</div>"
      ],
      "text/plain": [
       "Treatment                    0          1\n",
       "dist_cf_m     count    2486.00     598.00\n",
       "              mean     7288.56    1601.89\n",
       "              std      1429.25    1364.02\n",
       "              min      4995.66       0.00\n",
       "              25%      6039.79     667.67\n",
       "              50%      7158.69    1268.91\n",
       "              75%      8488.22    2169.25\n",
       "              max      9992.29    9613.98\n",
       "dist_fa_m     count    2486.00     598.00\n",
       "              mean    41097.08   23963.89\n",
       "              std     28463.81   20139.60\n",
       "              min         0.00     231.33\n",
       "              25%     23006.50   10051.96\n",
       "              50%     38602.40   18191.17\n",
       "              75%     52297.43   32477.26\n",
       "              max    173696.29  165894.83\n",
       "dist_forest_m count    2486.00     598.00\n",
       "              mean     7123.59    1565.88\n",
       "              std      1589.73    1312.31\n",
       "              min         0.00       0.00\n",
       "              25%      5923.86     667.01\n",
       "              50%      7022.66    1256.55\n",
       "              75%      8378.98    2146.96\n",
       "              max      9992.29    9613.98"
      ]
     },
     "execution_count": 49,
     "metadata": {},
     "output_type": "execute_result"
    }
   ],
   "source": [
    "vlgs_appch2.drop(['PHUMCODE', 'cf_id', 'treatm_id'], axis=1).groupby('Treatment').describe().round(2).transpose()"
   ]
  },
  {
   "attachments": {},
   "cell_type": "markdown",
   "id": "5d381cf1-a04b-4174-857b-c36d1f1f9a8a",
   "metadata": {},
   "source": [
    "#### CPA\n",
    "CPA tag (dummy) and have distances of treatment and control villages to CPAs"
   ]
  },
  {
   "cell_type": "code",
   "execution_count": 45,
   "id": "dd9baf4f-15d1-4b54-b16f-4b1bcb61f63c",
   "metadata": {},
   "outputs": [],
   "source": [
    "# Step 1: Sjoin of villages and CPAs\n",
    "cpa_apprch2 = gpd.sjoin(vlgs_appch2, cpa[['CPA_id', 'CPAName_Eg', 'geometry']], predicate='within')"
   ]
  },
  {
   "cell_type": "code",
   "execution_count": 46,
   "id": "fd06a9a5-290d-40b7-ab27-5c155470c4b7",
   "metadata": {},
   "outputs": [],
   "source": [
    "# Step 2: Create a dummy to villages that are within CPAs\n",
    "\n",
    "vlgs_appch2['CPA_dummy'] = np.where(vlgs_appch2['PHUMCODE'].isin(cpa_apprch2['PHUMCODE']), 1, 0)"
   ]
  },
  {
   "cell_type": "code",
   "execution_count": 47,
   "id": "eb56b607-c51d-497a-9019-f5f8cf7a4e85",
   "metadata": {},
   "outputs": [],
   "source": [
    "# Step 3: Calculate distances\n",
    "\n",
    "vlgs_appch2 = calculate_distances(vlgs_appch2, cpa, 'dist_cpa_m')"
   ]
  },
  {
   "cell_type": "code",
   "execution_count": 48,
   "id": "130fcbd1-48e0-4382-82a1-5654db6117e1",
   "metadata": {},
   "outputs": [],
   "source": [
    "vlgs_appch2['treatm_id'] = vlgs_appch2['treatm_id'].fillna(vlgs_appch2['PHUMCODE'])"
   ]
  },
  {
   "cell_type": "markdown",
   "id": "8edb8fdc-0bf5-4ad8-835b-0162b35661aa",
   "metadata": {},
   "source": [
    "#### Export files apprch 2"
   ]
  },
  {
   "cell_type": "code",
   "execution_count": 247,
   "id": "94bd2b83-578a-4f76-892b-81f7f989c1d8",
   "metadata": {},
   "outputs": [
    {
     "name": "stderr",
     "output_type": "stream",
     "text": [
      "/var/folders/rg/s4kgtnsx69j8kmy5pyg5ngrm0000gn/T/ipykernel_99535/3777793634.py:7: UserWarning: Column names longer than 10 characters will be truncated when saved to ESRI Shapefile.\n",
      "  vlgs_appch2.to_file(outputs_path + '/control_villages_appchA/vlgs_appchA.shp')\n"
     ]
    }
   ],
   "source": [
    "#cfs_buffer_10km.to_file(outputs_path + '/cfs_buffer_10km/cfs_buffer_10km.shp')\n",
    "\n",
    "#cfs_buffer_5km.to_file(outputs_path + '/cfs_buffer_5km/cfs_buffer_5km.shp')\n",
    "\n",
    "#control_villages_appch2.to_file(outputs_path + '/control_villages_appch2/control_villages_appch2.shp')\n",
    "\n",
    "vlgs_appch2.to_file(outputs_path + '/control_villages_appchA/vlgs_appchA.shp')\n"
   ]
  },
  {
   "attachments": {},
   "cell_type": "markdown",
   "id": "fa8f5aa9-f83b-48c6-9f87-0d2343ad178b",
   "metadata": {},
   "source": [
    "### Approach B\n",
    "\n",
    "Pool all villages within 5km of CFs as control (CFs)"
   ]
  },
  {
   "cell_type": "code",
   "execution_count": 49,
   "id": "b91d7795-2cdb-467e-8e31-0c386746f5c2",
   "metadata": {},
   "outputs": [],
   "source": [
    "# Step 1: Perform a spatial join to find villages within the buffer\n",
    "control_villages_appch3 = gpd.sjoin(vlgs2, cfs_buffer_5km, predicate='within')"
   ]
  },
  {
   "cell_type": "code",
   "execution_count": 50,
   "id": "0a81bc5b-c874-4624-9995-2be20b8a9f59",
   "metadata": {},
   "outputs": [],
   "source": [
    "# Step 2: Calculate distance from the village to the each community forest whose buffer contains the village\n",
    "\n",
    "    # Merge the two geometries (villages and community forests)\n",
    "control_villages_appch3 = control_villages_appch3.merge(cfs[['cf_id','geometry']], on=\"cf_id\", suffixes=(\"_village\", \"_forest\"))\n",
    "\n",
    "    # Convert to GeoDataFrame \n",
    "control_villages_appch3 = gpd.GeoDataFrame(control_villages_appch3, geometry=\"geometry_village\")\n",
    "\n",
    "    # Calculate distance between both geometries \n",
    "control_villages_appch3[\"distance_to_forest\"] = control_villages_appch3[\"geometry_village\"].distance(gpd.GeoSeries(control_villages_appch3[\"geometry_forest\"], crs=control_villages_appch3.crs))"
   ]
  },
  {
   "cell_type": "code",
   "execution_count": 51,
   "id": "18dc3540-5a04-4837-aee8-e528f54e4d4b",
   "metadata": {},
   "outputs": [],
   "source": [
    "# Step 6: Drop duplicated villages with the shortest distance to a CF\n",
    "\n",
    "control_villages_appch3 = control_villages_appch3.sort_values(by=[\"cf_id\", \"distance_to_forest\"]).drop_duplicates(subset='PHUMCODE', keep='first').reset_index(drop=True)"
   ]
  },
  {
   "cell_type": "code",
   "execution_count": 52,
   "id": "8477fbde-aac5-4488-80e1-1c387b5b0b9e",
   "metadata": {},
   "outputs": [],
   "source": [
    "# Add treatment village id\n",
    "control_villages_appch3 = control_villages_appch3.merge(cf_id_dict, on='cf_id', how='left')\n",
    "\n",
    "# Select only necessary variables \n",
    "\n",
    "control_villages_appch3 = control_villages_appch3[['PHUMCODE', 'VILLAGE', 'cf_id', 'distance_to_forest', 'treatm_id', 'geometry_village']].copy()\n",
    "\n",
    "# Rename column to standardize\n",
    "control_villages_appch3.rename({'geometry_village':'geometry', 'distance_to_forest':'dist_forst'}, axis=1, inplace=True)"
   ]
  },
  {
   "cell_type": "code",
   "execution_count": 53,
   "id": "76858349-9923-4e46-8945-1411e2012494",
   "metadata": {},
   "outputs": [],
   "source": [
    "    # Convert to GeoDataFrame \n",
    "control_villages_appch3 = gpd.GeoDataFrame(control_villages_appch3, geometry=\"geometry\", crs=vlgs.crs)"
   ]
  },
  {
   "cell_type": "markdown",
   "id": "276b1085-2717-4189-ba97-652accdb7412",
   "metadata": {},
   "source": [
    "#### Calculate distances from treatment and control villages"
   ]
  },
  {
   "cell_type": "code",
   "execution_count": 54,
   "id": "f52cce9c-14a5-4834-b692-29598cef117f",
   "metadata": {},
   "outputs": [],
   "source": [
    "#Create a gdf with treatment and control villages only\n",
    "control_villages_appch3['Treatment'] = 0\n",
    "\n",
    "vlgs_appch3 = pd.concat([treatment_villages_gdf, control_villages_appch3])\n",
    "\n",
    "vlgs_appch3 = vlgs_appch3.reset_index(drop=True)\n",
    "\n",
    "vlgs_appch3 = vlgs_appch3[['PHUMCODE', 'VILLAGE','Treatment','treatm_id', 'cf_id','geometry']]"
   ]
  },
  {
   "cell_type": "code",
   "execution_count": 55,
   "id": "59ecb82d-631d-43c7-a8ed-bb4bdb90e208",
   "metadata": {
    "scrolled": true
   },
   "outputs": [
    {
     "name": "stdout",
     "output_type": "stream",
     "text": [
      "CPU times: user 1min 4s, sys: 497 ms, total: 1min 4s\n",
      "Wall time: 1min 6s\n"
     ]
    }
   ],
   "source": [
    "%%time\n",
    "# Calculate the distance between the village and the community forest\n",
    "vlgs_appch3 = calculate_distances(vlgs_appch3, cfs, 'dist_cf_m')\n",
    "\n",
    "# Calculate the distance between the village and the FAS\n",
    "vlgs_appch3 = calculate_distances(vlgs_appch3, fas, 'dist_fa_m')\n",
    "\n",
    "# Calculate the distance between the village and any type of forest\n",
    "vlgs_appch3 = calculate_distances(vlgs_appch3, forests, 'dist_forest_m')"
   ]
  },
  {
   "cell_type": "code",
   "execution_count": 57,
   "id": "85954bc5-8f94-405f-98ef-4ceef8e34ce5",
   "metadata": {},
   "outputs": [
    {
     "data": {
      "text/html": [
       "<div>\n",
       "<style scoped>\n",
       "    .dataframe tbody tr th:only-of-type {\n",
       "        vertical-align: middle;\n",
       "    }\n",
       "\n",
       "    .dataframe tbody tr th {\n",
       "        vertical-align: top;\n",
       "    }\n",
       "\n",
       "    .dataframe thead th {\n",
       "        text-align: right;\n",
       "    }\n",
       "</style>\n",
       "<table border=\"1\" class=\"dataframe\">\n",
       "  <thead>\n",
       "    <tr style=\"text-align: right;\">\n",
       "      <th></th>\n",
       "      <th>Treatment</th>\n",
       "      <th>0</th>\n",
       "      <th>1</th>\n",
       "    </tr>\n",
       "  </thead>\n",
       "  <tbody>\n",
       "    <tr>\n",
       "      <th rowspan=\"8\" valign=\"top\">dist_cf_m</th>\n",
       "      <th>count</th>\n",
       "      <td>2045.00</td>\n",
       "      <td>598.00</td>\n",
       "    </tr>\n",
       "    <tr>\n",
       "      <th>mean</th>\n",
       "      <td>3080.04</td>\n",
       "      <td>1601.89</td>\n",
       "    </tr>\n",
       "    <tr>\n",
       "      <th>std</th>\n",
       "      <td>1224.48</td>\n",
       "      <td>1364.02</td>\n",
       "    </tr>\n",
       "    <tr>\n",
       "      <th>min</th>\n",
       "      <td>0.00</td>\n",
       "      <td>0.00</td>\n",
       "    </tr>\n",
       "    <tr>\n",
       "      <th>25%</th>\n",
       "      <td>2191.48</td>\n",
       "      <td>667.67</td>\n",
       "    </tr>\n",
       "    <tr>\n",
       "      <th>50%</th>\n",
       "      <td>3157.62</td>\n",
       "      <td>1268.91</td>\n",
       "    </tr>\n",
       "    <tr>\n",
       "      <th>75%</th>\n",
       "      <td>4133.99</td>\n",
       "      <td>2169.25</td>\n",
       "    </tr>\n",
       "    <tr>\n",
       "      <th>max</th>\n",
       "      <td>4998.12</td>\n",
       "      <td>9613.98</td>\n",
       "    </tr>\n",
       "    <tr>\n",
       "      <th rowspan=\"8\" valign=\"top\">dist_fa_m</th>\n",
       "      <th>count</th>\n",
       "      <td>2045.00</td>\n",
       "      <td>598.00</td>\n",
       "    </tr>\n",
       "    <tr>\n",
       "      <th>mean</th>\n",
       "      <td>35880.99</td>\n",
       "      <td>23963.89</td>\n",
       "    </tr>\n",
       "    <tr>\n",
       "      <th>std</th>\n",
       "      <td>28546.22</td>\n",
       "      <td>20139.60</td>\n",
       "    </tr>\n",
       "    <tr>\n",
       "      <th>min</th>\n",
       "      <td>0.00</td>\n",
       "      <td>231.33</td>\n",
       "    </tr>\n",
       "    <tr>\n",
       "      <th>25%</th>\n",
       "      <td>16613.85</td>\n",
       "      <td>10051.96</td>\n",
       "    </tr>\n",
       "    <tr>\n",
       "      <th>50%</th>\n",
       "      <td>30946.80</td>\n",
       "      <td>18191.17</td>\n",
       "    </tr>\n",
       "    <tr>\n",
       "      <th>75%</th>\n",
       "      <td>48373.67</td>\n",
       "      <td>32477.26</td>\n",
       "    </tr>\n",
       "    <tr>\n",
       "      <th>max</th>\n",
       "      <td>171048.62</td>\n",
       "      <td>165894.83</td>\n",
       "    </tr>\n",
       "    <tr>\n",
       "      <th rowspan=\"8\" valign=\"top\">dist_forest_m</th>\n",
       "      <th>count</th>\n",
       "      <td>2045.00</td>\n",
       "      <td>598.00</td>\n",
       "    </tr>\n",
       "    <tr>\n",
       "      <th>mean</th>\n",
       "      <td>3068.65</td>\n",
       "      <td>1565.88</td>\n",
       "    </tr>\n",
       "    <tr>\n",
       "      <th>std</th>\n",
       "      <td>1226.33</td>\n",
       "      <td>1312.31</td>\n",
       "    </tr>\n",
       "    <tr>\n",
       "      <th>min</th>\n",
       "      <td>0.00</td>\n",
       "      <td>0.00</td>\n",
       "    </tr>\n",
       "    <tr>\n",
       "      <th>25%</th>\n",
       "      <td>2184.17</td>\n",
       "      <td>667.01</td>\n",
       "    </tr>\n",
       "    <tr>\n",
       "      <th>50%</th>\n",
       "      <td>3132.70</td>\n",
       "      <td>1256.55</td>\n",
       "    </tr>\n",
       "    <tr>\n",
       "      <th>75%</th>\n",
       "      <td>4119.75</td>\n",
       "      <td>2146.96</td>\n",
       "    </tr>\n",
       "    <tr>\n",
       "      <th>max</th>\n",
       "      <td>4998.12</td>\n",
       "      <td>9613.98</td>\n",
       "    </tr>\n",
       "  </tbody>\n",
       "</table>\n",
       "</div>"
      ],
      "text/plain": [
       "Treatment                    0          1\n",
       "dist_cf_m     count    2045.00     598.00\n",
       "              mean     3080.04    1601.89\n",
       "              std      1224.48    1364.02\n",
       "              min         0.00       0.00\n",
       "              25%      2191.48     667.67\n",
       "              50%      3157.62    1268.91\n",
       "              75%      4133.99    2169.25\n",
       "              max      4998.12    9613.98\n",
       "dist_fa_m     count    2045.00     598.00\n",
       "              mean    35880.99   23963.89\n",
       "              std     28546.22   20139.60\n",
       "              min         0.00     231.33\n",
       "              25%     16613.85   10051.96\n",
       "              50%     30946.80   18191.17\n",
       "              75%     48373.67   32477.26\n",
       "              max    171048.62  165894.83\n",
       "dist_forest_m count    2045.00     598.00\n",
       "              mean     3068.65    1565.88\n",
       "              std      1226.33    1312.31\n",
       "              min         0.00       0.00\n",
       "              25%      2184.17     667.01\n",
       "              50%      3132.70    1256.55\n",
       "              75%      4119.75    2146.96\n",
       "              max      4998.12    9613.98"
      ]
     },
     "execution_count": 57,
     "metadata": {},
     "output_type": "execute_result"
    }
   ],
   "source": [
    "vlgs_appch3.drop(['PHUMCODE', 'cf_id', 'treatm_id'], axis=1).groupby('Treatment').describe().round(2).transpose()"
   ]
  },
  {
   "cell_type": "markdown",
   "id": "c8ecc934-de52-412c-a06a-cbf8eda8343e",
   "metadata": {},
   "source": [
    "#### CPA"
   ]
  },
  {
   "cell_type": "code",
   "execution_count": 58,
   "id": "ce7ad1bb-ca74-4d28-8fc1-e463a65a51fc",
   "metadata": {},
   "outputs": [],
   "source": [
    "# Step 1: Sjoin of villages and CPAs\n",
    "\n",
    "cpa_apprch3 = gpd.sjoin(vlgs_appch3, cpa[['CPA_id', 'CPAName_Eg', 'geometry']], predicate='within')"
   ]
  },
  {
   "cell_type": "code",
   "execution_count": 59,
   "id": "c9c34fd6-8384-4e0e-91e1-08fb5f388add",
   "metadata": {},
   "outputs": [],
   "source": [
    "# Step 2: Create a dummy to villages that are within CPAs\n",
    " \n",
    "vlgs_appch3['CPA_dummy'] = np.where(vlgs_appch3['PHUMCODE'].isin(cpa_apprch3['PHUMCODE']), 1, 0)"
   ]
  },
  {
   "cell_type": "code",
   "execution_count": 60,
   "id": "50adf258-158e-4038-bd04-5a5b4fdcd2bc",
   "metadata": {},
   "outputs": [],
   "source": [
    "# Step 3: Calculate distances\n",
    "\n",
    "vlgs_appch3 = calculate_distances(vlgs_appch3, cpa, 'dist_cpa_m')"
   ]
  },
  {
   "cell_type": "code",
   "execution_count": 61,
   "id": "7fd5a8d8-1651-46b5-9586-6c08c2993c64",
   "metadata": {},
   "outputs": [],
   "source": [
    "vlgs_appch3['treatm_id'] = vlgs_appch3['treatm_id'].fillna(vlgs_appch3['PHUMCODE'])"
   ]
  },
  {
   "cell_type": "markdown",
   "id": "b7a4f276-07a7-44fa-884b-7e62fa10d12b",
   "metadata": {},
   "source": [
    "#### Export files apprch 3"
   ]
  },
  {
   "cell_type": "code",
   "execution_count": null,
   "id": "c2b35831-0375-4b95-becb-6dfd46d4499c",
   "metadata": {},
   "outputs": [
    {
     "name": "stderr",
     "output_type": "stream",
     "text": [
      "/var/folders/rg/s4kgtnsx69j8kmy5pyg5ngrm0000gn/T/ipykernel_99535/29986906.py:3: UserWarning: Column names longer than 10 characters will be truncated when saved to ESRI Shapefile.\n",
      "  vlgs_appch3.to_file(outputs_path + '/control_villages_appchB/vlgs_appchB.shp')\n"
     ]
    }
   ],
   "source": [
    "#control_villages_appch3.to_file(outputs_path + '/control_villages_appch3/control_villages_appch3.shp')\n",
    "\n",
    "vlgs_appch3.to_file(os.path.join(outputs_path, '/control_villages_appchB/vlgs_appchB.shp'))"
   ]
  },
  {
   "attachments": {},
   "cell_type": "markdown",
   "id": "4d30856b-c546-46e1-9b61-a92a6ce9820f",
   "metadata": {},
   "source": [
    "### Approach C\n",
    "\n",
    "All villages that are within 5km of FA but not close to CFs (<10 km)"
   ]
  },
  {
   "cell_type": "code",
   "execution_count": 62,
   "id": "91481d60-097b-42b0-9756-dd8864566dd9",
   "metadata": {},
   "outputs": [
    {
     "name": "stdout",
     "output_type": "stream",
     "text": [
      "CPU times: user 1min 17s, sys: 50.3 s, total: 2min 7s\n",
      "Wall time: 4min 28s\n"
     ]
    }
   ],
   "source": [
    "%%time\n",
    "# Step 1: Simplify the geometries and create a 5km buffer around the forests \n",
    "fas_buffer_5km = fas.copy()\n",
    "# 1.1 Simplify geometry to reduce the calculations\n",
    "fas_buffer_5km['geometry'] = fas_buffer_5km['geometry'].simplify(tolerance=50, preserve_topology=True)\n",
    "# 1.2 Create buffer for the FAS\n",
    "fas_buffer_5km['geometry'] = fas_buffer_5km.geometry.buffer(5000)"
   ]
  },
  {
   "cell_type": "code",
   "execution_count": 63,
   "id": "69533df7-9d03-4f78-b883-fec280db7251",
   "metadata": {},
   "outputs": [],
   "source": [
    "fas_buffer_5km['FID'] = fas_buffer_5km['FID'].astype(str)\n",
    "fas['FID'] = fas['FID'].astype(str)"
   ]
  },
  {
   "cell_type": "code",
   "execution_count": 64,
   "id": "bf2ed09e-73ab-4292-938a-e5dde5608f6d",
   "metadata": {},
   "outputs": [],
   "source": [
    "# Step 2: Select villages within 5 km of forest areas\n",
    "villages_within_fas = gpd.sjoin(vlgs2, fas_buffer_5km, predicate='within')"
   ]
  },
  {
   "cell_type": "code",
   "execution_count": 65,
   "id": "18c30670-4ce4-4ced-97ac-e419c92fd4c8",
   "metadata": {},
   "outputs": [],
   "source": [
    "# Step 3: Select villages outside the 10 km buffer of community forests\n",
    "villages_near_community = gpd.sjoin(vlgs2, cfs_buffer_10km, predicate='within', how='right')\n",
    "villages_outside_community_buffer = vlgs2[~vlgs2['PHUMCODE'].isin(list(villages_near_community['PHUMCODE']))]"
   ]
  },
  {
   "cell_type": "code",
   "execution_count": 66,
   "id": "d4c50500-5fb5-4676-9e84-277d7700cd0f",
   "metadata": {},
   "outputs": [],
   "source": [
    "# Step 4: Combine the conditions\n",
    "control_villages_appch4 = villages_within_fas[villages_within_fas['PHUMCODE'].isin(villages_outside_community_buffer['PHUMCODE'])].reset_index(drop=True)"
   ]
  },
  {
   "cell_type": "code",
   "execution_count": 67,
   "id": "adaff276-9881-4d3b-b64e-9e4fc0a58500",
   "metadata": {},
   "outputs": [],
   "source": [
    "# Step 5: Calculate distance from the village to the each Fas whose buffer contains the village\n",
    "\n",
    "    # Merge the two geometries (villages and community forests)\n",
    "control_villages_appch4 = control_villages_appch4.merge(fas, on=\"FID\", suffixes=(\"_village\", \"_fas\"))\n",
    "\n",
    "    # Convert to GeoDataFrame \n",
    "control_villages_appch4 = gpd.GeoDataFrame(control_villages_appch4, geometry=\"geometry_village\")\n",
    "\n",
    "    # Calculate distance between both geometries \n",
    "control_villages_appch4[\"distance_to_forest\"] = control_villages_appch4[\"geometry_village\"].distance(gpd.GeoSeries(control_villages_appch4[\"geometry_fas\"], crs=control_villages_appch4.crs))"
   ]
  },
  {
   "cell_type": "code",
   "execution_count": 68,
   "id": "cf797442-849b-4470-8574-e4869a4ed5d8",
   "metadata": {},
   "outputs": [],
   "source": [
    "# Step 6: Drop duplicated villages with the shortest distance to a CF\n",
    "\n",
    "control_villages_appch4 = control_villages_appch4.sort_values(by=[\"FID\", \"distance_to_forest\"]).drop_duplicates(subset='PHUMCODE', keep='first').reset_index(drop=True)"
   ]
  },
  {
   "cell_type": "code",
   "execution_count": 69,
   "id": "502d9973-e71e-4f2c-9bbb-a3c7af9b0e6f",
   "metadata": {},
   "outputs": [],
   "source": [
    "# Select only necessary variables \n",
    "\n",
    "control_villages_appch4 = control_villages_appch4[['PHUMCODE', 'VILLAGE', 'FID', 'distance_to_forest', 'geometry_village']].copy()\n",
    "\n",
    "# Rename column to standardize\n",
    "control_villages_appch4.rename({'geometry_village':'geometry', 'distance_to_forest':'dist_fas'}, axis=1, inplace=True)"
   ]
  },
  {
   "cell_type": "code",
   "execution_count": 70,
   "id": "228d6f1c-2810-4477-9bb1-63402c633198",
   "metadata": {},
   "outputs": [],
   "source": [
    "    # Convert to GeoDataFrame \n",
    "control_villages_appch4 = gpd.GeoDataFrame(control_villages_appch4, geometry=\"geometry\", crs=vlgs.crs)"
   ]
  },
  {
   "cell_type": "markdown",
   "id": "2cf3fe9c-2426-45c3-8c88-3d24ed3fa912",
   "metadata": {},
   "source": [
    "#### Calculate distances from treatment and control villages"
   ]
  },
  {
   "cell_type": "code",
   "execution_count": 71,
   "id": "5b8c7a6c-c1e0-4466-86c5-6442abe880cd",
   "metadata": {},
   "outputs": [],
   "source": [
    "#Create a gdf with treatment and control villages only\n",
    "control_villages_appch4['Treatment'] = 0\n",
    "\n",
    "vlgs_appch4 = pd.concat([treatment_villages_gdf, control_villages_appch4])\n",
    "\n",
    "vlgs_appch4 = vlgs_appch4.reset_index(drop=True)\n",
    "\n",
    "vlgs_appch4 = vlgs_appch4[['PHUMCODE', 'VILLAGE','Treatment', 'FID', 'dist_fas', 'geometry']]"
   ]
  },
  {
   "cell_type": "code",
   "execution_count": 72,
   "id": "683cc045-cfb8-4bad-a9e6-a3ea8831da70",
   "metadata": {},
   "outputs": [
    {
     "name": "stdout",
     "output_type": "stream",
     "text": [
      "CPU times: user 19.2 s, sys: 184 ms, total: 19.4 s\n",
      "Wall time: 19.8 s\n"
     ]
    }
   ],
   "source": [
    "%%time\n",
    "# Calculate the distance between the village and the community forest\n",
    "vlgs_appch4 = calculate_distances(vlgs_appch4, cfs, 'dist_cf_m')\n",
    "\n",
    "# Calculate the distance between the village and the FAS\n",
    "vlgs_appch4 = calculate_distances(vlgs_appch4, fas, 'dist_fa_m')\n",
    "\n",
    "# Calculate the distance between the village and any type of forest\n",
    "vlgs_appch4 = calculate_distances(vlgs_appch4, forests, 'dist_forest_m')"
   ]
  },
  {
   "cell_type": "code",
   "execution_count": 73,
   "id": "7e9bae6a-71a1-4619-a96f-58d06ce76b3b",
   "metadata": {},
   "outputs": [
    {
     "data": {
      "text/html": [
       "<div>\n",
       "<style scoped>\n",
       "    .dataframe tbody tr th:only-of-type {\n",
       "        vertical-align: middle;\n",
       "    }\n",
       "\n",
       "    .dataframe tbody tr th {\n",
       "        vertical-align: top;\n",
       "    }\n",
       "\n",
       "    .dataframe thead th {\n",
       "        text-align: right;\n",
       "    }\n",
       "</style>\n",
       "<table border=\"1\" class=\"dataframe\">\n",
       "  <thead>\n",
       "    <tr style=\"text-align: right;\">\n",
       "      <th></th>\n",
       "      <th>Treatment</th>\n",
       "      <th>0</th>\n",
       "      <th>1</th>\n",
       "    </tr>\n",
       "  </thead>\n",
       "  <tbody>\n",
       "    <tr>\n",
       "      <th rowspan=\"8\" valign=\"top\">dist_cf_m</th>\n",
       "      <th>count</th>\n",
       "      <td>185.00</td>\n",
       "      <td>598.00</td>\n",
       "    </tr>\n",
       "    <tr>\n",
       "      <th>mean</th>\n",
       "      <td>41093.71</td>\n",
       "      <td>1601.89</td>\n",
       "    </tr>\n",
       "    <tr>\n",
       "      <th>std</th>\n",
       "      <td>26257.70</td>\n",
       "      <td>1364.02</td>\n",
       "    </tr>\n",
       "    <tr>\n",
       "      <th>min</th>\n",
       "      <td>10154.26</td>\n",
       "      <td>0.00</td>\n",
       "    </tr>\n",
       "    <tr>\n",
       "      <th>25%</th>\n",
       "      <td>18376.33</td>\n",
       "      <td>667.67</td>\n",
       "    </tr>\n",
       "    <tr>\n",
       "      <th>50%</th>\n",
       "      <td>34486.94</td>\n",
       "      <td>1268.91</td>\n",
       "    </tr>\n",
       "    <tr>\n",
       "      <th>75%</th>\n",
       "      <td>54050.30</td>\n",
       "      <td>2169.25</td>\n",
       "    </tr>\n",
       "    <tr>\n",
       "      <th>max</th>\n",
       "      <td>102656.87</td>\n",
       "      <td>9613.98</td>\n",
       "    </tr>\n",
       "    <tr>\n",
       "      <th rowspan=\"8\" valign=\"top\">dist_fa_m</th>\n",
       "      <th>count</th>\n",
       "      <td>185.00</td>\n",
       "      <td>598.00</td>\n",
       "    </tr>\n",
       "    <tr>\n",
       "      <th>mean</th>\n",
       "      <td>2903.38</td>\n",
       "      <td>23963.89</td>\n",
       "    </tr>\n",
       "    <tr>\n",
       "      <th>std</th>\n",
       "      <td>1359.92</td>\n",
       "      <td>20139.60</td>\n",
       "    </tr>\n",
       "    <tr>\n",
       "      <th>min</th>\n",
       "      <td>0.00</td>\n",
       "      <td>231.33</td>\n",
       "    </tr>\n",
       "    <tr>\n",
       "      <th>25%</th>\n",
       "      <td>2065.55</td>\n",
       "      <td>10051.96</td>\n",
       "    </tr>\n",
       "    <tr>\n",
       "      <th>50%</th>\n",
       "      <td>3046.42</td>\n",
       "      <td>18191.17</td>\n",
       "    </tr>\n",
       "    <tr>\n",
       "      <th>75%</th>\n",
       "      <td>4103.70</td>\n",
       "      <td>32477.26</td>\n",
       "    </tr>\n",
       "    <tr>\n",
       "      <th>max</th>\n",
       "      <td>4970.76</td>\n",
       "      <td>165894.83</td>\n",
       "    </tr>\n",
       "    <tr>\n",
       "      <th rowspan=\"8\" valign=\"top\">dist_forest_m</th>\n",
       "      <th>count</th>\n",
       "      <td>185.00</td>\n",
       "      <td>598.00</td>\n",
       "    </tr>\n",
       "    <tr>\n",
       "      <th>mean</th>\n",
       "      <td>2903.38</td>\n",
       "      <td>1565.88</td>\n",
       "    </tr>\n",
       "    <tr>\n",
       "      <th>std</th>\n",
       "      <td>1359.92</td>\n",
       "      <td>1312.31</td>\n",
       "    </tr>\n",
       "    <tr>\n",
       "      <th>min</th>\n",
       "      <td>0.00</td>\n",
       "      <td>0.00</td>\n",
       "    </tr>\n",
       "    <tr>\n",
       "      <th>25%</th>\n",
       "      <td>2065.55</td>\n",
       "      <td>667.01</td>\n",
       "    </tr>\n",
       "    <tr>\n",
       "      <th>50%</th>\n",
       "      <td>3046.42</td>\n",
       "      <td>1256.55</td>\n",
       "    </tr>\n",
       "    <tr>\n",
       "      <th>75%</th>\n",
       "      <td>4103.70</td>\n",
       "      <td>2146.96</td>\n",
       "    </tr>\n",
       "    <tr>\n",
       "      <th>max</th>\n",
       "      <td>4970.76</td>\n",
       "      <td>9613.98</td>\n",
       "    </tr>\n",
       "  </tbody>\n",
       "</table>\n",
       "</div>"
      ],
      "text/plain": [
       "Treatment                    0          1\n",
       "dist_cf_m     count     185.00     598.00\n",
       "              mean    41093.71    1601.89\n",
       "              std     26257.70    1364.02\n",
       "              min     10154.26       0.00\n",
       "              25%     18376.33     667.67\n",
       "              50%     34486.94    1268.91\n",
       "              75%     54050.30    2169.25\n",
       "              max    102656.87    9613.98\n",
       "dist_fa_m     count     185.00     598.00\n",
       "              mean     2903.38   23963.89\n",
       "              std      1359.92   20139.60\n",
       "              min         0.00     231.33\n",
       "              25%      2065.55   10051.96\n",
       "              50%      3046.42   18191.17\n",
       "              75%      4103.70   32477.26\n",
       "              max      4970.76  165894.83\n",
       "dist_forest_m count     185.00     598.00\n",
       "              mean     2903.38    1565.88\n",
       "              std      1359.92    1312.31\n",
       "              min         0.00       0.00\n",
       "              25%      2065.55     667.01\n",
       "              50%      3046.42    1256.55\n",
       "              75%      4103.70    2146.96\n",
       "              max      4970.76    9613.98"
      ]
     },
     "execution_count": 73,
     "metadata": {},
     "output_type": "execute_result"
    }
   ],
   "source": [
    "vlgs_appch4.drop(['PHUMCODE', 'FID','dist_fas'], axis=1).groupby('Treatment').describe().round(2).transpose()"
   ]
  },
  {
   "cell_type": "markdown",
   "id": "35e72f0b-b5d2-418c-bd10-a9e460596231",
   "metadata": {},
   "source": [
    "#### CPA"
   ]
  },
  {
   "cell_type": "code",
   "execution_count": 74,
   "id": "8f28eddb-bcda-4c8b-8847-8b1df066bf67",
   "metadata": {},
   "outputs": [],
   "source": [
    "# Step 1: Sjoin of villages and CPAs\n",
    "\n",
    "cpa_apprch4 = gpd.sjoin(vlgs_appch4, cpa[['CPA_id', 'CPAName_Eg', 'geometry']], predicate='within')"
   ]
  },
  {
   "cell_type": "code",
   "execution_count": 75,
   "id": "b1b0bb7a-0951-45c5-9599-5e1e5978bcaa",
   "metadata": {},
   "outputs": [],
   "source": [
    "# Step 2: Create a dummy to villages that are within CPAs\n",
    "\n",
    "vlgs_appch4['CPA_dummy'] = np.where(vlgs_appch4['PHUMCODE'].isin(cpa_apprch4['PHUMCODE']), 1, 0)"
   ]
  },
  {
   "cell_type": "code",
   "execution_count": 76,
   "id": "cd90dafd-77ab-4395-a5cb-30e6c1b16028",
   "metadata": {},
   "outputs": [],
   "source": [
    "# Step 3: Calculate distances\n",
    "\n",
    "vlgs_appch4 = calculate_distances(vlgs_appch4, cpa, 'dist_cpa_m')"
   ]
  },
  {
   "cell_type": "code",
   "execution_count": 77,
   "id": "cc996a24-cc7a-4605-ae6c-4640062217d5",
   "metadata": {},
   "outputs": [],
   "source": [
    "vlgs_appch4.rename({'FID':'FID_fas'}, axis=1, inplace=True)"
   ]
  },
  {
   "cell_type": "markdown",
   "id": "50ca32eb-5da4-40e4-9637-b9218396acfe",
   "metadata": {},
   "source": [
    "#### Export files apprch 4"
   ]
  },
  {
   "cell_type": "code",
   "execution_count": null,
   "id": "4d808a4b-ab8a-4c97-a96f-2cf7eeadae0c",
   "metadata": {},
   "outputs": [
    {
     "name": "stderr",
     "output_type": "stream",
     "text": [
      "/var/folders/rg/s4kgtnsx69j8kmy5pyg5ngrm0000gn/T/ipykernel_99535/958793083.py:3: UserWarning: Column names longer than 10 characters will be truncated when saved to ESRI Shapefile.\n",
      "  vlgs_appch4.to_file(outputs_path + '/control_villages_appchC/vlgs_appchC.shp')\n"
     ]
    }
   ],
   "source": [
    "#control_villages_appch4.to_file(outputs_path + '/control_villages_appch4/control_villages_appch4.shp')\n",
    "\n",
    "vlgs_appch4.to_file(os.path.join(outputs_path, '/control_villages_appchC/vlgs_appchC.shp'))\n",
    "\n",
    "#fas_buffer_5km.to_file(outputs_path + '/fas_buffer_5km/fas_buffer_5km.shp')\n"
   ]
  },
  {
   "cell_type": "code",
   "execution_count": null,
   "id": "989bf683-d14e-4d1b-abea-4356005548f7",
   "metadata": {},
   "outputs": [],
   "source": []
  }
 ],
 "metadata": {
  "kernelspec": {
   "display_name": "Python 3 (ipykernel)",
   "language": "python",
   "name": "python3"
  },
  "language_info": {
   "codemirror_mode": {
    "name": "ipython",
    "version": 3
   },
   "file_extension": ".py",
   "mimetype": "text/x-python",
   "name": "python",
   "nbconvert_exporter": "python",
   "pygments_lexer": "ipython3",
   "version": "3.12.4"
  }
 },
 "nbformat": 4,
 "nbformat_minor": 5
}
