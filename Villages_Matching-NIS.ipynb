{
 "cells": [
  {
   "cell_type": "markdown",
   "id": "ec5d5401-c315-413c-b809-e76e9ff911e4",
   "metadata": {},
   "source": [
    "# Import packages"
   ]
  },
  {
   "cell_type": "code",
   "execution_count": 122,
   "id": "3cac055e-ca5e-41d8-ade4-7c2734c28868",
   "metadata": {},
   "outputs": [],
   "source": [
    "import geopandas as gpd\n",
    "import matplotlib.patches as mpatches\n",
    "import contextily as ctx\n",
    "import matplotlib.pyplot as plt\n",
    "import pandas as pd\n",
    "import os\n",
    "#import functions as fn\n",
    "import rasterio\n",
    "from rasterio.plot import show\n",
    "from shapely.ops import unary_union\n",
    "from shapely.validation import make_valid\n",
    "from shapely.ops import nearest_points\n",
    "import numpy as np"
   ]
  },
  {
   "cell_type": "markdown",
   "id": "845a6d2b-27e6-4e4c-97b9-a1646f6a1432",
   "metadata": {},
   "source": [
    "### Set parameters"
   ]
  },
  {
   "cell_type": "code",
   "execution_count": 123,
   "id": "28abc389-6bc4-454d-9a8b-f91a20622319",
   "metadata": {},
   "outputs": [],
   "source": [
    "year = 2005 #2005 is the base year for the matching process \n",
    "crs =  'EPSG:3148'"
   ]
  },
  {
   "cell_type": "markdown",
   "id": "f4daf2e4-dfd8-421e-8072-1920f31c0985",
   "metadata": {},
   "source": [
    "## Load relevant files"
   ]
  },
  {
   "cell_type": "markdown",
   "id": "9a7ea008-eac4-4317-9966-62b784100028",
   "metadata": {},
   "source": [
    "# Fuzzy Matching"
   ]
  },
  {
   "cell_type": "code",
   "execution_count": 124,
   "id": "5d68194b-1f8b-4f71-b071-c003c53747e0",
   "metadata": {},
   "outputs": [],
   "source": [
    "# import needed packages\n",
    "from rapidfuzz.process import extractOne\n",
    "from thefuzz import fuzz, process"
   ]
  },
  {
   "cell_type": "code",
   "execution_count": null,
   "id": "1e32bfef-307e-4e7f-8edb-0d66afa6b336",
   "metadata": {},
   "outputs": [],
   "source": [
    "root_path = 'DISES/Proximity/data' #https://drive.google.com/open?id=18ttY1vG89yW1TT4UNwBPimaUsl0nKvqt&usp=drive_fs\n",
    "\n",
    "# define path\n",
    "os.chdir(root_path)"
   ]
  },
  {
   "cell_type": "markdown",
   "id": "97173542-a8cc-4ba3-a08b-185a9ea23ac1",
   "metadata": {},
   "source": [
    "### Import required datasets"
   ]
  },
  {
   "cell_type": "code",
   "execution_count": 126,
   "id": "8d8f4761-9e4b-413f-9693-1343ec7412a9",
   "metadata": {},
   "outputs": [],
   "source": [
    "#Updated community forests\n",
    "cfs_upd = gpd.read_file('Camboda CF updated data - Feb-2025/CF_KH_Updated_2.5.2025_EPSG32648.shp')\n",
    "\n",
    "#Villages\n",
    "vlgs = gpd.read_file('KHM-Villages/Villages.shp').to_crs(cfs_upd.crs)"
   ]
  },
  {
   "cell_type": "code",
   "execution_count": null,
   "id": "adcbd5d6-d1d1-4751-90d9-fb372a004b69",
   "metadata": {},
   "outputs": [],
   "source": [
    "#Load NIS data set\n",
    "#Parameters\n",
    "nis_year = 2006\n",
    "\n",
    "#Load NIS information\n",
    "\n",
    "nis_raw_data_path = os.path.join(f'STATA DHS/Stata NIS data/NIS_Village/NIS{nis_year}_Village_Year_Coords.xlsx')\n",
    "nis_mpi_data_path = os.path.join(f'STATA DHS/Stata NIS data/MPI_NIS/MPI_NIS_{nis_year}.xlsx')\n",
    "\n",
    "nis_path = os.path.join(root_path, nis_mpi_data_path)\n",
    "nis = pd.read_excel(nis_path)#, usecols=nis_columns)"
   ]
  },
  {
   "cell_type": "code",
   "execution_count": 128,
   "id": "b00146fb-894e-4f68-a882-620f2e85aad9",
   "metadata": {},
   "outputs": [],
   "source": [
    "#Replace village name with nis name\n",
    "vlgs = vlgs.drop('VILLAGE', axis=1)"
   ]
  },
  {
   "cell_type": "code",
   "execution_count": 129,
   "id": "af34663e-a4e0-49f6-ad3f-94331cf14b8a",
   "metadata": {},
   "outputs": [],
   "source": [
    "#Rename the village name variable to make the code run\n",
    "nis = nis.rename({'Village':'VILLAGE'}, axis=1)"
   ]
  },
  {
   "cell_type": "code",
   "execution_count": 130,
   "id": "129715cf-9505-4e7d-bb06-5b7d9f9dab3b",
   "metadata": {},
   "outputs": [],
   "source": [
    "vlgs = vlgs.merge(nis[['VillGis', 'VILLAGE']], how='left', left_on='PHUMCODE', right_on='VillGis')"
   ]
  },
  {
   "cell_type": "code",
   "execution_count": 131,
   "id": "1edc6c0f-2e53-4c71-be85-7328fe78e9d1",
   "metadata": {},
   "outputs": [
    {
     "data": {
      "text/plain": [
       "883"
      ]
     },
     "execution_count": 131,
     "metadata": {},
     "output_type": "execute_result"
    }
   ],
   "source": [
    "vlgs['VILLAGE'].isnull().sum()"
   ]
  },
  {
   "cell_type": "code",
   "execution_count": 132,
   "id": "da6f3320-2008-4531-8b2d-7a3764b4e26b",
   "metadata": {},
   "outputs": [
    {
     "data": {
      "text/plain": [
       "13087"
      ]
     },
     "execution_count": 132,
     "metadata": {},
     "output_type": "execute_result"
    }
   ],
   "source": [
    "13970-883"
   ]
  },
  {
   "cell_type": "markdown",
   "id": "b5d0738e-00e6-49f4-90a1-a29fdb71eaed",
   "metadata": {},
   "source": [
    "### CFs dataset preprocessing"
   ]
  },
  {
   "cell_type": "code",
   "execution_count": 133,
   "id": "18bd3af1-353c-4255-aa91-74eb9c42f327",
   "metadata": {},
   "outputs": [],
   "source": [
    "#Create the CF code for further identification\n",
    "cfs_upd.rename({'ObjectID':'CF_CODE'}, axis=1, inplace=True)\n",
    "# Keep only relevant columns\n",
    "cfs_upd = cfs_upd[['CF_CODE','CF_Name_En', '#Villages','Village', 'Commune', 'geometry']].copy()\n",
    "# Standarize the commune variable\n",
    "cfs_upd['Commune'] = cfs_upd['Commune'].str.lower()\n",
    "# Sort values by ObjectID\n",
    "cfs_upd.sort_values('CF_CODE', inplace=True)\n",
    "#Drop the previous index\n",
    "cfs_upd = cfs_upd.reset_index(drop=True)\n",
    "#Create a string 3 digit code to uniquely identify the CFs\n",
    "cfs_upd['CF_CODE'] = cfs_upd['CF_CODE'].astype(str).str.zfill(3)"
   ]
  },
  {
   "cell_type": "code",
   "execution_count": 134,
   "id": "98f44360-da80-4e79-85c5-d48fbdce99ec",
   "metadata": {},
   "outputs": [
    {
     "name": "stdout",
     "output_type": "stream",
     "text": [
      "There are 598 community forests in the updated dataset.\n"
     ]
    }
   ],
   "source": [
    "#Count community forests\n",
    "cfs_upd_original = cfs_upd.copy()\n",
    "print(f'There are {str(cfs_upd_original.nunique()['CF_CODE'])} community forests in the updated dataset.' )"
   ]
  },
  {
   "cell_type": "code",
   "execution_count": 135,
   "id": "5be293c2-f7c4-429c-94d5-5442b23a3d05",
   "metadata": {},
   "outputs": [
    {
     "name": "stdout",
     "output_type": "stream",
     "text": [
      "However, only 376 had a village assigned.\n"
     ]
    }
   ],
   "source": [
    "# Count only those with a village\n",
    "cfs_with_village = cfs_upd[cfs_upd['Village']!='N/A'].nunique()['CF_CODE']\n",
    "print(f'However, only {cfs_with_village} had a village assigned.' )"
   ]
  },
  {
   "cell_type": "markdown",
   "id": "9f06dc54-fa37-4d03-b744-6dc755e2c66a",
   "metadata": {},
   "source": [
    "## Split villages in multiple columns"
   ]
  },
  {
   "cell_type": "code",
   "execution_count": 136,
   "id": "436daf50-33c0-4921-bfd6-44a4f839d8e1",
   "metadata": {},
   "outputs": [],
   "source": [
    "vlg_split = cfs_upd['Village'].str.split(',', expand=True) \n",
    "vlg_split.columns = [f'Village{i+1}' for i in range(vlg_split.shape[1])]\n",
    "cfs_upd = cfs_upd.drop(columns=['Village'])"
   ]
  },
  {
   "cell_type": "code",
   "execution_count": 137,
   "id": "e081995e-543b-47b1-a6ad-69887953f34e",
   "metadata": {},
   "outputs": [],
   "source": [
    "# Concatenate with original DataFrame, dropping the old 'Values' column\n",
    "df_melted = pd.concat([cfs_upd, vlg_split], axis=1)"
   ]
  },
  {
   "cell_type": "code",
   "execution_count": 138,
   "id": "a969d85b-5e08-421f-8da6-0ac8e3df25b4",
   "metadata": {},
   "outputs": [],
   "source": [
    "# Melt the DataFrame\n",
    "df_melted = df_melted.melt(id_vars=['CF_CODE'], value_vars=['Village1', 'Village2', 'Village3', 'Village4', 'Village5', 'Village6',\n",
    "       'Village7'], var_name='vil_type', value_name='vil_melt')\n",
    "\n",
    "# Drop null values\n",
    "df_melted = df_melted[df_melted['vil_melt'].notnull()].reset_index(drop=True).copy()\n",
    "\n",
    "# lowercase village names\n",
    "df_melted['vil_melt'] = df_melted['vil_melt'].str.lower()"
   ]
  },
  {
   "cell_type": "code",
   "execution_count": 139,
   "id": "b6bb7038-f0a1-4218-abc8-cab79a1585f1",
   "metadata": {},
   "outputs": [
    {
     "name": "stdout",
     "output_type": "stream",
     "text": [
      "There are 428 unique villages in the CFs dataset\n"
     ]
    }
   ],
   "source": [
    "villages_cfs_updated_datasets = df_melted[df_melted['vil_melt'] != 'n/a'].shape[0]\n",
    "print(f'There are {villages_cfs_updated_datasets} unique villages in the CFs dataset' )"
   ]
  },
  {
   "cell_type": "code",
   "execution_count": 140,
   "id": "463e9842-ce88-4c94-abac-fee4a1f88bdc",
   "metadata": {},
   "outputs": [],
   "source": [
    "#Drop observations with no Village name\n",
    "df_melted = df_melted[df_melted['vil_melt'] != 'n/a']"
   ]
  },
  {
   "cell_type": "code",
   "execution_count": 141,
   "id": "70b8edf6-6c17-448e-95fb-96a3208f6f11",
   "metadata": {},
   "outputs": [],
   "source": [
    "#Get relevant variables from the original data set\n",
    "cfs_villages = cfs_upd.merge(df_melted, on='CF_CODE', how='left')"
   ]
  },
  {
   "cell_type": "markdown",
   "id": "a1336ac8-1542-4232-936a-407078b4f16b",
   "metadata": {},
   "source": [
    "## Match only to villages within 5Km of a CF"
   ]
  },
  {
   "cell_type": "markdown",
   "id": "7ce42d79-8038-49ec-93bd-a426ee3b6624",
   "metadata": {},
   "source": [
    "The georreferenced village dataset did not have a column containing the Commune. For that reason, a sjoin with a dataset of communes downloaded from https://data.humdata.org was performed. "
   ]
  },
  {
   "cell_type": "code",
   "execution_count": 142,
   "id": "0727708e-0fa9-4c7e-a98d-a61bc1c4ebe2",
   "metadata": {},
   "outputs": [],
   "source": [
    "#Create the 5 km buffer around the CFs\n",
    "cfs_5k = cfs_upd.copy()\n",
    "cfs_5k['geometry'] = cfs_5k['geometry'].buffer(5000)\n",
    "\n",
    "#Save the file\n",
    "cfs_5k.to_file('cfs_5k_buffer.shp')\n",
    "cfs_5k = cfs_5k.to_crs(vlgs.crs)"
   ]
  },
  {
   "cell_type": "code",
   "execution_count": 143,
   "id": "5a3dffa8-a3f8-44c0-a879-eea4e9c650a6",
   "metadata": {},
   "outputs": [],
   "source": [
    "#Sjoin the 5km buffer with the Villages data set to get only proximity villages\n",
    "villages_5k = gpd.sjoin(\n",
    "    vlgs[['PHUMCODE', 'VILLAGE', 'geometry']], \n",
    "    cfs_5k, \n",
    "    how=\"inner\", \n",
    "    predicate=\"within\"\n",
    ")"
   ]
  },
  {
   "cell_type": "code",
   "execution_count": 144,
   "id": "71e868e7-8e25-4950-bed8-450e2500109a",
   "metadata": {},
   "outputs": [
    {
     "data": {
      "text/plain": [
       "'5809 villages fall within the 5km of CFs'"
      ]
     },
     "execution_count": 144,
     "metadata": {},
     "output_type": "execute_result"
    }
   ],
   "source": [
    "f\"{villages_5k.shape[0]} villages fall within the 5km of CFs\""
   ]
  },
  {
   "cell_type": "code",
   "execution_count": 145,
   "id": "15f1ce51-bb7d-4f40-9e81-6bfde49e1f09",
   "metadata": {},
   "outputs": [
    {
     "name": "stderr",
     "output_type": "stream",
     "text": [
      "/var/folders/wn/vzyjwy2x00q4stf523pr30jw0000gn/T/ipykernel_12908/2468266793.py:2: UserWarning: Column names longer than 10 characters will be truncated when saved to ESRI Shapefile.\n",
      "  villages_5k.to_file('villages_5k.shp')\n",
      "/Users/Daniel/miniconda3/envs/pymc_env/lib/python3.12/site-packages/pyogrio/raw.py:723: RuntimeWarning: Normalized/laundered field name: 'index_right' to 'index_righ'\n",
      "  ogr_write(\n"
     ]
    }
   ],
   "source": [
    "#Save the shapefile of villages within 5km\n",
    "villages_5k.to_file('villages_5k.shp') "
   ]
  },
  {
   "cell_type": "code",
   "execution_count": 146,
   "id": "bd91adc8-fc88-4967-be40-fd217aca3293",
   "metadata": {},
   "outputs": [],
   "source": [
    "#Simplify the name for the workflow\n",
    "df = villages_5k.copy()"
   ]
  },
  {
   "cell_type": "code",
   "execution_count": 147,
   "id": "250d626d-1122-4c93-a8cb-47d78a582c35",
   "metadata": {},
   "outputs": [],
   "source": [
    "#keep only the necessary columns\n",
    "df = df[['PHUMCODE', 'VILLAGE', 'geometry', 'CF_CODE']]"
   ]
  },
  {
   "cell_type": "markdown",
   "id": "36cd832c-7673-41f1-8ed1-e043d01386e9",
   "metadata": {},
   "source": [
    "### Fuzzy matching"
   ]
  },
  {
   "cell_type": "code",
   "execution_count": 148,
   "id": "85626dfc-300c-487c-8792-262e5ff7e14d",
   "metadata": {},
   "outputs": [],
   "source": [
    "#The fuzzy matching is done with this 2 CFs. \n",
    "#df #All villages within 5 km of CFs\n",
    "#cfs_villages #All villages in CFs updates dataset with their corresponding CFs"
   ]
  },
  {
   "cell_type": "code",
   "execution_count": 149,
   "id": "df629f3c-308c-480b-a379-0507f880712c",
   "metadata": {},
   "outputs": [],
   "source": [
    "#Create the 2 dfs for matching\n",
    "df1 = df[['CF_CODE', 'PHUMCODE', 'VILLAGE']]\n",
    "\n",
    "df2 = cfs_villages[['CF_CODE', 'vil_melt']]\n",
    "\n",
    "df2 = df2[~df2['vil_melt'].isnull()]"
   ]
  },
  {
   "cell_type": "code",
   "execution_count": 150,
   "id": "e1877f0e-d3de-48a1-9ba2-7f1d971e2685",
   "metadata": {},
   "outputs": [
    {
     "name": "stderr",
     "output_type": "stream",
     "text": [
      "/var/folders/wn/vzyjwy2x00q4stf523pr30jw0000gn/T/ipykernel_12908/1060850753.py:1: SettingWithCopyWarning: \n",
      "A value is trying to be set on a copy of a slice from a DataFrame.\n",
      "Try using .loc[row_indexer,col_indexer] = value instead\n",
      "\n",
      "See the caveats in the documentation: https://pandas.pydata.org/pandas-docs/stable/user_guide/indexing.html#returning-a-view-versus-a-copy\n",
      "  df1['VILLAGE'] = df1['VILLAGE'].str.lower()\n"
     ]
    }
   ],
   "source": [
    "df1['VILLAGE'] = df1['VILLAGE'].str.lower()"
   ]
  },
  {
   "cell_type": "code",
   "execution_count": 151,
   "id": "0f2016e7-36d6-42d2-a68c-ed955cf0c3e2",
   "metadata": {},
   "outputs": [],
   "source": [
    "#Merge the 2 dataframes with CF villages on the left on the left\n",
    "df3 = df2.merge(df1, on='CF_CODE', how='left')"
   ]
  },
  {
   "cell_type": "code",
   "execution_count": 152,
   "id": "ab740774-e44e-4386-ae80-24d5d7b0c82a",
   "metadata": {},
   "outputs": [],
   "source": [
    "df3[\"similarity_score\"] = df3.apply(lambda row: fuzz.ratio(row[\"VILLAGE\"], row[\"vil_melt\"]), axis=1)"
   ]
  },
  {
   "cell_type": "code",
   "execution_count": 153,
   "id": "3ff3224e-db48-4765-b94f-c267f11dcbba",
   "metadata": {},
   "outputs": [],
   "source": [
    "df_best_matches = df3.loc[\n",
    "    df3.groupby([\"CF_CODE\", \"vil_melt\"])[\"similarity_score\"].idxmax()\n",
    "].copy()"
   ]
  },
  {
   "cell_type": "code",
   "execution_count": 154,
   "id": "ec81ff39-1b53-4049-b381-043d53a1cd41",
   "metadata": {},
   "outputs": [
    {
     "data": {
      "text/html": [
       "<div>\n",
       "<style scoped>\n",
       "    .dataframe tbody tr th:only-of-type {\n",
       "        vertical-align: middle;\n",
       "    }\n",
       "\n",
       "    .dataframe tbody tr th {\n",
       "        vertical-align: top;\n",
       "    }\n",
       "\n",
       "    .dataframe thead th {\n",
       "        text-align: right;\n",
       "    }\n",
       "</style>\n",
       "<table border=\"1\" class=\"dataframe\">\n",
       "  <thead>\n",
       "    <tr style=\"text-align: right;\">\n",
       "      <th></th>\n",
       "      <th>CF_CODE</th>\n",
       "      <th>vil_melt</th>\n",
       "      <th>PHUMCODE</th>\n",
       "      <th>VILLAGE</th>\n",
       "      <th>similarity_score</th>\n",
       "    </tr>\n",
       "  </thead>\n",
       "  <tbody>\n",
       "    <tr>\n",
       "      <th>1284</th>\n",
       "      <td>184</td>\n",
       "      <td>roluos</td>\n",
       "      <td>10040602.0</td>\n",
       "      <td>srae roluos</td>\n",
       "      <td>71</td>\n",
       "    </tr>\n",
       "    <tr>\n",
       "      <th>1316</th>\n",
       "      <td>196</td>\n",
       "      <td>kampong pou</td>\n",
       "      <td>13020801.0</td>\n",
       "      <td>kampong chrey</td>\n",
       "      <td>67</td>\n",
       "    </tr>\n",
       "    <tr>\n",
       "      <th>1749</th>\n",
       "      <td>218</td>\n",
       "      <td>ou ba krang</td>\n",
       "      <td>15020111.0</td>\n",
       "      <td>kaoh krasang</td>\n",
       "      <td>61</td>\n",
       "    </tr>\n",
       "    <tr>\n",
       "      <th>3772</th>\n",
       "      <td>616</td>\n",
       "      <td>trapaeng traeng</td>\n",
       "      <td>10060201.0</td>\n",
       "      <td>changkrang</td>\n",
       "      <td>56</td>\n",
       "    </tr>\n",
       "    <tr>\n",
       "      <th>3255</th>\n",
       "      <td>462</td>\n",
       "      <td>svay chum</td>\n",
       "      <td>10030106.0</td>\n",
       "      <td>stueng thum</td>\n",
       "      <td>48</td>\n",
       "    </tr>\n",
       "    <tr>\n",
       "      <th>2270</th>\n",
       "      <td>272</td>\n",
       "      <td>phum buon</td>\n",
       "      <td>16040503.0</td>\n",
       "      <td>ou plong</td>\n",
       "      <td>47</td>\n",
       "    </tr>\n",
       "    <tr>\n",
       "      <th>2875</th>\n",
       "      <td>372</td>\n",
       "      <td>ou sandan</td>\n",
       "      <td>15031108.0</td>\n",
       "      <td>choar mean</td>\n",
       "      <td>42</td>\n",
       "    </tr>\n",
       "    <tr>\n",
       "      <th>3397</th>\n",
       "      <td>501</td>\n",
       "      <td>thmei</td>\n",
       "      <td>5060104.0</td>\n",
       "      <td>chambak</td>\n",
       "      <td>33</td>\n",
       "    </tr>\n",
       "    <tr>\n",
       "      <th>3251</th>\n",
       "      <td>462</td>\n",
       "      <td>russey keo</td>\n",
       "      <td>10030106.0</td>\n",
       "      <td>stueng thum</td>\n",
       "      <td>27</td>\n",
       "    </tr>\n",
       "    <tr>\n",
       "      <th>675</th>\n",
       "      <td>094</td>\n",
       "      <td>kyov</td>\n",
       "      <td>NaN</td>\n",
       "      <td>NaN</td>\n",
       "      <td>0</td>\n",
       "    </tr>\n",
       "  </tbody>\n",
       "</table>\n",
       "</div>"
      ],
      "text/plain": [
       "     CF_CODE         vil_melt    PHUMCODE        VILLAGE  similarity_score\n",
       "1284     184           roluos  10040602.0    srae roluos                71\n",
       "1316     196      kampong pou  13020801.0  kampong chrey                67\n",
       "1749     218      ou ba krang  15020111.0   kaoh krasang                61\n",
       "3772     616  trapaeng traeng  10060201.0     changkrang                56\n",
       "3255     462        svay chum  10030106.0    stueng thum                48\n",
       "2270     272        phum buon  16040503.0       ou plong                47\n",
       "2875     372        ou sandan  15031108.0     choar mean                42\n",
       "3397     501            thmei   5060104.0        chambak                33\n",
       "3251     462       russey keo  10030106.0    stueng thum                27\n",
       "675      094             kyov         NaN            NaN                 0"
      ]
     },
     "execution_count": 154,
     "metadata": {},
     "output_type": "execute_result"
    }
   ],
   "source": [
    "df_best_matches[df_best_matches['similarity_score']<80].sample(10).sort_values('similarity_score', ascending=False)"
   ]
  },
  {
   "cell_type": "code",
   "execution_count": 156,
   "id": "b0503b52-8c89-468e-ba2b-53e00951a49b",
   "metadata": {},
   "outputs": [
    {
     "data": {
      "image/png": "[encoded data removed]",
      "text/plain": [
       "<Figure size 1000x600 with 1 Axes>"
      ]
     },
     "metadata": {},
     "output_type": "display_data"
    }
   ],
   "source": [
    "import matplotlib.pyplot as plt\n",
    "\n",
    "# Plot histogram\n",
    "plt.figure(figsize=(10, 6))\n",
    "df_best_matches['similarity_score'].hist(bins=100, edgecolor='black')\n",
    "\n",
    "# Add vertical line at 70\n",
    "plt.axvline(x=60, color='red', linestyle='--', linewidth=1.5, label='Threshold = 60')\n",
    "\n",
    "# Improve appearance\n",
    "plt.title('Distribution of Similarity Scores', fontsize=16, weight='bold')\n",
    "plt.xlabel('Similarity Score', fontsize=12)\n",
    "plt.ylabel('Frequency', fontsize=12)\n",
    "plt.grid(axis='y', linestyle='--', alpha=0.7)\n",
    "plt.legend()\n",
    "plt.show()"
   ]
  },
  {
   "cell_type": "code",
   "execution_count": 157,
   "id": "46660930-9869-4473-a40a-4cbf3ac6b139",
   "metadata": {},
   "outputs": [],
   "source": [
    "#Only similarity scores higher that 60\n",
    "df3 = df_best_matches[df_best_matches['similarity_score'] > 60]"
   ]
  },
  {
   "cell_type": "code",
   "execution_count": 158,
   "id": "239ad103-ab99-4c03-82a4-08c507f354ea",
   "metadata": {},
   "outputs": [
    {
     "data": {
      "text/plain": [
       "324"
      ]
     },
     "execution_count": 158,
     "metadata": {},
     "output_type": "execute_result"
    }
   ],
   "source": [
    "df3['PHUMCODE'].nunique()"
   ]
  },
  {
   "cell_type": "code",
   "execution_count": 159,
   "id": "26ebe520-c7dc-4ebc-b425-8d691543846d",
   "metadata": {},
   "outputs": [
    {
     "data": {
      "text/plain": [
       "298"
      ]
     },
     "execution_count": 159,
     "metadata": {},
     "output_type": "execute_result"
    }
   ],
   "source": [
    "df3['CF_CODE'].nunique()"
   ]
  },
  {
   "cell_type": "code",
   "execution_count": 72,
   "id": "53300bb8-6dfb-413b-9204-af46a61e2966",
   "metadata": {},
   "outputs": [],
   "source": [
    "df3 = df3[['CF_CODE', 'PHUMCODE', 'VILLAGE']]"
   ]
  },
  {
   "cell_type": "code",
   "execution_count": 73,
   "id": "e953f4c9-f6a5-43a5-8480-92fc84e389a4",
   "metadata": {},
   "outputs": [],
   "source": [
    "df3 = df3.merge(vlgs[['PHUMCODE', 'geometry']], on='PHUMCODE', how='left')"
   ]
  },
  {
   "cell_type": "code",
   "execution_count": 74,
   "id": "ac2664a6-93b4-4c84-9fb3-a80add5cfc2b",
   "metadata": {},
   "outputs": [],
   "source": [
    "gdf = gpd.GeoDataFrame(df3)"
   ]
  },
  {
   "cell_type": "code",
   "execution_count": 75,
   "id": "c8f508f7-4b4a-47d8-a2b7-a2044612a225",
   "metadata": {},
   "outputs": [],
   "source": [
    "#Save the matching villages gdf as a shapefile\n",
    "#gdf.to_file('matched_villages.shp')"
   ]
  },
  {
   "cell_type": "markdown",
   "id": "dec04591-b3e7-4a6b-8ade-90572d1c4b7b",
   "metadata": {},
   "source": [
    "## Finding the \"nearest\" villages for non-matched CFs"
   ]
  },
  {
   "cell_type": "code",
   "execution_count": 76,
   "id": "0f3a5463-cd1b-4ff9-a9bf-8ba2cdc90941",
   "metadata": {},
   "outputs": [],
   "source": [
    "#Get all CFs that have no matching village so far\n",
    "cfs1 = cfs_upd[~cfs_upd['CF_CODE'].isin(df3['CF_CODE'])]"
   ]
  },
  {
   "cell_type": "code",
   "execution_count": 77,
   "id": "e40b177f-1a8f-412e-9594-63f3e32763c2",
   "metadata": {},
   "outputs": [],
   "source": [
    "def find_closest_phumcode(gdf1, gdf2):\n",
    "    \"\"\"\n",
    "    Find the PHUMCODE of the closest point from gdf2 to each polygon in gdf1.\n",
    "\n",
    "    Parameters:\n",
    "    gdf1 (GeoDataFrame): A GeoDataFrame containing polygon geometries.\n",
    "    gdf2 (GeoDataFrame): A GeoDataFrame containing point geometries with a 'PHUMCODE' column.\n",
    "\n",
    "    Returns:\n",
    "    GeoDataFrame: The original gdf1 with an additional column 'closest_phumcode' \n",
    "                  containing the PHUMCODE of the nearest point from gdf2.\n",
    "    \n",
    "    Example:\n",
    "    --------\n",
    "    # Load example data\n",
    "    gdf1 = gpd.read_file('polygons.shp')\n",
    "    gdf2 = gpd.read_file('points.shp')\n",
    "\n",
    "    # Find closest PHUMCODE\n",
    "    result = find_closest_phumcode(gdf1, gdf2)\n",
    "    \"\"\"\n",
    "    closest_phumcodes = []\n",
    "    for _, polygon in gdf1.iterrows():\n",
    "        # Find the index of the nearest point\n",
    "        nearest_geom = gdf2.geometry.distance(polygon.geometry).idxmin()\n",
    "        # Get the corresponding PHUMCODE\n",
    "        closest_phumcode = gdf2.loc[nearest_geom, 'PHUMCODE']\n",
    "        closest_phumcodes.append(closest_phumcode)\n",
    "    \n",
    "    # Save the closest PHUMCODE to gdf1\n",
    "    gdf1['PHUMCODE'] = closest_phumcodes\n",
    "    return gdf1\n"
   ]
  },
  {
   "cell_type": "code",
   "execution_count": 78,
   "id": "752898a1-c906-4465-8afd-1f35cdd664c1",
   "metadata": {},
   "outputs": [
    {
     "name": "stderr",
     "output_type": "stream",
     "text": [
      "/Users/Daniel/miniconda3/envs/pymc_env/lib/python3.12/site-packages/geopandas/geodataframe.py:1819: SettingWithCopyWarning: \n",
      "A value is trying to be set on a copy of a slice from a DataFrame.\n",
      "Try using .loc[row_indexer,col_indexer] = value instead\n",
      "\n",
      "See the caveats in the documentation: https://pandas.pydata.org/pandas-docs/stable/user_guide/indexing.html#returning-a-view-versus-a-copy\n",
      "  super().__setitem__(key, value)\n"
     ]
    }
   ],
   "source": [
    "# Find closest PHUMCODE\n",
    "result = find_closest_phumcode(cfs1, vlgs)"
   ]
  },
  {
   "cell_type": "code",
   "execution_count": 79,
   "id": "500d6470-5276-4b3c-80ee-0813509ea34e",
   "metadata": {},
   "outputs": [],
   "source": [
    "nearest_villages = result[['CF_CODE', 'PHUMCODE']].merge(vlgs, on='PHUMCODE', how='left')"
   ]
  },
  {
   "cell_type": "code",
   "execution_count": 80,
   "id": "847155bc-f271-48e7-a148-02a37fe89602",
   "metadata": {},
   "outputs": [],
   "source": [
    "#Unify format\n",
    "nearest_villages['VILLAGE'] = nearest_villages['VILLAGE'].str.lower()"
   ]
  },
  {
   "cell_type": "code",
   "execution_count": 81,
   "id": "f5aae08a-7757-4518-ad71-7921878672e5",
   "metadata": {},
   "outputs": [],
   "source": [
    "#gpd.GeoDataFrame(nearest_villages).to_file('closest_villages.shp')"
   ]
  },
  {
   "cell_type": "markdown",
   "id": "242c7d34-ab55-4ab9-9685-686cbfb8a044",
   "metadata": {},
   "source": [
    "# A unified treatment villages dataset"
   ]
  },
  {
   "cell_type": "code",
   "execution_count": 82,
   "id": "0a50c1c1-181b-4a6a-b6fb-67a64042fbc3",
   "metadata": {},
   "outputs": [],
   "source": [
    "gdf['Criterion'] = 'Matching'"
   ]
  },
  {
   "cell_type": "code",
   "execution_count": 83,
   "id": "f97d1050-9c71-4ea6-a380-1ae0a4d4c82d",
   "metadata": {},
   "outputs": [],
   "source": [
    "#Simpllified nearest\n",
    "nearest_villages['Criterion'] = 'Nearest'\n",
    "nearest_villages = nearest_villages[gdf.columns]"
   ]
  },
  {
   "cell_type": "code",
   "execution_count": 84,
   "id": "65d28c1c-ab49-4f9b-93be-785a09af0d36",
   "metadata": {},
   "outputs": [],
   "source": [
    "treatment = pd.concat([gdf, nearest_villages])"
   ]
  },
  {
   "cell_type": "code",
   "execution_count": 85,
   "id": "cb7ec775-93c3-4701-93e4-21f2858bb269",
   "metadata": {},
   "outputs": [
    {
     "data": {
      "text/plain": [
       "598"
      ]
     },
     "execution_count": 85,
     "metadata": {},
     "output_type": "execute_result"
    }
   ],
   "source": [
    "treatment['CF_CODE'].nunique()"
   ]
  },
  {
   "cell_type": "code",
   "execution_count": 86,
   "id": "eb482343-0969-4c0c-92bd-9092bb00ecc0",
   "metadata": {},
   "outputs": [],
   "source": [
    "gpd.GeoDataFrame(treatment.drop_duplicates('CF_CODE')).to_file('treatment_villages.shp')"
   ]
  },
  {
   "cell_type": "code",
   "execution_count": null,
   "id": "0adbd7af-d1ba-4c0e-a41a-4341f068938e",
   "metadata": {},
   "outputs": [],
   "source": []
  }
 ],
 "metadata": {
  "kernelspec": {
   "display_name": "Python 3 (ipykernel)",
   "language": "python",
   "name": "python3"
  },
  "language_info": {
   "codemirror_mode": {
    "name": "ipython",
    "version": 3
   },
   "file_extension": ".py",
   "mimetype": "text/x-python",
   "name": "python",
   "nbconvert_exporter": "python",
   "pygments_lexer": "ipython3",
   "version": "3.12.4"
  }
 },
 "nbformat": 4,
 "nbformat_minor": 5
}
